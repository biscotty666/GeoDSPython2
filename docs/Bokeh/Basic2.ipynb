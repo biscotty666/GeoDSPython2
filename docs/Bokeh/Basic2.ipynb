{
 "cells": [
  {
   "cell_type": "markdown",
   "id": "995a927b-5d39-4c99-87d4-bfceb041b8b2",
   "metadata": {},
   "source": [
    "# Bokeh intro 2"
   ]
  },
  {
   "cell_type": "markdown",
   "id": "1a9f9481-0aee-4f7c-8546-bdf388f620b1",
   "metadata": {},
   "source": [
    "# Vectorizing glyph properties"
   ]
  },
  {
   "cell_type": "code",
   "execution_count": 52,
   "id": "29088e70-2224-4cb2-9454-3401a4c72ea1",
   "metadata": {},
   "outputs": [
    {
     "data": {
      "text/html": [
       "    <style>\n",
       "        .bk-notebook-logo {\n",
       "            display: block;\n",
       "            width: 20px;\n",
       "            height: 20px;\n",
       "            background-image: url(data:image/png;base64,iVBORw0KGgoAAAANSUhEUgAAABQAAAAUCAYAAACNiR0NAAAABHNCSVQICAgIfAhkiAAAAAlwSFlzAAALEgAACxIB0t1+/AAAABx0RVh0U29mdHdhcmUAQWRvYmUgRmlyZXdvcmtzIENTNui8sowAAAOkSURBVDiNjZRtaJVlGMd/1/08zzln5zjP1LWcU9N0NkN8m2CYjpgQYQXqSs0I84OLIC0hkEKoPtiH3gmKoiJDU7QpLgoLjLIQCpEsNJ1vqUOdO7ppbuec5+V+rj4ctwzd8IIbbi6u+8f1539dt3A78eXC7QizUF7gyV1fD1Yqg4JWz84yffhm0qkFqBogB9rM8tZdtwVsPUhWhGcFJngGeWrPzHm5oaMmkfEg1usvLFyc8jLRqDOMru7AyC8saQr7GG7f5fvDeH7Ej8CM66nIF+8yngt6HWaKh7k49Soy9nXurCi1o3qUbS3zWfrYeQDTB/Qj6kX6Ybhw4B+bOYoLKCC9H3Nu/leUTZ1JdRWkkn2ldcCamzrcf47KKXdAJllSlxAOkRgyHsGC/zRday5Qld9DyoM4/q/rUoy/CXh3jzOu3bHUVZeU+DEn8FInkPBFlu3+nW3Nw0mk6vCDiWg8CeJaxEwuHS3+z5RgY+YBR6V1Z1nxSOfoaPa4LASWxxdNp+VWTk7+4vzaou8v8PN+xo+KY2xsw6une2frhw05CTYOmQvsEhjhWjn0bmXPjpE1+kplmmkP3suftwTubK9Vq22qKmrBhpY4jvd5afdRA3wGjFAgcnTK2s4hY0/GPNIb0nErGMCRxWOOX64Z8RAC4oCXdklmEvcL8o0BfkNK4lUg9HTl+oPlQxdNo3Mg4Nv175e/1LDGzZen30MEjRUtmXSfiTVu1kK8W4txyV6BMKlbgk3lMwYCiusNy9fVfvvwMxv8Ynl6vxoByANLTWplvuj/nF9m2+PDtt1eiHPBr1oIfhCChQMBw6Aw0UulqTKZdfVvfG7VcfIqLG9bcldL/+pdWTLxLUy8Qq38heUIjh4XlzZxzQm19lLFlr8vdQ97rjZVOLf8nclzckbcD4wxXMidpX30sFd37Fv/GtwwhzhxGVAprjbg0gCAEeIgwCZyTV2Z1REEW8O4py0wsjeloKoMr6iCY6dP92H6Vw/oTyICIthibxjm/DfN9lVz8IqtqKYLUXfoKVMVQVVJOElGjrnnUt9T9wbgp8AyYKaGlqingHZU/uG2NTZSVqwHQTWkx9hxjkpWDaCg6Ckj5qebgBVbT3V3NNXMSiWSDdGV3hrtzla7J+duwPOToIg42ChPQOQjspnSlp1V+Gjdged7+8UN5CRAV7a5EdFNwCjEaBR27b3W890TE7g24NAP/mMDXRWrGoFPQI9ls/MWO2dWFAar/xcOIImbbpA3zgAAAABJRU5ErkJggg==);\n",
       "        }\n",
       "    </style>\n",
       "    <div>\n",
       "        <a href=\"https://bokeh.org\" target=\"_blank\" class=\"bk-notebook-logo\"></a>\n",
       "        <span id=\"a35fa5d8-bcf2-4b13-9960-95d3329d680d\">Loading BokehJS ...</span>\n",
       "    </div>\n"
      ]
     },
     "metadata": {},
     "output_type": "display_data"
    },
    {
     "data": {
      "application/javascript": [
       "'use strict';\n",
       "(function(root) {\n",
       "  function now() {\n",
       "    return new Date();\n",
       "  }\n",
       "\n",
       "  const force = true;\n",
       "\n",
       "  if (typeof root._bokeh_onload_callbacks === \"undefined\" || force === true) {\n",
       "    root._bokeh_onload_callbacks = [];\n",
       "    root._bokeh_is_loading = undefined;\n",
       "  }\n",
       "\n",
       "const JS_MIME_TYPE = 'application/javascript';\n",
       "  const HTML_MIME_TYPE = 'text/html';\n",
       "  const EXEC_MIME_TYPE = 'application/vnd.bokehjs_exec.v0+json';\n",
       "  const CLASS_NAME = 'output_bokeh rendered_html';\n",
       "\n",
       "  /**\n",
       "   * Render data to the DOM node\n",
       "   */\n",
       "  function render(props, node) {\n",
       "    const script = document.createElement(\"script\");\n",
       "    node.appendChild(script);\n",
       "  }\n",
       "\n",
       "  /**\n",
       "   * Handle when an output is cleared or removed\n",
       "   */\n",
       "  function handleClearOutput(event, handle) {\n",
       "    function drop(id) {\n",
       "      const view = Bokeh.index.get_by_id(id)\n",
       "      if (view != null) {\n",
       "        view.model.document.clear()\n",
       "        Bokeh.index.delete(view)\n",
       "      }\n",
       "    }\n",
       "\n",
       "    const cell = handle.cell;\n",
       "\n",
       "    const id = cell.output_area._bokeh_element_id;\n",
       "    const server_id = cell.output_area._bokeh_server_id;\n",
       "\n",
       "    // Clean up Bokeh references\n",
       "    if (id != null) {\n",
       "      drop(id)\n",
       "    }\n",
       "\n",
       "    if (server_id !== undefined) {\n",
       "      // Clean up Bokeh references\n",
       "      const cmd_clean = \"from bokeh.io.state import curstate; print(curstate().uuid_to_server['\" + server_id + \"'].get_sessions()[0].document.roots[0]._id)\";\n",
       "      cell.notebook.kernel.execute(cmd_clean, {\n",
       "        iopub: {\n",
       "          output: function(msg) {\n",
       "            const id = msg.content.text.trim()\n",
       "            drop(id)\n",
       "          }\n",
       "        }\n",
       "      });\n",
       "      // Destroy server and session\n",
       "      const cmd_destroy = \"import bokeh.io.notebook as ion; ion.destroy_server('\" + server_id + \"')\";\n",
       "      cell.notebook.kernel.execute(cmd_destroy);\n",
       "    }\n",
       "  }\n",
       "\n",
       "  /**\n",
       "   * Handle when a new output is added\n",
       "   */\n",
       "  function handleAddOutput(event, handle) {\n",
       "    const output_area = handle.output_area;\n",
       "    const output = handle.output;\n",
       "\n",
       "    // limit handleAddOutput to display_data with EXEC_MIME_TYPE content only\n",
       "    if ((output.output_type != \"display_data\") || (!Object.prototype.hasOwnProperty.call(output.data, EXEC_MIME_TYPE))) {\n",
       "      return\n",
       "    }\n",
       "\n",
       "    const toinsert = output_area.element.find(\".\" + CLASS_NAME.split(' ')[0]);\n",
       "\n",
       "    if (output.metadata[EXEC_MIME_TYPE][\"id\"] !== undefined) {\n",
       "      toinsert[toinsert.length - 1].firstChild.textContent = output.data[JS_MIME_TYPE];\n",
       "      // store reference to embed id on output_area\n",
       "      output_area._bokeh_element_id = output.metadata[EXEC_MIME_TYPE][\"id\"];\n",
       "    }\n",
       "    if (output.metadata[EXEC_MIME_TYPE][\"server_id\"] !== undefined) {\n",
       "      const bk_div = document.createElement(\"div\");\n",
       "      bk_div.innerHTML = output.data[HTML_MIME_TYPE];\n",
       "      const script_attrs = bk_div.children[0].attributes;\n",
       "      for (let i = 0; i < script_attrs.length; i++) {\n",
       "        toinsert[toinsert.length - 1].firstChild.setAttribute(script_attrs[i].name, script_attrs[i].value);\n",
       "        toinsert[toinsert.length - 1].firstChild.textContent = bk_div.children[0].textContent\n",
       "      }\n",
       "      // store reference to server id on output_area\n",
       "      output_area._bokeh_server_id = output.metadata[EXEC_MIME_TYPE][\"server_id\"];\n",
       "    }\n",
       "  }\n",
       "\n",
       "  function register_renderer(events, OutputArea) {\n",
       "\n",
       "    function append_mime(data, metadata, element) {\n",
       "      // create a DOM node to render to\n",
       "      const toinsert = this.create_output_subarea(\n",
       "        metadata,\n",
       "        CLASS_NAME,\n",
       "        EXEC_MIME_TYPE\n",
       "      );\n",
       "      this.keyboard_manager.register_events(toinsert);\n",
       "      // Render to node\n",
       "      const props = {data: data, metadata: metadata[EXEC_MIME_TYPE]};\n",
       "      render(props, toinsert[toinsert.length - 1]);\n",
       "      element.append(toinsert);\n",
       "      return toinsert\n",
       "    }\n",
       "\n",
       "    /* Handle when an output is cleared or removed */\n",
       "    events.on('clear_output.CodeCell', handleClearOutput);\n",
       "    events.on('delete.Cell', handleClearOutput);\n",
       "\n",
       "    /* Handle when a new output is added */\n",
       "    events.on('output_added.OutputArea', handleAddOutput);\n",
       "\n",
       "    /**\n",
       "     * Register the mime type and append_mime function with output_area\n",
       "     */\n",
       "    OutputArea.prototype.register_mime_type(EXEC_MIME_TYPE, append_mime, {\n",
       "      /* Is output safe? */\n",
       "      safe: true,\n",
       "      /* Index of renderer in `output_area.display_order` */\n",
       "      index: 0\n",
       "    });\n",
       "  }\n",
       "\n",
       "  // register the mime type if in Jupyter Notebook environment and previously unregistered\n",
       "  if (root.Jupyter !== undefined) {\n",
       "    const events = require('base/js/events');\n",
       "    const OutputArea = require('notebook/js/outputarea').OutputArea;\n",
       "\n",
       "    if (OutputArea.prototype.mime_types().indexOf(EXEC_MIME_TYPE) == -1) {\n",
       "      register_renderer(events, OutputArea);\n",
       "    }\n",
       "  }\n",
       "  if (typeof (root._bokeh_timeout) === \"undefined\" || force === true) {\n",
       "    root._bokeh_timeout = Date.now() + 5000;\n",
       "    root._bokeh_failed_load = false;\n",
       "  }\n",
       "\n",
       "  const NB_LOAD_WARNING = {'data': {'text/html':\n",
       "     \"<div style='background-color: #fdd'>\\n\"+\n",
       "     \"<p>\\n\"+\n",
       "     \"BokehJS does not appear to have successfully loaded. If loading BokehJS from CDN, this \\n\"+\n",
       "     \"may be due to a slow or bad network connection. Possible fixes:\\n\"+\n",
       "     \"</p>\\n\"+\n",
       "     \"<ul>\\n\"+\n",
       "     \"<li>re-rerun `output_notebook()` to attempt to load from CDN again, or</li>\\n\"+\n",
       "     \"<li>use INLINE resources instead, as so:</li>\\n\"+\n",
       "     \"</ul>\\n\"+\n",
       "     \"<code>\\n\"+\n",
       "     \"from bokeh.resources import INLINE\\n\"+\n",
       "     \"output_notebook(resources=INLINE)\\n\"+\n",
       "     \"</code>\\n\"+\n",
       "     \"</div>\"}};\n",
       "\n",
       "  function display_loaded(error = null) {\n",
       "    const el = document.getElementById(\"a35fa5d8-bcf2-4b13-9960-95d3329d680d\");\n",
       "    if (el != null) {\n",
       "      const html = (() => {\n",
       "        if (typeof root.Bokeh === \"undefined\") {\n",
       "          if (error == null) {\n",
       "            return \"BokehJS is loading ...\";\n",
       "          } else {\n",
       "            return \"BokehJS failed to load.\";\n",
       "          }\n",
       "        } else {\n",
       "          const prefix = `BokehJS ${root.Bokeh.version}`;\n",
       "          if (error == null) {\n",
       "            return `${prefix} successfully loaded.`;\n",
       "          } else {\n",
       "            return `${prefix} <b>encountered errors</b> while loading and may not function as expected.`;\n",
       "          }\n",
       "        }\n",
       "      })();\n",
       "      el.innerHTML = html;\n",
       "\n",
       "      if (error != null) {\n",
       "        const wrapper = document.createElement(\"div\");\n",
       "        wrapper.style.overflow = \"auto\";\n",
       "        wrapper.style.height = \"5em\";\n",
       "        wrapper.style.resize = \"vertical\";\n",
       "        const content = document.createElement(\"div\");\n",
       "        content.style.fontFamily = \"monospace\";\n",
       "        content.style.whiteSpace = \"pre-wrap\";\n",
       "        content.style.backgroundColor = \"rgb(255, 221, 221)\";\n",
       "        content.textContent = error.stack ?? error.toString();\n",
       "        wrapper.append(content);\n",
       "        el.append(wrapper);\n",
       "      }\n",
       "    } else if (Date.now() < root._bokeh_timeout) {\n",
       "      setTimeout(() => display_loaded(error), 100);\n",
       "    }\n",
       "  }\n",
       "\n",
       "  function run_callbacks() {\n",
       "    try {\n",
       "      root._bokeh_onload_callbacks.forEach(function(callback) {\n",
       "        if (callback != null)\n",
       "          callback();\n",
       "      });\n",
       "    } finally {\n",
       "      delete root._bokeh_onload_callbacks\n",
       "    }\n",
       "    console.debug(\"Bokeh: all callbacks have finished\");\n",
       "  }\n",
       "\n",
       "  function load_libs(css_urls, js_urls, callback) {\n",
       "    if (css_urls == null) css_urls = [];\n",
       "    if (js_urls == null) js_urls = [];\n",
       "\n",
       "    root._bokeh_onload_callbacks.push(callback);\n",
       "    if (root._bokeh_is_loading > 0) {\n",
       "      console.debug(\"Bokeh: BokehJS is being loaded, scheduling callback at\", now());\n",
       "      return null;\n",
       "    }\n",
       "    if (js_urls == null || js_urls.length === 0) {\n",
       "      run_callbacks();\n",
       "      return null;\n",
       "    }\n",
       "    console.debug(\"Bokeh: BokehJS not loaded, scheduling load and callback at\", now());\n",
       "    root._bokeh_is_loading = css_urls.length + js_urls.length;\n",
       "\n",
       "    function on_load() {\n",
       "      root._bokeh_is_loading--;\n",
       "      if (root._bokeh_is_loading === 0) {\n",
       "        console.debug(\"Bokeh: all BokehJS libraries/stylesheets loaded\");\n",
       "        run_callbacks()\n",
       "      }\n",
       "    }\n",
       "\n",
       "    function on_error(url) {\n",
       "      console.error(\"failed to load \" + url);\n",
       "    }\n",
       "\n",
       "    for (let i = 0; i < css_urls.length; i++) {\n",
       "      const url = css_urls[i];\n",
       "      const element = document.createElement(\"link\");\n",
       "      element.onload = on_load;\n",
       "      element.onerror = on_error.bind(null, url);\n",
       "      element.rel = \"stylesheet\";\n",
       "      element.type = \"text/css\";\n",
       "      element.href = url;\n",
       "      console.debug(\"Bokeh: injecting link tag for BokehJS stylesheet: \", url);\n",
       "      document.body.appendChild(element);\n",
       "    }\n",
       "\n",
       "    for (let i = 0; i < js_urls.length; i++) {\n",
       "      const url = js_urls[i];\n",
       "      const element = document.createElement('script');\n",
       "      element.onload = on_load;\n",
       "      element.onerror = on_error.bind(null, url);\n",
       "      element.async = false;\n",
       "      element.src = url;\n",
       "      console.debug(\"Bokeh: injecting script tag for BokehJS library: \", url);\n",
       "      document.head.appendChild(element);\n",
       "    }\n",
       "  };\n",
       "\n",
       "  function inject_raw_css(css) {\n",
       "    const element = document.createElement(\"style\");\n",
       "    element.appendChild(document.createTextNode(css));\n",
       "    document.body.appendChild(element);\n",
       "  }\n",
       "\n",
       "  const js_urls = [\"https://cdn.bokeh.org/bokeh/release/bokeh-3.6.2.min.js\", \"https://cdn.bokeh.org/bokeh/release/bokeh-gl-3.6.2.min.js\", \"https://cdn.bokeh.org/bokeh/release/bokeh-widgets-3.6.2.min.js\", \"https://cdn.bokeh.org/bokeh/release/bokeh-tables-3.6.2.min.js\", \"https://cdn.bokeh.org/bokeh/release/bokeh-mathjax-3.6.2.min.js\"];\n",
       "  const css_urls = [];\n",
       "\n",
       "  const inline_js = [    function(Bokeh) {\n",
       "      Bokeh.set_log_level(\"info\");\n",
       "    },\n",
       "function(Bokeh) {\n",
       "    }\n",
       "  ];\n",
       "\n",
       "  function run_inline_js() {\n",
       "    if (root.Bokeh !== undefined || force === true) {\n",
       "      try {\n",
       "            for (let i = 0; i < inline_js.length; i++) {\n",
       "      inline_js[i].call(root, root.Bokeh);\n",
       "    }\n",
       "\n",
       "      } catch (error) {display_loaded(error);throw error;\n",
       "      }if (force === true) {\n",
       "        display_loaded();\n",
       "      }} else if (Date.now() < root._bokeh_timeout) {\n",
       "      setTimeout(run_inline_js, 100);\n",
       "    } else if (!root._bokeh_failed_load) {\n",
       "      console.log(\"Bokeh: BokehJS failed to load within specified timeout.\");\n",
       "      root._bokeh_failed_load = true;\n",
       "    } else if (force !== true) {\n",
       "      const cell = $(document.getElementById(\"a35fa5d8-bcf2-4b13-9960-95d3329d680d\")).parents('.cell').data().cell;\n",
       "      cell.output_area.append_execute_result(NB_LOAD_WARNING)\n",
       "    }\n",
       "  }\n",
       "\n",
       "  if (root._bokeh_is_loading === 0) {\n",
       "    console.debug(\"Bokeh: BokehJS loaded, going straight to plotting\");\n",
       "    run_inline_js();\n",
       "  } else {\n",
       "    load_libs(css_urls, js_urls, function() {\n",
       "      console.debug(\"Bokeh: BokehJS plotting callback run at\", now());\n",
       "      run_inline_js();\n",
       "    });\n",
       "  }\n",
       "}(window));"
      ],
      "application/vnd.bokehjs_load.v0+json": "'use strict';\n(function(root) {\n  function now() {\n    return new Date();\n  }\n\n  const force = true;\n\n  if (typeof root._bokeh_onload_callbacks === \"undefined\" || force === true) {\n    root._bokeh_onload_callbacks = [];\n    root._bokeh_is_loading = undefined;\n  }\n\n\n  if (typeof (root._bokeh_timeout) === \"undefined\" || force === true) {\n    root._bokeh_timeout = Date.now() + 5000;\n    root._bokeh_failed_load = false;\n  }\n\n  const NB_LOAD_WARNING = {'data': {'text/html':\n     \"<div style='background-color: #fdd'>\\n\"+\n     \"<p>\\n\"+\n     \"BokehJS does not appear to have successfully loaded. If loading BokehJS from CDN, this \\n\"+\n     \"may be due to a slow or bad network connection. Possible fixes:\\n\"+\n     \"</p>\\n\"+\n     \"<ul>\\n\"+\n     \"<li>re-rerun `output_notebook()` to attempt to load from CDN again, or</li>\\n\"+\n     \"<li>use INLINE resources instead, as so:</li>\\n\"+\n     \"</ul>\\n\"+\n     \"<code>\\n\"+\n     \"from bokeh.resources import INLINE\\n\"+\n     \"output_notebook(resources=INLINE)\\n\"+\n     \"</code>\\n\"+\n     \"</div>\"}};\n\n  function display_loaded(error = null) {\n    const el = document.getElementById(\"a35fa5d8-bcf2-4b13-9960-95d3329d680d\");\n    if (el != null) {\n      const html = (() => {\n        if (typeof root.Bokeh === \"undefined\") {\n          if (error == null) {\n            return \"BokehJS is loading ...\";\n          } else {\n            return \"BokehJS failed to load.\";\n          }\n        } else {\n          const prefix = `BokehJS ${root.Bokeh.version}`;\n          if (error == null) {\n            return `${prefix} successfully loaded.`;\n          } else {\n            return `${prefix} <b>encountered errors</b> while loading and may not function as expected.`;\n          }\n        }\n      })();\n      el.innerHTML = html;\n\n      if (error != null) {\n        const wrapper = document.createElement(\"div\");\n        wrapper.style.overflow = \"auto\";\n        wrapper.style.height = \"5em\";\n        wrapper.style.resize = \"vertical\";\n        const content = document.createElement(\"div\");\n        content.style.fontFamily = \"monospace\";\n        content.style.whiteSpace = \"pre-wrap\";\n        content.style.backgroundColor = \"rgb(255, 221, 221)\";\n        content.textContent = error.stack ?? error.toString();\n        wrapper.append(content);\n        el.append(wrapper);\n      }\n    } else if (Date.now() < root._bokeh_timeout) {\n      setTimeout(() => display_loaded(error), 100);\n    }\n  }\n\n  function run_callbacks() {\n    try {\n      root._bokeh_onload_callbacks.forEach(function(callback) {\n        if (callback != null)\n          callback();\n      });\n    } finally {\n      delete root._bokeh_onload_callbacks\n    }\n    console.debug(\"Bokeh: all callbacks have finished\");\n  }\n\n  function load_libs(css_urls, js_urls, callback) {\n    if (css_urls == null) css_urls = [];\n    if (js_urls == null) js_urls = [];\n\n    root._bokeh_onload_callbacks.push(callback);\n    if (root._bokeh_is_loading > 0) {\n      console.debug(\"Bokeh: BokehJS is being loaded, scheduling callback at\", now());\n      return null;\n    }\n    if (js_urls == null || js_urls.length === 0) {\n      run_callbacks();\n      return null;\n    }\n    console.debug(\"Bokeh: BokehJS not loaded, scheduling load and callback at\", now());\n    root._bokeh_is_loading = css_urls.length + js_urls.length;\n\n    function on_load() {\n      root._bokeh_is_loading--;\n      if (root._bokeh_is_loading === 0) {\n        console.debug(\"Bokeh: all BokehJS libraries/stylesheets loaded\");\n        run_callbacks()\n      }\n    }\n\n    function on_error(url) {\n      console.error(\"failed to load \" + url);\n    }\n\n    for (let i = 0; i < css_urls.length; i++) {\n      const url = css_urls[i];\n      const element = document.createElement(\"link\");\n      element.onload = on_load;\n      element.onerror = on_error.bind(null, url);\n      element.rel = \"stylesheet\";\n      element.type = \"text/css\";\n      element.href = url;\n      console.debug(\"Bokeh: injecting link tag for BokehJS stylesheet: \", url);\n      document.body.appendChild(element);\n    }\n\n    for (let i = 0; i < js_urls.length; i++) {\n      const url = js_urls[i];\n      const element = document.createElement('script');\n      element.onload = on_load;\n      element.onerror = on_error.bind(null, url);\n      element.async = false;\n      element.src = url;\n      console.debug(\"Bokeh: injecting script tag for BokehJS library: \", url);\n      document.head.appendChild(element);\n    }\n  };\n\n  function inject_raw_css(css) {\n    const element = document.createElement(\"style\");\n    element.appendChild(document.createTextNode(css));\n    document.body.appendChild(element);\n  }\n\n  const js_urls = [\"https://cdn.bokeh.org/bokeh/release/bokeh-3.6.2.min.js\", \"https://cdn.bokeh.org/bokeh/release/bokeh-gl-3.6.2.min.js\", \"https://cdn.bokeh.org/bokeh/release/bokeh-widgets-3.6.2.min.js\", \"https://cdn.bokeh.org/bokeh/release/bokeh-tables-3.6.2.min.js\", \"https://cdn.bokeh.org/bokeh/release/bokeh-mathjax-3.6.2.min.js\"];\n  const css_urls = [];\n\n  const inline_js = [    function(Bokeh) {\n      Bokeh.set_log_level(\"info\");\n    },\nfunction(Bokeh) {\n    }\n  ];\n\n  function run_inline_js() {\n    if (root.Bokeh !== undefined || force === true) {\n      try {\n            for (let i = 0; i < inline_js.length; i++) {\n      inline_js[i].call(root, root.Bokeh);\n    }\n\n      } catch (error) {display_loaded(error);throw error;\n      }if (force === true) {\n        display_loaded();\n      }} else if (Date.now() < root._bokeh_timeout) {\n      setTimeout(run_inline_js, 100);\n    } else if (!root._bokeh_failed_load) {\n      console.log(\"Bokeh: BokehJS failed to load within specified timeout.\");\n      root._bokeh_failed_load = true;\n    } else if (force !== true) {\n      const cell = $(document.getElementById(\"a35fa5d8-bcf2-4b13-9960-95d3329d680d\")).parents('.cell').data().cell;\n      cell.output_area.append_execute_result(NB_LOAD_WARNING)\n    }\n  }\n\n  if (root._bokeh_is_loading === 0) {\n    console.debug(\"Bokeh: BokehJS loaded, going straight to plotting\");\n    run_inline_js();\n  } else {\n    load_libs(css_urls, js_urls, function() {\n      console.debug(\"Bokeh: BokehJS plotting callback run at\", now());\n      run_inline_js();\n    });\n  }\n}(window));"
     },
     "metadata": {},
     "output_type": "display_data"
    }
   ],
   "source": [
    "import random\n",
    "from bokeh.plotting import figure, show \n",
    "from bokeh.io import output_notebook\n",
    "output_notebook()"
   ]
  },
  {
   "cell_type": "markdown",
   "id": "6a510fed-0f31-4668-a842-ce73470c02ba",
   "metadata": {},
   "source": [
    ">Values to colors"
   ]
  },
  {
   "cell_type": "code",
   "execution_count": 53,
   "id": "9f6ab74a-f817-48d5-9ccc-5a9147f48ea1",
   "metadata": {},
   "outputs": [],
   "source": [
    "x = list(range(0,26))\n",
    "y = random.sample(range(0, 100), 26)\n",
    "colors = [f'#{255:02x}{int((value * 255) / 100):02x}{255:02x}' for value in y]"
   ]
  },
  {
   "cell_type": "code",
   "execution_count": 54,
   "id": "08411dd6-8f5e-4ca8-a731-b5395f5311e4",
   "metadata": {},
   "outputs": [],
   "source": [
    "p = figure(\n",
    "    title=\"Vectorized colors example\",\n",
    "    sizing_mode=\"stretch_width\",\n",
    "    max_width=600,\n",
    "    height=300,\n",
    ")"
   ]
  },
  {
   "cell_type": "code",
   "execution_count": 55,
   "id": "79a5bfd8-776e-427a-a5db-2831db43015b",
   "metadata": {},
   "outputs": [
    {
     "data": {
      "text/html": [
       "\n",
       "  <div id=\"b4b46b9e-04fe-4a38-ac60-0ab20483a3d9\" data-root-id=\"p1663\" style=\"display: contents;\"></div>\n"
      ]
     },
     "metadata": {},
     "output_type": "display_data"
    },
    {
     "data": {
      "application/javascript": [
       "(function(root) {\n",
       "  function embed_document(root) {\n",
       "  const docs_json = {\"deff5d03-078f-477b-9874-ea7a788445fb\":{\"version\":\"3.6.2\",\"title\":\"Bokeh Application\",\"roots\":[{\"type\":\"object\",\"name\":\"Figure\",\"id\":\"p1663\",\"attributes\":{\"height\":300,\"max_width\":600,\"sizing_mode\":\"stretch_width\",\"x_range\":{\"type\":\"object\",\"name\":\"DataRange1d\",\"id\":\"p1664\"},\"y_range\":{\"type\":\"object\",\"name\":\"DataRange1d\",\"id\":\"p1665\"},\"x_scale\":{\"type\":\"object\",\"name\":\"LinearScale\",\"id\":\"p1673\"},\"y_scale\":{\"type\":\"object\",\"name\":\"LinearScale\",\"id\":\"p1674\"},\"title\":{\"type\":\"object\",\"name\":\"Title\",\"id\":\"p1666\",\"attributes\":{\"text\":\"Vectorized colors example\"}},\"renderers\":[{\"type\":\"object\",\"name\":\"GlyphRenderer\",\"id\":\"p1704\",\"attributes\":{\"data_source\":{\"type\":\"object\",\"name\":\"ColumnDataSource\",\"id\":\"p1698\",\"attributes\":{\"selected\":{\"type\":\"object\",\"name\":\"Selection\",\"id\":\"p1699\",\"attributes\":{\"indices\":[],\"line_indices\":[]}},\"selection_policy\":{\"type\":\"object\",\"name\":\"UnionRenderers\",\"id\":\"p1700\"},\"data\":{\"type\":\"map\",\"entries\":[[\"x\",[0,1,2,3,4,5,6,7,8,9,10,11,12,13,14,15,16,17,18,19,20,21,22,23,24,25]],[\"y\",[80,0,47,23,25,92,2,55,53,38,58,68,9,22,72,84,76,77,82,6,91,19,18,37,43,85]]]}}},\"view\":{\"type\":\"object\",\"name\":\"CDSView\",\"id\":\"p1705\",\"attributes\":{\"filter\":{\"type\":\"object\",\"name\":\"AllIndices\",\"id\":\"p1706\"}}},\"glyph\":{\"type\":\"object\",\"name\":\"Line\",\"id\":\"p1701\",\"attributes\":{\"x\":{\"type\":\"field\",\"field\":\"x\"},\"y\":{\"type\":\"field\",\"field\":\"y\"},\"line_color\":\"blue\"}},\"nonselection_glyph\":{\"type\":\"object\",\"name\":\"Line\",\"id\":\"p1702\",\"attributes\":{\"x\":{\"type\":\"field\",\"field\":\"x\"},\"y\":{\"type\":\"field\",\"field\":\"y\"},\"line_color\":\"blue\",\"line_alpha\":0.1}},\"muted_glyph\":{\"type\":\"object\",\"name\":\"Line\",\"id\":\"p1703\",\"attributes\":{\"x\":{\"type\":\"field\",\"field\":\"x\"},\"y\":{\"type\":\"field\",\"field\":\"y\"},\"line_color\":\"blue\",\"line_alpha\":0.2}}}},{\"type\":\"object\",\"name\":\"GlyphRenderer\",\"id\":\"p1713\",\"attributes\":{\"data_source\":{\"type\":\"object\",\"name\":\"ColumnDataSource\",\"id\":\"p1707\",\"attributes\":{\"selected\":{\"type\":\"object\",\"name\":\"Selection\",\"id\":\"p1708\",\"attributes\":{\"indices\":[],\"line_indices\":[]}},\"selection_policy\":{\"type\":\"object\",\"name\":\"UnionRenderers\",\"id\":\"p1709\"},\"data\":{\"type\":\"map\",\"entries\":[[\"x\",[0,1,2,3,4,5,6,7,8,9,10,11,12,13,14,15,16,17,18,19,20,21,22,23,24,25]],[\"y\",[80,0,47,23,25,92,2,55,53,38,58,68,9,22,72,84,76,77,82,6,91,19,18,37,43,85]],[\"fill_color\",[\"#ffccff\",\"#ff00ff\",\"#ff77ff\",\"#ff3aff\",\"#ff3fff\",\"#ffeaff\",\"#ff05ff\",\"#ff8cff\",\"#ff87ff\",\"#ff60ff\",\"#ff93ff\",\"#ffadff\",\"#ff16ff\",\"#ff38ff\",\"#ffb7ff\",\"#ffd6ff\",\"#ffc1ff\",\"#ffc4ff\",\"#ffd1ff\",\"#ff0fff\",\"#ffe8ff\",\"#ff30ff\",\"#ff2dff\",\"#ff5eff\",\"#ff6dff\",\"#ffd8ff\"]]]}}},\"view\":{\"type\":\"object\",\"name\":\"CDSView\",\"id\":\"p1714\",\"attributes\":{\"filter\":{\"type\":\"object\",\"name\":\"AllIndices\",\"id\":\"p1715\"}}},\"glyph\":{\"type\":\"object\",\"name\":\"Scatter\",\"id\":\"p1710\",\"attributes\":{\"x\":{\"type\":\"field\",\"field\":\"x\"},\"y\":{\"type\":\"field\",\"field\":\"y\"},\"size\":{\"type\":\"value\",\"value\":15},\"line_color\":{\"type\":\"value\",\"value\":\"blue\"},\"fill_color\":{\"type\":\"field\",\"field\":\"fill_color\"}}},\"nonselection_glyph\":{\"type\":\"object\",\"name\":\"Scatter\",\"id\":\"p1711\",\"attributes\":{\"x\":{\"type\":\"field\",\"field\":\"x\"},\"y\":{\"type\":\"field\",\"field\":\"y\"},\"size\":{\"type\":\"value\",\"value\":15},\"line_color\":{\"type\":\"value\",\"value\":\"blue\"},\"line_alpha\":{\"type\":\"value\",\"value\":0.1},\"fill_color\":{\"type\":\"field\",\"field\":\"fill_color\"},\"fill_alpha\":{\"type\":\"value\",\"value\":0.1},\"hatch_alpha\":{\"type\":\"value\",\"value\":0.1}}},\"muted_glyph\":{\"type\":\"object\",\"name\":\"Scatter\",\"id\":\"p1712\",\"attributes\":{\"x\":{\"type\":\"field\",\"field\":\"x\"},\"y\":{\"type\":\"field\",\"field\":\"y\"},\"size\":{\"type\":\"value\",\"value\":15},\"line_color\":{\"type\":\"value\",\"value\":\"blue\"},\"line_alpha\":{\"type\":\"value\",\"value\":0.2},\"fill_color\":{\"type\":\"field\",\"field\":\"fill_color\"},\"fill_alpha\":{\"type\":\"value\",\"value\":0.2},\"hatch_alpha\":{\"type\":\"value\",\"value\":0.2}}}}}],\"toolbar\":{\"type\":\"object\",\"name\":\"Toolbar\",\"id\":\"p1672\",\"attributes\":{\"tools\":[{\"type\":\"object\",\"name\":\"PanTool\",\"id\":\"p1685\"},{\"type\":\"object\",\"name\":\"WheelZoomTool\",\"id\":\"p1686\",\"attributes\":{\"renderers\":\"auto\"}},{\"type\":\"object\",\"name\":\"BoxZoomTool\",\"id\":\"p1687\",\"attributes\":{\"overlay\":{\"type\":\"object\",\"name\":\"BoxAnnotation\",\"id\":\"p1688\",\"attributes\":{\"syncable\":false,\"line_color\":\"black\",\"line_alpha\":1.0,\"line_width\":2,\"line_dash\":[4,4],\"fill_color\":\"lightgrey\",\"fill_alpha\":0.5,\"level\":\"overlay\",\"visible\":false,\"left\":{\"type\":\"number\",\"value\":\"nan\"},\"right\":{\"type\":\"number\",\"value\":\"nan\"},\"top\":{\"type\":\"number\",\"value\":\"nan\"},\"bottom\":{\"type\":\"number\",\"value\":\"nan\"},\"left_units\":\"canvas\",\"right_units\":\"canvas\",\"top_units\":\"canvas\",\"bottom_units\":\"canvas\",\"handles\":{\"type\":\"object\",\"name\":\"BoxInteractionHandles\",\"id\":\"p1694\",\"attributes\":{\"all\":{\"type\":\"object\",\"name\":\"AreaVisuals\",\"id\":\"p1693\",\"attributes\":{\"fill_color\":\"white\",\"hover_fill_color\":\"lightgray\"}}}}}}}},{\"type\":\"object\",\"name\":\"SaveTool\",\"id\":\"p1695\"},{\"type\":\"object\",\"name\":\"ResetTool\",\"id\":\"p1696\"},{\"type\":\"object\",\"name\":\"HelpTool\",\"id\":\"p1697\"}]}},\"left\":[{\"type\":\"object\",\"name\":\"LinearAxis\",\"id\":\"p1680\",\"attributes\":{\"ticker\":{\"type\":\"object\",\"name\":\"BasicTicker\",\"id\":\"p1681\",\"attributes\":{\"mantissas\":[1,2,5]}},\"formatter\":{\"type\":\"object\",\"name\":\"BasicTickFormatter\",\"id\":\"p1682\"},\"major_label_policy\":{\"type\":\"object\",\"name\":\"AllLabels\",\"id\":\"p1683\"}}}],\"below\":[{\"type\":\"object\",\"name\":\"LinearAxis\",\"id\":\"p1675\",\"attributes\":{\"ticker\":{\"type\":\"object\",\"name\":\"BasicTicker\",\"id\":\"p1676\",\"attributes\":{\"mantissas\":[1,2,5]}},\"formatter\":{\"type\":\"object\",\"name\":\"BasicTickFormatter\",\"id\":\"p1677\"},\"major_label_policy\":{\"type\":\"object\",\"name\":\"AllLabels\",\"id\":\"p1678\"}}}],\"center\":[{\"type\":\"object\",\"name\":\"Grid\",\"id\":\"p1679\",\"attributes\":{\"axis\":{\"id\":\"p1675\"}}},{\"type\":\"object\",\"name\":\"Grid\",\"id\":\"p1684\",\"attributes\":{\"dimension\":1,\"axis\":{\"id\":\"p1680\"}}}]}}]}};\n",
       "  const render_items = [{\"docid\":\"deff5d03-078f-477b-9874-ea7a788445fb\",\"roots\":{\"p1663\":\"b4b46b9e-04fe-4a38-ac60-0ab20483a3d9\"},\"root_ids\":[\"p1663\"]}];\n",
       "  void root.Bokeh.embed.embed_items_notebook(docs_json, render_items);\n",
       "  }\n",
       "  if (root.Bokeh !== undefined) {\n",
       "    embed_document(root);\n",
       "  } else {\n",
       "    let attempts = 0;\n",
       "    const timer = setInterval(function(root) {\n",
       "      if (root.Bokeh !== undefined) {\n",
       "        clearInterval(timer);\n",
       "        embed_document(root);\n",
       "      } else {\n",
       "        attempts++;\n",
       "        if (attempts > 100) {\n",
       "          clearInterval(timer);\n",
       "          console.log(\"Bokeh: ERROR: Unable to run BokehJS code because BokehJS library is missing\");\n",
       "        }\n",
       "      }\n",
       "    }, 10, root)\n",
       "  }\n",
       "})(window);"
      ],
      "application/vnd.bokehjs_exec.v0+json": ""
     },
     "metadata": {
      "application/vnd.bokehjs_exec.v0+json": {
       "id": "p1663"
      }
     },
     "output_type": "display_data"
    },
    {
     "name": "stdout",
     "output_type": "stream",
     "text": [
      "Opening in existing browser session.\n"
     ]
    }
   ],
   "source": [
    "p.line(x, y, line_color='blue', line_width=1)\n",
    "p.scatter(x, y, fill_color=colors, line_color='blue', size=15)\n",
    "show(p)"
   ]
  },
  {
   "cell_type": "markdown",
   "id": "c4f3c82b-1d09-4f36-b605-520b6bece45e",
   "metadata": {},
   "source": [
    ">Adding size"
   ]
  },
  {
   "cell_type": "code",
   "execution_count": 56,
   "id": "39b93ef4-5d2b-4fed-9742-8006442f30c7",
   "metadata": {},
   "outputs": [],
   "source": [
    "import numpy as np"
   ]
  },
  {
   "cell_type": "code",
   "execution_count": 57,
   "id": "1853031a-929b-4276-80db-c04b7fdb893c",
   "metadata": {},
   "outputs": [],
   "source": [
    "N = 1000 \n",
    "x = np.random.random(size=N) * 100 \n",
    "y = np.random.random(size=N) * 100"
   ]
  },
  {
   "cell_type": "code",
   "execution_count": 58,
   "id": "962a2210-d18d-46da-a288-66038a6fa611",
   "metadata": {},
   "outputs": [],
   "source": [
    "radii = y / 100 * 2\n",
    "colors = [f'#ff{int((value * 255) / 100):02x}ff' for value in y]"
   ]
  },
  {
   "cell_type": "code",
   "execution_count": 59,
   "id": "7f5db0ec-578a-444a-8b00-fa6c60360315",
   "metadata": {},
   "outputs": [],
   "source": [
    "p = figure(\n",
    "    title='Vectorized color and size', \n",
    "    sizing_mode='stretch_width', \n",
    "    max_width=600, \n",
    "    height=300\n",
    ")"
   ]
  },
  {
   "cell_type": "code",
   "execution_count": 60,
   "id": "d86c5b41-5766-463e-8c2c-00dc3756a8f6",
   "metadata": {},
   "outputs": [
    {
     "data": {
      "text/html": [
       "\n",
       "  <div id=\"f1f5bf69-72f8-44e4-b3e0-87aeda8d7e5f\" data-root-id=\"p1716\" style=\"display: contents;\"></div>\n"
      ]
     },
     "metadata": {},
     "output_type": "display_data"
    },
    {
     "data": {
      "application/javascript": [
       "(function(root) {\n",
       "  function embed_document(root) {\n",
       "  const docs_json = {\"9f9bd886-1782-495b-a383-d46c75a20aea\":{\"version\":\"3.6.2\",\"title\":\"Bokeh Application\",\"roots\":[{\"type\":\"object\",\"name\":\"Figure\",\"id\":\"p1716\",\"attributes\":{\"height\":300,\"max_width\":600,\"sizing_mode\":\"stretch_width\",\"x_range\":{\"type\":\"object\",\"name\":\"DataRange1d\",\"id\":\"p1717\"},\"y_range\":{\"type\":\"object\",\"name\":\"DataRange1d\",\"id\":\"p1718\"},\"x_scale\":{\"type\":\"object\",\"name\":\"LinearScale\",\"id\":\"p1726\"},\"y_scale\":{\"type\":\"object\",\"name\":\"LinearScale\",\"id\":\"p1727\"},\"title\":{\"type\":\"object\",\"name\":\"Title\",\"id\":\"p1719\",\"attributes\":{\"text\":\"Vectorized color and size\"}},\"renderers\":[{\"type\":\"object\",\"name\":\"GlyphRenderer\",\"id\":\"p1757\",\"attributes\":{\"data_source\":{\"type\":\"object\",\"name\":\"ColumnDataSource\",\"id\":\"p1751\",\"attributes\":{\"selected\":{\"type\":\"object\",\"name\":\"Selection\",\"id\":\"p1752\",\"attributes\":{\"indices\":[],\"line_indices\":[]}},\"selection_policy\":{\"type\":\"object\",\"name\":\"UnionRenderers\",\"id\":\"p1753\"},\"data\":{\"type\":\"map\",\"entries\":[[\"radius\",{\"type\":\"ndarray\",\"array\":{\"type\":\"bytes\",\"data\":\"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\"},\"shape\":[1000],\"dtype\":\"float64\",\"order\":\"little\"}],[\"x\",{\"type\":\"ndarray\",\"array\":{\"type\":\"bytes\",\"data\":\"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\"},\"shape\":[1000],\"dtype\":\"float64\",\"order\":\"little\"}],[\"y\",{\"type\":\"ndarray\",\"array\":{\"type\":\"bytes\",\"data\":\"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\"},\"shape\":[1000],\"dtype\":\"float64\",\"order\":\"little\"}],[\"fill_color\",[\"#ff00ff\",\"#ff8aff\",\"#ff08ff\",\"#fff5ff\",\"#ff24ff\",\"#ffd5ff\",\"#ffadff\",\"#ff31ff\",\"#ff45ff\",\"#ff82ff\",\"#ff5fff\",\"#ffceff\",\"#ffd1ff\",\"#ff7cff\",\"#ff01ff\",\"#ffc6ff\",\"#ffabff\",\"#ff28ff\",\"#ffcaff\",\"#ff1bff\",\"#ff58ff\",\"#ff03ff\",\"#ffa0ff\",\"#ffebff\",\"#fff3ff\",\"#ff9cff\",\"#ff44ff\",\"#ff39ff\",\"#ffd6ff\",\"#ff8eff\",\"#ff75ff\",\"#ff06ff\",\"#ff83ff\",\"#ff9dff\",\"#fff0ff\",\"#ff1aff\",\"#ff83ff\",\"#ff64ff\",\"#ff32ff\",\"#ffecff\",\"#ffadff\",\"#ff60ff\",\"#ffaaff\",\"#ff87ff\",\"#ffd2ff\",\"#ff86ff\",\"#fffaff\",\"#ffc5ff\",\"#ff6dff\",\"#ffbaff\",\"#ff4eff\",\"#ff4dff\",\"#ffe5ff\",\"#ffa6ff\",\"#ff0eff\",\"#ff61ff\",\"#ffe4ff\",\"#ffc7ff\",\"#ff4fff\",\"#ff20ff\",\"#ff71ff\",\"#ff05ff\",\"#ffc2ff\",\"#ffdeff\",\"#ff43ff\",\"#ff05ff\",\"#ff3fff\",\"#ff3dff\",\"#ff18ff\",\"#fff4ff\",\"#ff3bff\",\"#ffccff\",\"#ffe5ff\",\"#ffafff\",\"#ffb9ff\",\"#ffb6ff\",\"#ffb1ff\",\"#ff28ff\",\"#ffd7ff\",\"#ff64ff\",\"#ff15ff\",\"#ffeaff\",\"#ff39ff\",\"#ff15ff\",\"#fff3ff\",\"#ffb5ff\",\"#ff79ff\",\"#ff44ff\",\"#ff7fff\",\"#ffc9ff\",\"#ff48ff\",\"#ff69ff\",\"#ffe4ff\",\"#ff01ff\",\"#ffc3ff\",\"#ffe3ff\",\"#ff04ff\",\"#ff2bff\",\"#ffaeff\",\"#fff5ff\",\"#ff05ff\",\"#ffc2ff\",\"#ff04ff\",\"#ff79ff\",\"#ff15ff\",\"#ff55ff\",\"#ffbdff\",\"#ff8bff\",\"#ffe6ff\",\"#ff61ff\",\"#ff10ff\",\"#ffbaff\",\"#ffdbff\",\"#ffceff\",\"#fff7ff\",\"#ffdaff\",\"#fff2ff\",\"#ffb7ff\",\"#ff74ff\",\"#ff82ff\",\"#ff9aff\",\"#ff38ff\",\"#ffcdff\",\"#ffe4ff\",\"#ff79ff\",\"#ff44ff\",\"#ff1aff\",\"#ffe5ff\",\"#ff8aff\",\"#ff17ff\",\"#ffebff\",\"#ff7fff\",\"#ffb1ff\",\"#ffc4ff\",\"#ff42ff\",\"#ff8aff\",\"#ff31ff\",\"#ff67ff\",\"#ff1cff\",\"#ff41ff\",\"#ff6dff\",\"#ff62ff\",\"#ff11ff\",\"#ffbdff\",\"#ff74ff\",\"#ff03ff\",\"#ff06ff\",\"#fff5ff\",\"#ffd3ff\",\"#ff5cff\",\"#ff0eff\",\"#ff7eff\",\"#ff6eff\",\"#ff86ff\",\"#ffd8ff\",\"#ff72ff\",\"#ff5fff\",\"#ff3dff\",\"#ff65ff\",\"#ff1eff\",\"#ffd2ff\",\"#ff19ff\",\"#ff99ff\",\"#ff8dff\",\"#ffbdff\",\"#ffecff\",\"#ff94ff\",\"#ff43ff\",\"#ffd9ff\",\"#ff46ff\",\"#ff19ff\",\"#ffc4ff\",\"#ff24ff\",\"#ffebff\",\"#ffa3ff\",\"#ffd4ff\",\"#fff7ff\",\"#ff58ff\",\"#ff1aff\",\"#ff7dff\",\"#ff00ff\",\"#fffcff\",\"#ffa7ff\",\"#ff58ff\",\"#ff86ff\",\"#fff5ff\",\"#ffe9ff\",\"#ffc4ff\",\"#ff06ff\",\"#ffd5ff\",\"#fff8ff\",\"#fffbff\",\"#ffeaff\",\"#ff7bff\",\"#ff69ff\",\"#ff6fff\",\"#ff91ff\",\"#ff59ff\",\"#ff31ff\",\"#ff7aff\",\"#ffd6ff\",\"#ffe5ff\",\"#ff70ff\",\"#ff79ff\",\"#ffc5ff\",\"#ff71ff\",\"#ff23ff\",\"#ff05ff\",\"#ff82ff\",\"#ffb0ff\",\"#ff5eff\",\"#ff30ff\",\"#fff3ff\",\"#ffcbff\",\"#ffdfff\",\"#ff11ff\",\"#ff9fff\",\"#ff49ff\",\"#ffc3ff\",\"#ffa4ff\",\"#ff72ff\",\"#ff94ff\",\"#fff2ff\",\"#ffe9ff\",\"#ff95ff\",\"#ff21ff\",\"#ffb1ff\",\"#ff08ff\",\"#ffb5ff\",\"#ff61ff\",\"#ffcbff\",\"#ff32ff\",\"#ff00ff\",\"#fff6ff\",\"#ff7aff\",\"#ff8eff\",\"#ff81ff\",\"#ff94ff\",\"#ff7eff\",\"#ff35ff\",\"#fff2ff\",\"#ffe4ff\",\"#ff54ff\",\"#ff07ff\",\"#ffdbff\",\"#ffb6ff\",\"#ffa1ff\",\"#ff3bff\",\"#ffcaff\",\"#ff7cff\",\"#ff35ff\",\"#ffc8ff\",\"#ff34ff\",\"#ff99ff\",\"#ff01ff\",\"#ff55ff\",\"#ffbbff\",\"#ff89ff\",\"#ffd0ff\",\"#ff20ff\",\"#ff1bff\",\"#ff8bff\",\"#ff0dff\",\"#fffeff\",\"#ff6eff\",\"#ff05ff\",\"#ff97ff\",\"#ff97ff\",\"#ffd3ff\",\"#ff1eff\",\"#ff07ff\",\"#ff35ff\",\"#fff6ff\",\"#ffc3ff\",\"#ff85ff\",\"#ff30ff\",\"#ff37ff\",\"#ff26ff\",\"#ffd2ff\",\"#ff18ff\",\"#ff0bff\",\"#ff64ff\",\"#ff5bff\",\"#ff7aff\",\"#ff9dff\",\"#ffd7ff\",\"#ff8dff\",\"#ff65ff\",\"#ffb8ff\",\"#ffb9ff\",\"#ffc6ff\",\"#ff86ff\",\"#ff18ff\",\"#ff06ff\",\"#ff79ff\",\"#ff26ff\",\"#ff01ff\",\"#ff62ff\",\"#ffc8ff\",\"#ffabff\",\"#ffb0ff\",\"#ff90ff\",\"#ff8cff\",\"#ffebff\",\"#fff5ff\",\"#ffb7ff\",\"#ff53ff\",\"#ffa3ff\",\"#ff82ff\",\"#ffc6ff\",\"#ff71ff\",\"#ff5eff\",\"#ffbfff\",\"#ff5bff\",\"#ffceff\",\"#ff7eff\",\"#fffdff\",\"#ff13ff\",\"#ff7aff\",\"#ff6fff\",\"#ff57ff\",\"#ff07ff\",\"#ffbfff\",\"#ffb7ff\",\"#ff7aff\",\"#ffa3ff\",\"#ff57ff\",\"#ffd4ff\",\"#ffecff\",\"#ff8aff\",\"#ffc6ff\",\"#ff84ff\",\"#ffa7ff\",\"#ff8dff\",\"#ffd1ff\",\"#fff8ff\",\"#ff16ff\",\"#ff5dff\",\"#ff88ff\",\"#ff50ff\",\"#ff2eff\",\"#ff14ff\",\"#ff6cff\",\"#ff31ff\",\"#ff27ff\",\"#ff96ff\",\"#ffa0ff\",\"#ff8cff\",\"#ff2eff\",\"#ff91ff\",\"#ff00ff\",\"#ff66ff\",\"#fff7ff\",\"#ff2fff\",\"#ffa7ff\",\"#ff04ff\",\"#ff07ff\",\"#ff3cff\",\"#ffc8ff\",\"#ff8cff\",\"#ff5fff\",\"#ff00ff\",\"#ffbbff\",\"#ff2bff\",\"#ff11ff\",\"#ff60ff\",\"#ff59ff\",\"#ffd7ff\",\"#ffd2ff\",\"#ffacff\",\"#ffaeff\",\"#ff75ff\",\"#ff23ff\",\"#fff8ff\",\"#ff2eff\",\"#ff62ff\",\"#ff58ff\",\"#ffd4ff\",\"#ff36ff\",\"#ffdaff\",\"#fff2ff\",\"#ff75ff\",\"#ff86ff\",\"#ff2dff\",\"#ff1bff\",\"#ff76ff\",\"#ffd4ff\",\"#ffc5ff\",\"#fffeff\",\"#ffb7ff\",\"#ff8aff\",\"#ff00ff\",\"#ff1fff\",\"#ffc7ff\",\"#ffccff\",\"#ff81ff\",\"#ff60ff\",\"#ffdbff\",\"#ff02ff\",\"#ffc9ff\",\"#ff4dff\",\"#ff7bff\",\"#ff6fff\",\"#ff20ff\",\"#ff88ff\",\"#ff58ff\",\"#ff36ff\",\"#ff44ff\",\"#ff04ff\",\"#ff45ff\",\"#ff36ff\",\"#ffc2ff\",\"#fff4ff\",\"#ff42ff\",\"#ff41ff\",\"#ff86ff\",\"#ff3aff\",\"#ff07ff\",\"#ff6cff\",\"#ffb0ff\",\"#ff4fff\",\"#ff72ff\",\"#ffd9ff\",\"#ff13ff\",\"#ff1dff\",\"#ff04ff\",\"#ff95ff\",\"#ff53ff\",\"#ff0eff\",\"#ff73ff\",\"#ff1bff\",\"#ff7dff\",\"#ffceff\",\"#ff7fff\",\"#fffbff\",\"#fffdff\",\"#ff7eff\",\"#fff6ff\",\"#ff02ff\",\"#fff9ff\",\"#ffabff\",\"#ff8eff\",\"#ff10ff\",\"#ffa4ff\",\"#ff6aff\",\"#ffcfff\",\"#ffd4ff\",\"#ff6fff\",\"#ff88ff\",\"#ff17ff\",\"#ff72ff\",\"#ff8bff\",\"#ff85ff\",\"#ff13ff\",\"#ffbdff\",\"#ff52ff\",\"#ff2eff\",\"#ffcfff\",\"#ff7eff\",\"#ff07ff\",\"#ff57ff\",\"#ff78ff\",\"#ffa9ff\",\"#ff7eff\",\"#ffc2ff\",\"#ffb3ff\",\"#ffc2ff\",\"#ffa3ff\",\"#ff2aff\",\"#ff17ff\",\"#ff49ff\",\"#ffc8ff\",\"#ffb9ff\",\"#fff6ff\",\"#ffc2ff\",\"#ffefff\",\"#ffe6ff\",\"#ffd5ff\",\"#ff6bff\",\"#ff34ff\",\"#ff6dff\",\"#ff06ff\",\"#ffb3ff\",\"#ff5fff\",\"#ffb5ff\",\"#ff56ff\",\"#ff60ff\",\"#ff14ff\",\"#fffbff\",\"#ff71ff\",\"#ff98ff\",\"#ffd3ff\",\"#ff15ff\",\"#ff10ff\",\"#ffadff\",\"#ffb7ff\",\"#ffe3ff\",\"#ff58ff\",\"#ffc4ff\",\"#ff0eff\",\"#ff78ff\",\"#ffbbff\",\"#ffe7ff\",\"#ffe9ff\",\"#ff8aff\",\"#ff3eff\",\"#ffb2ff\",\"#ff91ff\",\"#ff99ff\",\"#ffe3ff\",\"#ffdcff\",\"#ffc7ff\",\"#ffb5ff\",\"#ff4fff\",\"#ff20ff\",\"#ff71ff\",\"#ff05ff\",\"#ff28ff\",\"#ff5eff\",\"#ff37ff\",\"#ffadff\",\"#ff43ff\",\"#ff58ff\",\"#ff5fff\",\"#ffdfff\",\"#ffafff\",\"#ffc3ff\",\"#ff17ff\",\"#ff80ff\",\"#fffbff\",\"#ff66ff\",\"#ff85ff\",\"#ffa5ff\",\"#ffa5ff\",\"#ffd2ff\",\"#ff84ff\",\"#ffb5ff\",\"#ffccff\",\"#ff29ff\",\"#ffa4ff\",\"#ff2eff\",\"#ff96ff\",\"#ffeeff\",\"#ffbcff\",\"#ff0dff\",\"#ff73ff\",\"#ff23ff\",\"#ffc9ff\",\"#ff23ff\",\"#ffcfff\",\"#ff76ff\",\"#ff9fff\",\"#ff04ff\",\"#ff4fff\",\"#ff8cff\",\"#ffa0ff\",\"#ffd7ff\",\"#ffb4ff\",\"#ff1dff\",\"#ffd1ff\",\"#ff73ff\",\"#ffdaff\",\"#ff4fff\",\"#fffaff\",\"#ff28ff\",\"#ff9eff\",\"#ffe3ff\",\"#ff8bff\",\"#ff4aff\",\"#ff3bff\",\"#ff99ff\",\"#ffe4ff\",\"#ff11ff\",\"#ffd1ff\",\"#ff4cff\",\"#ff05ff\",\"#ff68ff\",\"#ff60ff\",\"#ff57ff\",\"#ffa1ff\",\"#ffe6ff\",\"#ff81ff\",\"#ff23ff\",\"#ff75ff\",\"#ffd7ff\",\"#ff41ff\",\"#fff3ff\",\"#ff50ff\",\"#ffdeff\",\"#ffe0ff\",\"#ffd0ff\",\"#ffcfff\",\"#ff2fff\",\"#ff3cff\",\"#ff93ff\",\"#ffa9ff\",\"#ff13ff\",\"#ff0dff\",\"#ff96ff\",\"#ffdaff\",\"#ff2eff\",\"#ff73ff\",\"#ff75ff\",\"#ff99ff\",\"#ff06ff\",\"#ff21ff\",\"#ff49ff\",\"#ffa8ff\",\"#ff88ff\",\"#ff02ff\",\"#ff5eff\",\"#ff9fff\",\"#ff3eff\",\"#ff3bff\",\"#ffcdff\",\"#ff14ff\",\"#ffcbff\",\"#ff60ff\",\"#ff46ff\",\"#ffc2ff\",\"#ff6bff\",\"#ff9dff\",\"#ff2eff\",\"#ffbbff\",\"#ff49ff\",\"#ffacff\",\"#ff1cff\",\"#ff93ff\",\"#ffe2ff\",\"#ff62ff\",\"#ff31ff\",\"#ff5dff\",\"#ffddff\",\"#fff9ff\",\"#ff52ff\",\"#ff84ff\",\"#ffcdff\",\"#ffa2ff\",\"#ff68ff\",\"#ff52ff\",\"#fff7ff\",\"#ff11ff\",\"#ff6cff\",\"#ff6fff\",\"#ff17ff\",\"#fff2ff\",\"#ffddff\",\"#ff88ff\",\"#ffe0ff\",\"#ff12ff\",\"#ffb4ff\",\"#ff80ff\",\"#ff6cff\",\"#ffa0ff\",\"#ff8cff\",\"#ff05ff\",\"#ff2dff\",\"#ff95ff\",\"#ffebff\",\"#ff0aff\",\"#ffd7ff\",\"#ff44ff\",\"#ffe2ff\",\"#ff0cff\",\"#ff0aff\",\"#ff98ff\",\"#ff6dff\",\"#ffa6ff\",\"#fffeff\",\"#ffa2ff\",\"#ff40ff\",\"#ff76ff\",\"#fff6ff\",\"#ff42ff\",\"#ffe4ff\",\"#ff46ff\",\"#ff3dff\",\"#ff1dff\",\"#ff8bff\",\"#ff3eff\",\"#ffe6ff\",\"#ffd7ff\",\"#ffedff\",\"#ffa4ff\",\"#ff98ff\",\"#ffabff\",\"#ff47ff\",\"#ffa0ff\",\"#ff5aff\",\"#ffe0ff\",\"#ff27ff\",\"#ffd6ff\",\"#ff88ff\",\"#ffbcff\",\"#ffbbff\",\"#ff9cff\",\"#ff97ff\",\"#ffd2ff\",\"#ff50ff\",\"#ff13ff\",\"#ff95ff\",\"#ff00ff\",\"#ff46ff\",\"#ff07ff\",\"#fffbff\",\"#ff97ff\",\"#ff05ff\",\"#ff1cff\",\"#ffe6ff\",\"#ff09ff\",\"#ffa7ff\",\"#ff77ff\",\"#ffafff\",\"#ff22ff\",\"#ff00ff\",\"#ff4fff\",\"#ffd3ff\",\"#ffa9ff\",\"#ffeeff\",\"#ffe3ff\",\"#ffbdff\",\"#ff4eff\",\"#ff7cff\",\"#ffc0ff\",\"#ffb1ff\",\"#fffbff\",\"#ffb6ff\",\"#ff6cff\",\"#ff7cff\",\"#ff89ff\",\"#ff8cff\",\"#ff6eff\",\"#ff7aff\",\"#ff21ff\",\"#ff6eff\",\"#ff18ff\",\"#ff9bff\",\"#ffa4ff\",\"#ffefff\",\"#ff33ff\",\"#ffc6ff\",\"#ffacff\",\"#ff6aff\",\"#ffd2ff\",\"#ffc7ff\",\"#ff9cff\",\"#ff1dff\",\"#ff33ff\",\"#ffb7ff\",\"#ff8cff\",\"#ff69ff\",\"#ff1eff\",\"#ff86ff\",\"#ffcfff\",\"#fff6ff\",\"#ff31ff\",\"#ff2cff\",\"#ffe8ff\",\"#ffebff\",\"#ff05ff\",\"#ffadff\",\"#ff57ff\",\"#ff0cff\",\"#ff13ff\",\"#ff68ff\",\"#ffe3ff\",\"#ffdaff\",\"#ff46ff\",\"#fff7ff\",\"#ff5fff\",\"#ffddff\",\"#ffa0ff\",\"#ffecff\",\"#ffe3ff\",\"#ff62ff\",\"#ff5bff\",\"#ffe2ff\",\"#fff4ff\",\"#ff5fff\",\"#ff8fff\",\"#ffd2ff\",\"#ffbbff\",\"#fff4ff\",\"#ff29ff\",\"#ffa0ff\",\"#ff05ff\",\"#ff58ff\",\"#ffd7ff\",\"#ff48ff\",\"#ff70ff\",\"#ff7cff\",\"#ff1bff\",\"#ffd3ff\",\"#ffe3ff\",\"#ff9fff\",\"#ff94ff\",\"#ffe0ff\",\"#ff72ff\",\"#ffb7ff\",\"#ff28ff\",\"#ff15ff\",\"#ff9dff\",\"#ffefff\",\"#ff5eff\",\"#fff1ff\",\"#ffb9ff\",\"#ff34ff\",\"#fff4ff\",\"#ffc4ff\",\"#ff43ff\",\"#ff3fff\",\"#ffd5ff\",\"#ffd5ff\",\"#ff91ff\",\"#ffd2ff\",\"#ffecff\",\"#fffeff\",\"#ffcaff\",\"#ff6eff\",\"#ff0fff\",\"#ffafff\",\"#ffa3ff\",\"#ff2eff\",\"#ffacff\",\"#ffddff\",\"#ffe0ff\",\"#ffefff\",\"#ff90ff\",\"#ff32ff\",\"#ff17ff\",\"#ff52ff\",\"#ffb1ff\",\"#ff59ff\",\"#ff20ff\",\"#ff7aff\",\"#ffbeff\",\"#fff9ff\",\"#ff74ff\",\"#ffeeff\",\"#fffaff\",\"#fffdff\",\"#ffbbff\",\"#ffd1ff\",\"#fffeff\",\"#ff03ff\",\"#ff3bff\",\"#ff30ff\",\"#ff57ff\",\"#ff14ff\",\"#ffe7ff\",\"#ffabff\",\"#ff67ff\",\"#ffafff\",\"#fffdff\",\"#ff46ff\",\"#ff8aff\",\"#ff85ff\",\"#ffc9ff\",\"#ff26ff\",\"#fffcff\",\"#ff31ff\",\"#ffabff\",\"#ff7dff\",\"#ffb0ff\",\"#ff8aff\",\"#ff9bff\",\"#ffb5ff\",\"#fff7ff\",\"#ffa0ff\",\"#ffc3ff\",\"#ffbfff\",\"#ffacff\",\"#ffe4ff\",\"#fffeff\",\"#ff37ff\",\"#fffeff\",\"#ff28ff\",\"#ff1bff\",\"#ff70ff\",\"#ff2cff\",\"#ff2bff\",\"#ffa6ff\",\"#ff24ff\",\"#ff5eff\",\"#ffe6ff\",\"#ff74ff\",\"#ff1bff\",\"#ff50ff\",\"#ff0eff\",\"#ffdeff\",\"#ff12ff\",\"#fff6ff\",\"#ff5eff\",\"#ff15ff\",\"#ffebff\",\"#ff67ff\",\"#ffb4ff\",\"#ffb7ff\",\"#ffd2ff\",\"#fff1ff\",\"#ff3dff\",\"#ff3cff\",\"#ffdbff\",\"#fff1ff\",\"#ffa2ff\",\"#ff27ff\",\"#ff14ff\",\"#ff56ff\",\"#ff84ff\",\"#ff9dff\",\"#ff4eff\",\"#fff9ff\",\"#ff5bff\",\"#ffe3ff\",\"#ffb2ff\",\"#ffbcff\",\"#ffd1ff\",\"#ffdfff\",\"#ff22ff\",\"#ff32ff\",\"#ff7cff\",\"#ffbaff\",\"#ff26ff\",\"#ffefff\",\"#ffc8ff\",\"#fff4ff\",\"#ff91ff\",\"#ff1aff\",\"#fffcff\",\"#ff36ff\",\"#ffc8ff\",\"#ff70ff\",\"#ff52ff\",\"#ff60ff\",\"#ffa7ff\",\"#ffb3ff\",\"#ff34ff\",\"#ffe6ff\",\"#ffd9ff\",\"#ffdcff\",\"#ff55ff\",\"#ff79ff\",\"#ff54ff\",\"#ff1eff\",\"#ffd1ff\",\"#ffdaff\",\"#fff6ff\",\"#ffd7ff\",\"#ff33ff\",\"#ff19ff\",\"#ffc4ff\",\"#ff22ff\",\"#ff81ff\",\"#ff11ff\",\"#ff7dff\",\"#ff25ff\",\"#ffc7ff\",\"#ffceff\",\"#ff01ff\",\"#ff20ff\",\"#ff8bff\",\"#ffb6ff\",\"#ffc9ff\",\"#ff09ff\",\"#ffcaff\",\"#fff2ff\",\"#ffc9ff\",\"#ff53ff\",\"#ff86ff\",\"#ffa4ff\",\"#ff36ff\",\"#ff6eff\",\"#fff7ff\",\"#ff8dff\",\"#ff44ff\",\"#ff55ff\",\"#ffa9ff\",\"#ffc2ff\",\"#ff4bff\",\"#ff15ff\",\"#ff10ff\",\"#ff54ff\",\"#ff35ff\",\"#ffedff\",\"#ff2cff\",\"#ff7dff\",\"#ff80ff\",\"#ff4aff\",\"#ffb4ff\",\"#ff77ff\",\"#ffb5ff\",\"#ff84ff\",\"#ff24ff\",\"#ff69ff\",\"#ff36ff\",\"#ff9fff\",\"#ffabff\",\"#fff6ff\",\"#ff62ff\",\"#ff43ff\"]]]}}},\"view\":{\"type\":\"object\",\"name\":\"CDSView\",\"id\":\"p1758\",\"attributes\":{\"filter\":{\"type\":\"object\",\"name\":\"AllIndices\",\"id\":\"p1759\"}}},\"glyph\":{\"type\":\"object\",\"name\":\"Circle\",\"id\":\"p1754\",\"attributes\":{\"x\":{\"type\":\"field\",\"field\":\"x\"},\"y\":{\"type\":\"field\",\"field\":\"y\"},\"radius\":{\"type\":\"field\",\"field\":\"radius\"},\"line_color\":{\"type\":\"value\",\"value\":\"lightgrey\"},\"fill_color\":{\"type\":\"field\",\"field\":\"fill_color\"},\"fill_alpha\":{\"type\":\"value\",\"value\":0.6}}},\"nonselection_glyph\":{\"type\":\"object\",\"name\":\"Circle\",\"id\":\"p1755\",\"attributes\":{\"x\":{\"type\":\"field\",\"field\":\"x\"},\"y\":{\"type\":\"field\",\"field\":\"y\"},\"radius\":{\"type\":\"field\",\"field\":\"radius\"},\"line_color\":{\"type\":\"value\",\"value\":\"lightgrey\"},\"line_alpha\":{\"type\":\"value\",\"value\":0.1},\"fill_color\":{\"type\":\"field\",\"field\":\"fill_color\"},\"fill_alpha\":{\"type\":\"value\",\"value\":0.1},\"hatch_alpha\":{\"type\":\"value\",\"value\":0.1}}},\"muted_glyph\":{\"type\":\"object\",\"name\":\"Circle\",\"id\":\"p1756\",\"attributes\":{\"x\":{\"type\":\"field\",\"field\":\"x\"},\"y\":{\"type\":\"field\",\"field\":\"y\"},\"radius\":{\"type\":\"field\",\"field\":\"radius\"},\"line_color\":{\"type\":\"value\",\"value\":\"lightgrey\"},\"line_alpha\":{\"type\":\"value\",\"value\":0.2},\"fill_color\":{\"type\":\"field\",\"field\":\"fill_color\"},\"fill_alpha\":{\"type\":\"value\",\"value\":0.2},\"hatch_alpha\":{\"type\":\"value\",\"value\":0.2}}}}}],\"toolbar\":{\"type\":\"object\",\"name\":\"Toolbar\",\"id\":\"p1725\",\"attributes\":{\"tools\":[{\"type\":\"object\",\"name\":\"PanTool\",\"id\":\"p1738\"},{\"type\":\"object\",\"name\":\"WheelZoomTool\",\"id\":\"p1739\",\"attributes\":{\"renderers\":\"auto\"}},{\"type\":\"object\",\"name\":\"BoxZoomTool\",\"id\":\"p1740\",\"attributes\":{\"overlay\":{\"type\":\"object\",\"name\":\"BoxAnnotation\",\"id\":\"p1741\",\"attributes\":{\"syncable\":false,\"line_color\":\"black\",\"line_alpha\":1.0,\"line_width\":2,\"line_dash\":[4,4],\"fill_color\":\"lightgrey\",\"fill_alpha\":0.5,\"level\":\"overlay\",\"visible\":false,\"left\":{\"type\":\"number\",\"value\":\"nan\"},\"right\":{\"type\":\"number\",\"value\":\"nan\"},\"top\":{\"type\":\"number\",\"value\":\"nan\"},\"bottom\":{\"type\":\"number\",\"value\":\"nan\"},\"left_units\":\"canvas\",\"right_units\":\"canvas\",\"top_units\":\"canvas\",\"bottom_units\":\"canvas\",\"handles\":{\"type\":\"object\",\"name\":\"BoxInteractionHandles\",\"id\":\"p1747\",\"attributes\":{\"all\":{\"type\":\"object\",\"name\":\"AreaVisuals\",\"id\":\"p1746\",\"attributes\":{\"fill_color\":\"white\",\"hover_fill_color\":\"lightgray\"}}}}}}}},{\"type\":\"object\",\"name\":\"SaveTool\",\"id\":\"p1748\"},{\"type\":\"object\",\"name\":\"ResetTool\",\"id\":\"p1749\"},{\"type\":\"object\",\"name\":\"HelpTool\",\"id\":\"p1750\"}]}},\"left\":[{\"type\":\"object\",\"name\":\"LinearAxis\",\"id\":\"p1733\",\"attributes\":{\"ticker\":{\"type\":\"object\",\"name\":\"BasicTicker\",\"id\":\"p1734\",\"attributes\":{\"mantissas\":[1,2,5]}},\"formatter\":{\"type\":\"object\",\"name\":\"BasicTickFormatter\",\"id\":\"p1735\"},\"major_label_policy\":{\"type\":\"object\",\"name\":\"AllLabels\",\"id\":\"p1736\"}}}],\"below\":[{\"type\":\"object\",\"name\":\"LinearAxis\",\"id\":\"p1728\",\"attributes\":{\"ticker\":{\"type\":\"object\",\"name\":\"BasicTicker\",\"id\":\"p1729\",\"attributes\":{\"mantissas\":[1,2,5]}},\"formatter\":{\"type\":\"object\",\"name\":\"BasicTickFormatter\",\"id\":\"p1730\"},\"major_label_policy\":{\"type\":\"object\",\"name\":\"AllLabels\",\"id\":\"p1731\"}}}],\"center\":[{\"type\":\"object\",\"name\":\"Grid\",\"id\":\"p1732\",\"attributes\":{\"axis\":{\"id\":\"p1728\"}}},{\"type\":\"object\",\"name\":\"Grid\",\"id\":\"p1737\",\"attributes\":{\"dimension\":1,\"axis\":{\"id\":\"p1733\"}}}]}}]}};\n",
       "  const render_items = [{\"docid\":\"9f9bd886-1782-495b-a383-d46c75a20aea\",\"roots\":{\"p1716\":\"f1f5bf69-72f8-44e4-b3e0-87aeda8d7e5f\"},\"root_ids\":[\"p1716\"]}];\n",
       "  void root.Bokeh.embed.embed_items_notebook(docs_json, render_items);\n",
       "  }\n",
       "  if (root.Bokeh !== undefined) {\n",
       "    embed_document(root);\n",
       "  } else {\n",
       "    let attempts = 0;\n",
       "    const timer = setInterval(function(root) {\n",
       "      if (root.Bokeh !== undefined) {\n",
       "        clearInterval(timer);\n",
       "        embed_document(root);\n",
       "      } else {\n",
       "        attempts++;\n",
       "        if (attempts > 100) {\n",
       "          clearInterval(timer);\n",
       "          console.log(\"Bokeh: ERROR: Unable to run BokehJS code because BokehJS library is missing\");\n",
       "        }\n",
       "      }\n",
       "    }, 10, root)\n",
       "  }\n",
       "})(window);"
      ],
      "application/vnd.bokehjs_exec.v0+json": ""
     },
     "metadata": {
      "application/vnd.bokehjs_exec.v0+json": {
       "id": "p1716"
      }
     },
     "output_type": "display_data"
    },
    {
     "name": "stdout",
     "output_type": "stream",
     "text": [
      "Opening in existing browser session.\n"
     ]
    }
   ],
   "source": [
    "p.circle(\n",
    "    x, y, radius=radii, \n",
    "    fill_color=colors, fill_alpha=0.6, \n",
    "    line_color='lightgrey'\n",
    ")\n",
    "show(p)"
   ]
  },
  {
   "cell_type": "markdown",
   "id": "f14184a6-7c94-4305-ac86-42034b46ef0b",
   "metadata": {},
   "source": [
    "## Color mapping palettes"
   ]
  },
  {
   "cell_type": "code",
   "execution_count": 61,
   "id": "953253bd-931a-4ce0-b737-c4033fd70cf2",
   "metadata": {},
   "outputs": [],
   "source": [
    "from bokeh.palettes import Turbo256 \n",
    "from bokeh.transform import linear_cmap"
   ]
  },
  {
   "cell_type": "code",
   "execution_count": 62,
   "id": "220e2318-b371-427a-a8cb-46dd8210c69c",
   "metadata": {},
   "outputs": [],
   "source": [
    "x = list(range(-32, 33))\n",
    "y = [i**2 for i in x]"
   ]
  },
  {
   "cell_type": "code",
   "execution_count": 63,
   "id": "0ce568fd-e006-4b78-962d-65ecfb01be65",
   "metadata": {},
   "outputs": [],
   "source": [
    "mapper = linear_cmap(field_name='y', palette=Turbo256, \n",
    "                    low=min(y), high=max(y))"
   ]
  },
  {
   "cell_type": "code",
   "execution_count": 64,
   "id": "3a6004cc-e6a2-4d07-8e0f-11d5f7e6e9a9",
   "metadata": {},
   "outputs": [
    {
     "data": {
      "text/html": [
       "\n",
       "  <div id=\"c375b684-c22a-40a5-a82d-d0f72a37d5c0\" data-root-id=\"p1767\" style=\"display: contents;\"></div>\n"
      ]
     },
     "metadata": {},
     "output_type": "display_data"
    },
    {
     "data": {
      "application/javascript": [
       "(function(root) {\n",
       "  function embed_document(root) {\n",
       "  const docs_json = {\"3e003417-e9bd-4a40-8544-c4a750a52e33\":{\"version\":\"3.6.2\",\"title\":\"Bokeh Application\",\"roots\":[{\"type\":\"object\",\"name\":\"Figure\",\"id\":\"p1767\",\"attributes\":{\"width\":500,\"height\":250,\"x_range\":{\"type\":\"object\",\"name\":\"DataRange1d\",\"id\":\"p1768\"},\"y_range\":{\"type\":\"object\",\"name\":\"DataRange1d\",\"id\":\"p1769\"},\"x_scale\":{\"type\":\"object\",\"name\":\"LinearScale\",\"id\":\"p1776\"},\"y_scale\":{\"type\":\"object\",\"name\":\"LinearScale\",\"id\":\"p1777\"},\"title\":{\"type\":\"object\",\"name\":\"Title\",\"id\":\"p1774\"},\"renderers\":[{\"type\":\"object\",\"name\":\"GlyphRenderer\",\"id\":\"p1807\",\"attributes\":{\"data_source\":{\"type\":\"object\",\"name\":\"ColumnDataSource\",\"id\":\"p1801\",\"attributes\":{\"selected\":{\"type\":\"object\",\"name\":\"Selection\",\"id\":\"p1802\",\"attributes\":{\"indices\":[],\"line_indices\":[]}},\"selection_policy\":{\"type\":\"object\",\"name\":\"UnionRenderers\",\"id\":\"p1803\"},\"data\":{\"type\":\"map\",\"entries\":[[\"x\",[-32,-31,-30,-29,-28,-27,-26,-25,-24,-23,-22,-21,-20,-19,-18,-17,-16,-15,-14,-13,-12,-11,-10,-9,-8,-7,-6,-5,-4,-3,-2,-1,0,1,2,3,4,5,6,7,8,9,10,11,12,13,14,15,16,17,18,19,20,21,22,23,24,25,26,27,28,29,30,31,32]],[\"y\",[1024,961,900,841,784,729,676,625,576,529,484,441,400,361,324,289,256,225,196,169,144,121,100,81,64,49,36,25,16,9,4,1,0,1,4,9,16,25,36,49,64,81,100,121,144,169,196,225,256,289,324,361,400,441,484,529,576,625,676,729,784,841,900,961,1024]]]}}},\"view\":{\"type\":\"object\",\"name\":\"CDSView\",\"id\":\"p1808\",\"attributes\":{\"filter\":{\"type\":\"object\",\"name\":\"AllIndices\",\"id\":\"p1809\"}}},\"glyph\":{\"type\":\"object\",\"name\":\"Scatter\",\"id\":\"p1804\",\"attributes\":{\"x\":{\"type\":\"field\",\"field\":\"x\"},\"y\":{\"type\":\"field\",\"field\":\"y\"},\"size\":{\"type\":\"value\",\"value\":10},\"line_color\":{\"type\":\"field\",\"field\":\"y\",\"transform\":{\"type\":\"object\",\"name\":\"LinearColorMapper\",\"id\":\"p1766\",\"attributes\":{\"palette\":[\"#30123b\",\"#311542\",\"#32184a\",\"#341b51\",\"#351e58\",\"#36215f\",\"#372365\",\"#38266c\",\"#392972\",\"#3a2c79\",\"#3b2f7f\",\"#3c3285\",\"#3c358b\",\"#3d3791\",\"#3e3a96\",\"#3f3d9c\",\"#4040a1\",\"#4043a6\",\"#4145ab\",\"#4148b0\",\"#424bb5\",\"#434eba\",\"#4350be\",\"#4353c2\",\"#4456c7\",\"#4458cb\",\"#455bce\",\"#455ed2\",\"#4560d6\",\"#4563d9\",\"#4666dd\",\"#4668e0\",\"#466be3\",\"#466de6\",\"#4670e8\",\"#4673eb\",\"#4675ed\",\"#4678f0\",\"#467af2\",\"#467df4\",\"#467ff6\",\"#4682f8\",\"#4584f9\",\"#4587fb\",\"#4589fc\",\"#448cfd\",\"#438efd\",\"#4291fe\",\"#4193fe\",\"#4096fe\",\"#3f98fe\",\"#3e9bfe\",\"#3c9dfd\",\"#3ba0fc\",\"#39a2fc\",\"#38a5fb\",\"#36a8f9\",\"#34aaf8\",\"#33acf6\",\"#31aff5\",\"#2fb1f3\",\"#2db4f1\",\"#2bb6ef\",\"#2ab9ed\",\"#28bbeb\",\"#26bde9\",\"#25c0e6\",\"#23c2e4\",\"#21c4e1\",\"#20c6df\",\"#1ec9dc\",\"#1dcbda\",\"#1ccdd7\",\"#1bcfd4\",\"#1ad1d2\",\"#19d3cf\",\"#18d5cc\",\"#18d7ca\",\"#17d9c7\",\"#17dac4\",\"#17dcc2\",\"#17debf\",\"#18e0bd\",\"#18e1ba\",\"#19e3b8\",\"#1ae4b6\",\"#1be5b4\",\"#1de7b1\",\"#1ee8af\",\"#20e9ac\",\"#22eba9\",\"#24eca6\",\"#27eda3\",\"#29eea0\",\"#2cef9d\",\"#2ff09a\",\"#32f197\",\"#35f394\",\"#38f491\",\"#3bf48d\",\"#3ff58a\",\"#42f687\",\"#46f783\",\"#4af880\",\"#4df97c\",\"#51f979\",\"#55fa76\",\"#59fb72\",\"#5dfb6f\",\"#61fc6c\",\"#65fc68\",\"#69fd65\",\"#6dfd62\",\"#71fd5f\",\"#74fe5c\",\"#78fe59\",\"#7cfe56\",\"#80fe53\",\"#84fe50\",\"#87fe4d\",\"#8bfe4b\",\"#8efe48\",\"#92fe46\",\"#95fe44\",\"#98fe42\",\"#9bfd40\",\"#9efd3e\",\"#a1fc3d\",\"#a4fc3b\",\"#a6fb3a\",\"#a9fb39\",\"#acfa37\",\"#aef937\",\"#b1f836\",\"#b3f835\",\"#b6f735\",\"#b9f534\",\"#bbf434\",\"#bef334\",\"#c0f233\",\"#c3f133\",\"#c5ef33\",\"#c8ee33\",\"#caed33\",\"#cdeb34\",\"#cfea34\",\"#d1e834\",\"#d4e735\",\"#d6e535\",\"#d8e335\",\"#dae236\",\"#dde036\",\"#dfde36\",\"#e1dc37\",\"#e3da37\",\"#e5d838\",\"#e7d738\",\"#e8d538\",\"#ead339\",\"#ecd139\",\"#edcf39\",\"#efcd39\",\"#f0cb3a\",\"#f2c83a\",\"#f3c63a\",\"#f4c43a\",\"#f6c23a\",\"#f7c039\",\"#f8be39\",\"#f9bc39\",\"#f9ba38\",\"#fab737\",\"#fbb537\",\"#fbb336\",\"#fcb035\",\"#fcae34\",\"#fdab33\",\"#fda932\",\"#fda631\",\"#fda330\",\"#fea12f\",\"#fe9e2e\",\"#fe9b2d\",\"#fe982c\",\"#fd952b\",\"#fd9229\",\"#fd8f28\",\"#fd8c27\",\"#fc8926\",\"#fc8624\",\"#fb8323\",\"#fb8022\",\"#fa7d20\",\"#fa7a1f\",\"#f9771e\",\"#f8741c\",\"#f7711b\",\"#f76e1a\",\"#f66b18\",\"#f56817\",\"#f46516\",\"#f36315\",\"#f26014\",\"#f15d13\",\"#ef5a11\",\"#ee5810\",\"#ed550f\",\"#ec520e\",\"#ea500d\",\"#e94d0d\",\"#e84b0c\",\"#e6490b\",\"#e5460a\",\"#e3440a\",\"#e24209\",\"#e04008\",\"#de3e08\",\"#dd3c07\",\"#db3a07\",\"#d93806\",\"#d73606\",\"#d63405\",\"#d43205\",\"#d23005\",\"#d02f04\",\"#ce2d04\",\"#cb2b03\",\"#c92903\",\"#c72803\",\"#c52602\",\"#c32402\",\"#c02302\",\"#be2102\",\"#bb1f01\",\"#b91e01\",\"#b61c01\",\"#b41b01\",\"#b11901\",\"#ae1801\",\"#ac1601\",\"#a91501\",\"#a61401\",\"#a31201\",\"#a01101\",\"#9d1001\",\"#9a0e01\",\"#970d01\",\"#940c01\",\"#910b01\",\"#8e0a01\",\"#8b0901\",\"#870801\",\"#840701\",\"#810602\",\"#7d0502\",\"#7a0402\"],\"low\":0,\"high\":1024}}},\"fill_color\":{\"type\":\"field\",\"field\":\"y\",\"transform\":{\"id\":\"p1766\"}},\"hatch_color\":{\"type\":\"field\",\"field\":\"y\",\"transform\":{\"id\":\"p1766\"}}}},\"nonselection_glyph\":{\"type\":\"object\",\"name\":\"Scatter\",\"id\":\"p1805\",\"attributes\":{\"x\":{\"type\":\"field\",\"field\":\"x\"},\"y\":{\"type\":\"field\",\"field\":\"y\"},\"size\":{\"type\":\"value\",\"value\":10},\"line_color\":{\"type\":\"field\",\"field\":\"y\",\"transform\":{\"id\":\"p1766\"}},\"line_alpha\":{\"type\":\"value\",\"value\":0.1},\"fill_color\":{\"type\":\"field\",\"field\":\"y\",\"transform\":{\"id\":\"p1766\"}},\"fill_alpha\":{\"type\":\"value\",\"value\":0.1},\"hatch_color\":{\"type\":\"field\",\"field\":\"y\",\"transform\":{\"id\":\"p1766\"}},\"hatch_alpha\":{\"type\":\"value\",\"value\":0.1}}},\"muted_glyph\":{\"type\":\"object\",\"name\":\"Scatter\",\"id\":\"p1806\",\"attributes\":{\"x\":{\"type\":\"field\",\"field\":\"x\"},\"y\":{\"type\":\"field\",\"field\":\"y\"},\"size\":{\"type\":\"value\",\"value\":10},\"line_color\":{\"type\":\"field\",\"field\":\"y\",\"transform\":{\"id\":\"p1766\"}},\"line_alpha\":{\"type\":\"value\",\"value\":0.2},\"fill_color\":{\"type\":\"field\",\"field\":\"y\",\"transform\":{\"id\":\"p1766\"}},\"fill_alpha\":{\"type\":\"value\",\"value\":0.2},\"hatch_color\":{\"type\":\"field\",\"field\":\"y\",\"transform\":{\"id\":\"p1766\"}},\"hatch_alpha\":{\"type\":\"value\",\"value\":0.2}}}}}],\"toolbar\":{\"type\":\"object\",\"name\":\"Toolbar\",\"id\":\"p1775\",\"attributes\":{\"tools\":[{\"type\":\"object\",\"name\":\"PanTool\",\"id\":\"p1788\"},{\"type\":\"object\",\"name\":\"WheelZoomTool\",\"id\":\"p1789\",\"attributes\":{\"renderers\":\"auto\"}},{\"type\":\"object\",\"name\":\"BoxZoomTool\",\"id\":\"p1790\",\"attributes\":{\"overlay\":{\"type\":\"object\",\"name\":\"BoxAnnotation\",\"id\":\"p1791\",\"attributes\":{\"syncable\":false,\"line_color\":\"black\",\"line_alpha\":1.0,\"line_width\":2,\"line_dash\":[4,4],\"fill_color\":\"lightgrey\",\"fill_alpha\":0.5,\"level\":\"overlay\",\"visible\":false,\"left\":{\"type\":\"number\",\"value\":\"nan\"},\"right\":{\"type\":\"number\",\"value\":\"nan\"},\"top\":{\"type\":\"number\",\"value\":\"nan\"},\"bottom\":{\"type\":\"number\",\"value\":\"nan\"},\"left_units\":\"canvas\",\"right_units\":\"canvas\",\"top_units\":\"canvas\",\"bottom_units\":\"canvas\",\"handles\":{\"type\":\"object\",\"name\":\"BoxInteractionHandles\",\"id\":\"p1797\",\"attributes\":{\"all\":{\"type\":\"object\",\"name\":\"AreaVisuals\",\"id\":\"p1796\",\"attributes\":{\"fill_color\":\"white\",\"hover_fill_color\":\"lightgray\"}}}}}}}},{\"type\":\"object\",\"name\":\"SaveTool\",\"id\":\"p1798\"},{\"type\":\"object\",\"name\":\"ResetTool\",\"id\":\"p1799\"},{\"type\":\"object\",\"name\":\"HelpTool\",\"id\":\"p1800\"}]}},\"left\":[{\"type\":\"object\",\"name\":\"LinearAxis\",\"id\":\"p1783\",\"attributes\":{\"ticker\":{\"type\":\"object\",\"name\":\"BasicTicker\",\"id\":\"p1784\",\"attributes\":{\"mantissas\":[1,2,5]}},\"formatter\":{\"type\":\"object\",\"name\":\"BasicTickFormatter\",\"id\":\"p1785\"},\"major_label_policy\":{\"type\":\"object\",\"name\":\"AllLabels\",\"id\":\"p1786\"}}}],\"below\":[{\"type\":\"object\",\"name\":\"LinearAxis\",\"id\":\"p1778\",\"attributes\":{\"ticker\":{\"type\":\"object\",\"name\":\"BasicTicker\",\"id\":\"p1779\",\"attributes\":{\"mantissas\":[1,2,5]}},\"formatter\":{\"type\":\"object\",\"name\":\"BasicTickFormatter\",\"id\":\"p1780\"},\"major_label_policy\":{\"type\":\"object\",\"name\":\"AllLabels\",\"id\":\"p1781\"}}}],\"center\":[{\"type\":\"object\",\"name\":\"Grid\",\"id\":\"p1782\",\"attributes\":{\"axis\":{\"id\":\"p1778\"}}},{\"type\":\"object\",\"name\":\"Grid\",\"id\":\"p1787\",\"attributes\":{\"dimension\":1,\"axis\":{\"id\":\"p1783\"}}}]}}]}};\n",
       "  const render_items = [{\"docid\":\"3e003417-e9bd-4a40-8544-c4a750a52e33\",\"roots\":{\"p1767\":\"c375b684-c22a-40a5-a82d-d0f72a37d5c0\"},\"root_ids\":[\"p1767\"]}];\n",
       "  void root.Bokeh.embed.embed_items_notebook(docs_json, render_items);\n",
       "  }\n",
       "  if (root.Bokeh !== undefined) {\n",
       "    embed_document(root);\n",
       "  } else {\n",
       "    let attempts = 0;\n",
       "    const timer = setInterval(function(root) {\n",
       "      if (root.Bokeh !== undefined) {\n",
       "        clearInterval(timer);\n",
       "        embed_document(root);\n",
       "      } else {\n",
       "        attempts++;\n",
       "        if (attempts > 100) {\n",
       "          clearInterval(timer);\n",
       "          console.log(\"Bokeh: ERROR: Unable to run BokehJS code because BokehJS library is missing\");\n",
       "        }\n",
       "      }\n",
       "    }, 10, root)\n",
       "  }\n",
       "})(window);"
      ],
      "application/vnd.bokehjs_exec.v0+json": ""
     },
     "metadata": {
      "application/vnd.bokehjs_exec.v0+json": {
       "id": "p1767"
      }
     },
     "output_type": "display_data"
    },
    {
     "name": "stdout",
     "output_type": "stream",
     "text": [
      "Opening in existing browser session.\n"
     ]
    }
   ],
   "source": [
    "p = figure(width=500, height=250)\n",
    "p.scatter(x, y, color=mapper, size=10)\n",
    "show(p)"
   ]
  },
  {
   "cell_type": "markdown",
   "id": "a5fa6245-21cd-4e22-9f9e-cca2c7407dad",
   "metadata": {},
   "source": [
    "# Combine plots"
   ]
  },
  {
   "cell_type": "markdown",
   "id": "9e57de10-ec32-4324-9783-f35d8b25e061",
   "metadata": {},
   "source": [
    "## Rows, columns, grids"
   ]
  },
  {
   "cell_type": "code",
   "execution_count": 65,
   "id": "5109ae6d-f8fe-4265-80e7-73806c1e6b31",
   "metadata": {},
   "outputs": [],
   "source": [
    "from bokeh.layouts import row"
   ]
  },
  {
   "cell_type": "code",
   "execution_count": 66,
   "id": "4109235d-22f7-4ae8-9f06-1e10bafa5abc",
   "metadata": {},
   "outputs": [],
   "source": [
    "x = list(range(11))\n",
    "y0 = x \n",
    "y1 = [10- i for i in x]\n",
    "y2 = [abs(i - 5) for i in x]"
   ]
  },
  {
   "cell_type": "code",
   "execution_count": 67,
   "id": "42ba0456-c60e-48fd-bede-4ef83a8b309f",
   "metadata": {},
   "outputs": [
    {
     "data": {
      "text/html": [
       "\n",
       "  <div id=\"b462fd44-2ff8-48dc-a14c-a09d7dcb34cc\" data-root-id=\"p1939\" style=\"display: contents;\"></div>\n"
      ]
     },
     "metadata": {},
     "output_type": "display_data"
    },
    {
     "data": {
      "application/javascript": [
       "(function(root) {\n",
       "  function embed_document(root) {\n",
       "  const docs_json = {\"80e9010e-9140-460c-92a7-484407c753e5\":{\"version\":\"3.6.2\",\"title\":\"Bokeh Application\",\"roots\":[{\"type\":\"object\",\"name\":\"Row\",\"id\":\"p1939\",\"attributes\":{\"children\":[{\"type\":\"object\",\"name\":\"Figure\",\"id\":\"p1810\",\"attributes\":{\"width\":250,\"height\":250,\"x_range\":{\"type\":\"object\",\"name\":\"DataRange1d\",\"id\":\"p1811\"},\"y_range\":{\"type\":\"object\",\"name\":\"DataRange1d\",\"id\":\"p1812\"},\"x_scale\":{\"type\":\"object\",\"name\":\"LinearScale\",\"id\":\"p1819\"},\"y_scale\":{\"type\":\"object\",\"name\":\"LinearScale\",\"id\":\"p1820\"},\"title\":{\"type\":\"object\",\"name\":\"Title\",\"id\":\"p1817\"},\"renderers\":[{\"type\":\"object\",\"name\":\"GlyphRenderer\",\"id\":\"p1850\",\"attributes\":{\"data_source\":{\"type\":\"object\",\"name\":\"ColumnDataSource\",\"id\":\"p1844\",\"attributes\":{\"selected\":{\"type\":\"object\",\"name\":\"Selection\",\"id\":\"p1845\",\"attributes\":{\"indices\":[],\"line_indices\":[]}},\"selection_policy\":{\"type\":\"object\",\"name\":\"UnionRenderers\",\"id\":\"p1846\"},\"data\":{\"type\":\"map\",\"entries\":[[\"x\",[0,1,2,3,4,5,6,7,8,9,10]],[\"y\",[0,1,2,3,4,5,6,7,8,9,10]]]}}},\"view\":{\"type\":\"object\",\"name\":\"CDSView\",\"id\":\"p1851\",\"attributes\":{\"filter\":{\"type\":\"object\",\"name\":\"AllIndices\",\"id\":\"p1852\"}}},\"glyph\":{\"type\":\"object\",\"name\":\"Scatter\",\"id\":\"p1847\",\"attributes\":{\"x\":{\"type\":\"field\",\"field\":\"x\"},\"y\":{\"type\":\"field\",\"field\":\"y\"},\"size\":{\"type\":\"value\",\"value\":12},\"line_color\":{\"type\":\"value\",\"value\":\"#53777a\"},\"line_alpha\":{\"type\":\"value\",\"value\":0.8},\"fill_color\":{\"type\":\"value\",\"value\":\"#53777a\"},\"fill_alpha\":{\"type\":\"value\",\"value\":0.8},\"hatch_color\":{\"type\":\"value\",\"value\":\"#53777a\"},\"hatch_alpha\":{\"type\":\"value\",\"value\":0.8}}},\"nonselection_glyph\":{\"type\":\"object\",\"name\":\"Scatter\",\"id\":\"p1848\",\"attributes\":{\"x\":{\"type\":\"field\",\"field\":\"x\"},\"y\":{\"type\":\"field\",\"field\":\"y\"},\"size\":{\"type\":\"value\",\"value\":12},\"line_color\":{\"type\":\"value\",\"value\":\"#53777a\"},\"line_alpha\":{\"type\":\"value\",\"value\":0.1},\"fill_color\":{\"type\":\"value\",\"value\":\"#53777a\"},\"fill_alpha\":{\"type\":\"value\",\"value\":0.1},\"hatch_color\":{\"type\":\"value\",\"value\":\"#53777a\"},\"hatch_alpha\":{\"type\":\"value\",\"value\":0.1}}},\"muted_glyph\":{\"type\":\"object\",\"name\":\"Scatter\",\"id\":\"p1849\",\"attributes\":{\"x\":{\"type\":\"field\",\"field\":\"x\"},\"y\":{\"type\":\"field\",\"field\":\"y\"},\"size\":{\"type\":\"value\",\"value\":12},\"line_color\":{\"type\":\"value\",\"value\":\"#53777a\"},\"line_alpha\":{\"type\":\"value\",\"value\":0.2},\"fill_color\":{\"type\":\"value\",\"value\":\"#53777a\"},\"fill_alpha\":{\"type\":\"value\",\"value\":0.2},\"hatch_color\":{\"type\":\"value\",\"value\":\"#53777a\"},\"hatch_alpha\":{\"type\":\"value\",\"value\":0.2}}}}}],\"toolbar\":{\"type\":\"object\",\"name\":\"Toolbar\",\"id\":\"p1818\",\"attributes\":{\"autohide\":true,\"tools\":[{\"type\":\"object\",\"name\":\"PanTool\",\"id\":\"p1831\"},{\"type\":\"object\",\"name\":\"WheelZoomTool\",\"id\":\"p1832\",\"attributes\":{\"renderers\":\"auto\"}},{\"type\":\"object\",\"name\":\"BoxZoomTool\",\"id\":\"p1833\",\"attributes\":{\"overlay\":{\"type\":\"object\",\"name\":\"BoxAnnotation\",\"id\":\"p1834\",\"attributes\":{\"syncable\":false,\"line_color\":\"black\",\"line_alpha\":1.0,\"line_width\":2,\"line_dash\":[4,4],\"fill_color\":\"lightgrey\",\"fill_alpha\":0.5,\"level\":\"overlay\",\"visible\":false,\"left\":{\"type\":\"number\",\"value\":\"nan\"},\"right\":{\"type\":\"number\",\"value\":\"nan\"},\"top\":{\"type\":\"number\",\"value\":\"nan\"},\"bottom\":{\"type\":\"number\",\"value\":\"nan\"},\"left_units\":\"canvas\",\"right_units\":\"canvas\",\"top_units\":\"canvas\",\"bottom_units\":\"canvas\",\"handles\":{\"type\":\"object\",\"name\":\"BoxInteractionHandles\",\"id\":\"p1840\",\"attributes\":{\"all\":{\"type\":\"object\",\"name\":\"AreaVisuals\",\"id\":\"p1839\",\"attributes\":{\"fill_color\":\"white\",\"hover_fill_color\":\"lightgray\"}}}}}}}},{\"type\":\"object\",\"name\":\"SaveTool\",\"id\":\"p1841\"},{\"type\":\"object\",\"name\":\"ResetTool\",\"id\":\"p1842\"},{\"type\":\"object\",\"name\":\"HelpTool\",\"id\":\"p1843\"}]}},\"toolbar_location\":\"below\",\"toolbar_inner\":true,\"left\":[{\"type\":\"object\",\"name\":\"LinearAxis\",\"id\":\"p1826\",\"attributes\":{\"ticker\":{\"type\":\"object\",\"name\":\"BasicTicker\",\"id\":\"p1827\",\"attributes\":{\"mantissas\":[1,2,5]}},\"formatter\":{\"type\":\"object\",\"name\":\"BasicTickFormatter\",\"id\":\"p1828\"},\"major_label_policy\":{\"type\":\"object\",\"name\":\"AllLabels\",\"id\":\"p1829\"}}}],\"below\":[{\"type\":\"object\",\"name\":\"LinearAxis\",\"id\":\"p1821\",\"attributes\":{\"ticker\":{\"type\":\"object\",\"name\":\"BasicTicker\",\"id\":\"p1822\",\"attributes\":{\"mantissas\":[1,2,5]}},\"formatter\":{\"type\":\"object\",\"name\":\"BasicTickFormatter\",\"id\":\"p1823\"},\"major_label_policy\":{\"type\":\"object\",\"name\":\"AllLabels\",\"id\":\"p1824\"}}}],\"center\":[{\"type\":\"object\",\"name\":\"Grid\",\"id\":\"p1825\",\"attributes\":{\"axis\":{\"id\":\"p1821\"}}},{\"type\":\"object\",\"name\":\"Grid\",\"id\":\"p1830\",\"attributes\":{\"dimension\":1,\"axis\":{\"id\":\"p1826\"}}}],\"background_fill_color\":\"#fafafa\"}},{\"type\":\"object\",\"name\":\"Figure\",\"id\":\"p1853\",\"attributes\":{\"width\":250,\"height\":250,\"x_range\":{\"type\":\"object\",\"name\":\"DataRange1d\",\"id\":\"p1854\"},\"y_range\":{\"type\":\"object\",\"name\":\"DataRange1d\",\"id\":\"p1855\"},\"x_scale\":{\"type\":\"object\",\"name\":\"LinearScale\",\"id\":\"p1862\"},\"y_scale\":{\"type\":\"object\",\"name\":\"LinearScale\",\"id\":\"p1863\"},\"title\":{\"type\":\"object\",\"name\":\"Title\",\"id\":\"p1860\"},\"renderers\":[{\"type\":\"object\",\"name\":\"GlyphRenderer\",\"id\":\"p1893\",\"attributes\":{\"data_source\":{\"type\":\"object\",\"name\":\"ColumnDataSource\",\"id\":\"p1887\",\"attributes\":{\"selected\":{\"type\":\"object\",\"name\":\"Selection\",\"id\":\"p1888\",\"attributes\":{\"indices\":[],\"line_indices\":[]}},\"selection_policy\":{\"type\":\"object\",\"name\":\"UnionRenderers\",\"id\":\"p1889\"},\"data\":{\"type\":\"map\",\"entries\":[[\"x\",[0,1,2,3,4,5,6,7,8,9,10]],[\"y\",[10,9,8,7,6,5,4,3,2,1,0]]]}}},\"view\":{\"type\":\"object\",\"name\":\"CDSView\",\"id\":\"p1894\",\"attributes\":{\"filter\":{\"type\":\"object\",\"name\":\"AllIndices\",\"id\":\"p1895\"}}},\"glyph\":{\"type\":\"object\",\"name\":\"Scatter\",\"id\":\"p1890\",\"attributes\":{\"x\":{\"type\":\"field\",\"field\":\"x\"},\"y\":{\"type\":\"field\",\"field\":\"y\"},\"size\":{\"type\":\"value\",\"value\":12},\"line_color\":{\"type\":\"value\",\"value\":\"#c02942\"},\"line_alpha\":{\"type\":\"value\",\"value\":0.8},\"fill_color\":{\"type\":\"value\",\"value\":\"#c02942\"},\"fill_alpha\":{\"type\":\"value\",\"value\":0.8},\"hatch_color\":{\"type\":\"value\",\"value\":\"#c02942\"},\"hatch_alpha\":{\"type\":\"value\",\"value\":0.8},\"marker\":{\"type\":\"value\",\"value\":\"triangle\"}}},\"nonselection_glyph\":{\"type\":\"object\",\"name\":\"Scatter\",\"id\":\"p1891\",\"attributes\":{\"x\":{\"type\":\"field\",\"field\":\"x\"},\"y\":{\"type\":\"field\",\"field\":\"y\"},\"size\":{\"type\":\"value\",\"value\":12},\"line_color\":{\"type\":\"value\",\"value\":\"#c02942\"},\"line_alpha\":{\"type\":\"value\",\"value\":0.1},\"fill_color\":{\"type\":\"value\",\"value\":\"#c02942\"},\"fill_alpha\":{\"type\":\"value\",\"value\":0.1},\"hatch_color\":{\"type\":\"value\",\"value\":\"#c02942\"},\"hatch_alpha\":{\"type\":\"value\",\"value\":0.1},\"marker\":{\"type\":\"value\",\"value\":\"triangle\"}}},\"muted_glyph\":{\"type\":\"object\",\"name\":\"Scatter\",\"id\":\"p1892\",\"attributes\":{\"x\":{\"type\":\"field\",\"field\":\"x\"},\"y\":{\"type\":\"field\",\"field\":\"y\"},\"size\":{\"type\":\"value\",\"value\":12},\"line_color\":{\"type\":\"value\",\"value\":\"#c02942\"},\"line_alpha\":{\"type\":\"value\",\"value\":0.2},\"fill_color\":{\"type\":\"value\",\"value\":\"#c02942\"},\"fill_alpha\":{\"type\":\"value\",\"value\":0.2},\"hatch_color\":{\"type\":\"value\",\"value\":\"#c02942\"},\"hatch_alpha\":{\"type\":\"value\",\"value\":0.2},\"marker\":{\"type\":\"value\",\"value\":\"triangle\"}}}}}],\"toolbar\":{\"type\":\"object\",\"name\":\"Toolbar\",\"id\":\"p1861\",\"attributes\":{\"autohide\":true,\"tools\":[{\"type\":\"object\",\"name\":\"PanTool\",\"id\":\"p1874\"},{\"type\":\"object\",\"name\":\"WheelZoomTool\",\"id\":\"p1875\",\"attributes\":{\"renderers\":\"auto\"}},{\"type\":\"object\",\"name\":\"BoxZoomTool\",\"id\":\"p1876\",\"attributes\":{\"overlay\":{\"type\":\"object\",\"name\":\"BoxAnnotation\",\"id\":\"p1877\",\"attributes\":{\"syncable\":false,\"line_color\":\"black\",\"line_alpha\":1.0,\"line_width\":2,\"line_dash\":[4,4],\"fill_color\":\"lightgrey\",\"fill_alpha\":0.5,\"level\":\"overlay\",\"visible\":false,\"left\":{\"type\":\"number\",\"value\":\"nan\"},\"right\":{\"type\":\"number\",\"value\":\"nan\"},\"top\":{\"type\":\"number\",\"value\":\"nan\"},\"bottom\":{\"type\":\"number\",\"value\":\"nan\"},\"left_units\":\"canvas\",\"right_units\":\"canvas\",\"top_units\":\"canvas\",\"bottom_units\":\"canvas\",\"handles\":{\"type\":\"object\",\"name\":\"BoxInteractionHandles\",\"id\":\"p1883\",\"attributes\":{\"all\":{\"type\":\"object\",\"name\":\"AreaVisuals\",\"id\":\"p1882\",\"attributes\":{\"fill_color\":\"white\",\"hover_fill_color\":\"lightgray\"}}}}}}}},{\"type\":\"object\",\"name\":\"SaveTool\",\"id\":\"p1884\"},{\"type\":\"object\",\"name\":\"ResetTool\",\"id\":\"p1885\"},{\"type\":\"object\",\"name\":\"HelpTool\",\"id\":\"p1886\"}]}},\"toolbar_location\":\"below\",\"toolbar_inner\":true,\"left\":[{\"type\":\"object\",\"name\":\"LinearAxis\",\"id\":\"p1869\",\"attributes\":{\"ticker\":{\"type\":\"object\",\"name\":\"BasicTicker\",\"id\":\"p1870\",\"attributes\":{\"mantissas\":[1,2,5]}},\"formatter\":{\"type\":\"object\",\"name\":\"BasicTickFormatter\",\"id\":\"p1871\"},\"major_label_policy\":{\"type\":\"object\",\"name\":\"AllLabels\",\"id\":\"p1872\"}}}],\"below\":[{\"type\":\"object\",\"name\":\"LinearAxis\",\"id\":\"p1864\",\"attributes\":{\"ticker\":{\"type\":\"object\",\"name\":\"BasicTicker\",\"id\":\"p1865\",\"attributes\":{\"mantissas\":[1,2,5]}},\"formatter\":{\"type\":\"object\",\"name\":\"BasicTickFormatter\",\"id\":\"p1866\"},\"major_label_policy\":{\"type\":\"object\",\"name\":\"AllLabels\",\"id\":\"p1867\"}}}],\"center\":[{\"type\":\"object\",\"name\":\"Grid\",\"id\":\"p1868\",\"attributes\":{\"axis\":{\"id\":\"p1864\"}}},{\"type\":\"object\",\"name\":\"Grid\",\"id\":\"p1873\",\"attributes\":{\"dimension\":1,\"axis\":{\"id\":\"p1869\"}}}],\"background_fill_color\":\"#fafafa\"}},{\"type\":\"object\",\"name\":\"Figure\",\"id\":\"p1896\",\"attributes\":{\"width\":250,\"height\":250,\"x_range\":{\"type\":\"object\",\"name\":\"DataRange1d\",\"id\":\"p1897\"},\"y_range\":{\"type\":\"object\",\"name\":\"DataRange1d\",\"id\":\"p1898\"},\"x_scale\":{\"type\":\"object\",\"name\":\"LinearScale\",\"id\":\"p1905\"},\"y_scale\":{\"type\":\"object\",\"name\":\"LinearScale\",\"id\":\"p1906\"},\"title\":{\"type\":\"object\",\"name\":\"Title\",\"id\":\"p1903\"},\"renderers\":[{\"type\":\"object\",\"name\":\"GlyphRenderer\",\"id\":\"p1936\",\"attributes\":{\"data_source\":{\"type\":\"object\",\"name\":\"ColumnDataSource\",\"id\":\"p1930\",\"attributes\":{\"selected\":{\"type\":\"object\",\"name\":\"Selection\",\"id\":\"p1931\",\"attributes\":{\"indices\":[],\"line_indices\":[]}},\"selection_policy\":{\"type\":\"object\",\"name\":\"UnionRenderers\",\"id\":\"p1932\"},\"data\":{\"type\":\"map\",\"entries\":[[\"x\",[0,1,2,3,4,5,6,7,8,9,10]],[\"y\",[0,1,2,3,4,5,6,7,8,9,10]]]}}},\"view\":{\"type\":\"object\",\"name\":\"CDSView\",\"id\":\"p1937\",\"attributes\":{\"filter\":{\"type\":\"object\",\"name\":\"AllIndices\",\"id\":\"p1938\"}}},\"glyph\":{\"type\":\"object\",\"name\":\"Scatter\",\"id\":\"p1933\",\"attributes\":{\"x\":{\"type\":\"field\",\"field\":\"x\"},\"y\":{\"type\":\"field\",\"field\":\"y\"},\"size\":{\"type\":\"value\",\"value\":12},\"line_color\":{\"type\":\"value\",\"value\":\"#d95b43\"},\"line_alpha\":{\"type\":\"value\",\"value\":0.8},\"fill_color\":{\"type\":\"value\",\"value\":\"#d95b43\"},\"fill_alpha\":{\"type\":\"value\",\"value\":0.8},\"hatch_color\":{\"type\":\"value\",\"value\":\"#d95b43\"},\"hatch_alpha\":{\"type\":\"value\",\"value\":0.8},\"marker\":{\"type\":\"value\",\"value\":\"square\"}}},\"nonselection_glyph\":{\"type\":\"object\",\"name\":\"Scatter\",\"id\":\"p1934\",\"attributes\":{\"x\":{\"type\":\"field\",\"field\":\"x\"},\"y\":{\"type\":\"field\",\"field\":\"y\"},\"size\":{\"type\":\"value\",\"value\":12},\"line_color\":{\"type\":\"value\",\"value\":\"#d95b43\"},\"line_alpha\":{\"type\":\"value\",\"value\":0.1},\"fill_color\":{\"type\":\"value\",\"value\":\"#d95b43\"},\"fill_alpha\":{\"type\":\"value\",\"value\":0.1},\"hatch_color\":{\"type\":\"value\",\"value\":\"#d95b43\"},\"hatch_alpha\":{\"type\":\"value\",\"value\":0.1},\"marker\":{\"type\":\"value\",\"value\":\"square\"}}},\"muted_glyph\":{\"type\":\"object\",\"name\":\"Scatter\",\"id\":\"p1935\",\"attributes\":{\"x\":{\"type\":\"field\",\"field\":\"x\"},\"y\":{\"type\":\"field\",\"field\":\"y\"},\"size\":{\"type\":\"value\",\"value\":12},\"line_color\":{\"type\":\"value\",\"value\":\"#d95b43\"},\"line_alpha\":{\"type\":\"value\",\"value\":0.2},\"fill_color\":{\"type\":\"value\",\"value\":\"#d95b43\"},\"fill_alpha\":{\"type\":\"value\",\"value\":0.2},\"hatch_color\":{\"type\":\"value\",\"value\":\"#d95b43\"},\"hatch_alpha\":{\"type\":\"value\",\"value\":0.2},\"marker\":{\"type\":\"value\",\"value\":\"square\"}}}}}],\"toolbar\":{\"type\":\"object\",\"name\":\"Toolbar\",\"id\":\"p1904\",\"attributes\":{\"autohide\":true,\"tools\":[{\"type\":\"object\",\"name\":\"PanTool\",\"id\":\"p1917\"},{\"type\":\"object\",\"name\":\"WheelZoomTool\",\"id\":\"p1918\",\"attributes\":{\"renderers\":\"auto\"}},{\"type\":\"object\",\"name\":\"BoxZoomTool\",\"id\":\"p1919\",\"attributes\":{\"overlay\":{\"type\":\"object\",\"name\":\"BoxAnnotation\",\"id\":\"p1920\",\"attributes\":{\"syncable\":false,\"line_color\":\"black\",\"line_alpha\":1.0,\"line_width\":2,\"line_dash\":[4,4],\"fill_color\":\"lightgrey\",\"fill_alpha\":0.5,\"level\":\"overlay\",\"visible\":false,\"left\":{\"type\":\"number\",\"value\":\"nan\"},\"right\":{\"type\":\"number\",\"value\":\"nan\"},\"top\":{\"type\":\"number\",\"value\":\"nan\"},\"bottom\":{\"type\":\"number\",\"value\":\"nan\"},\"left_units\":\"canvas\",\"right_units\":\"canvas\",\"top_units\":\"canvas\",\"bottom_units\":\"canvas\",\"handles\":{\"type\":\"object\",\"name\":\"BoxInteractionHandles\",\"id\":\"p1926\",\"attributes\":{\"all\":{\"type\":\"object\",\"name\":\"AreaVisuals\",\"id\":\"p1925\",\"attributes\":{\"fill_color\":\"white\",\"hover_fill_color\":\"lightgray\"}}}}}}}},{\"type\":\"object\",\"name\":\"SaveTool\",\"id\":\"p1927\"},{\"type\":\"object\",\"name\":\"ResetTool\",\"id\":\"p1928\"},{\"type\":\"object\",\"name\":\"HelpTool\",\"id\":\"p1929\"}]}},\"toolbar_location\":\"below\",\"toolbar_inner\":true,\"left\":[{\"type\":\"object\",\"name\":\"LinearAxis\",\"id\":\"p1912\",\"attributes\":{\"ticker\":{\"type\":\"object\",\"name\":\"BasicTicker\",\"id\":\"p1913\",\"attributes\":{\"mantissas\":[1,2,5]}},\"formatter\":{\"type\":\"object\",\"name\":\"BasicTickFormatter\",\"id\":\"p1914\"},\"major_label_policy\":{\"type\":\"object\",\"name\":\"AllLabels\",\"id\":\"p1915\"}}}],\"below\":[{\"type\":\"object\",\"name\":\"LinearAxis\",\"id\":\"p1907\",\"attributes\":{\"ticker\":{\"type\":\"object\",\"name\":\"BasicTicker\",\"id\":\"p1908\",\"attributes\":{\"mantissas\":[1,2,5]}},\"formatter\":{\"type\":\"object\",\"name\":\"BasicTickFormatter\",\"id\":\"p1909\"},\"major_label_policy\":{\"type\":\"object\",\"name\":\"AllLabels\",\"id\":\"p1910\"}}}],\"center\":[{\"type\":\"object\",\"name\":\"Grid\",\"id\":\"p1911\",\"attributes\":{\"axis\":{\"id\":\"p1907\"}}},{\"type\":\"object\",\"name\":\"Grid\",\"id\":\"p1916\",\"attributes\":{\"dimension\":1,\"axis\":{\"id\":\"p1912\"}}}],\"background_fill_color\":\"#fafafa\"}}]}}]}};\n",
       "  const render_items = [{\"docid\":\"80e9010e-9140-460c-92a7-484407c753e5\",\"roots\":{\"p1939\":\"b462fd44-2ff8-48dc-a14c-a09d7dcb34cc\"},\"root_ids\":[\"p1939\"]}];\n",
       "  void root.Bokeh.embed.embed_items_notebook(docs_json, render_items);\n",
       "  }\n",
       "  if (root.Bokeh !== undefined) {\n",
       "    embed_document(root);\n",
       "  } else {\n",
       "    let attempts = 0;\n",
       "    const timer = setInterval(function(root) {\n",
       "      if (root.Bokeh !== undefined) {\n",
       "        clearInterval(timer);\n",
       "        embed_document(root);\n",
       "      } else {\n",
       "        attempts++;\n",
       "        if (attempts > 100) {\n",
       "          clearInterval(timer);\n",
       "          console.log(\"Bokeh: ERROR: Unable to run BokehJS code because BokehJS library is missing\");\n",
       "        }\n",
       "      }\n",
       "    }, 10, root)\n",
       "  }\n",
       "})(window);"
      ],
      "application/vnd.bokehjs_exec.v0+json": ""
     },
     "metadata": {
      "application/vnd.bokehjs_exec.v0+json": {
       "id": "p1939"
      }
     },
     "output_type": "display_data"
    },
    {
     "name": "stdout",
     "output_type": "stream",
     "text": [
      "Opening in existing browser session.\n"
     ]
    }
   ],
   "source": [
    "s1 = figure(width=250, height=250, \n",
    "           background_fill_color='#fafafa', \n",
    "           toolbar_location='below', toolbar_inner=True)\n",
    "s1.scatter(x, y0, marker='circle', size=12, \n",
    "           color='#53777a', alpha=0.8)\n",
    "s2 = figure(width=250, height=250, \n",
    "           background_fill_color='#fafafa',\n",
    "            toolbar_location='below', toolbar_inner=True)\n",
    "s2.scatter(x, y1, marker='triangle', size=12, \n",
    "           color='#c02942', alpha=0.8)\n",
    "s3 = figure(width=250, height=250, \n",
    "           background_fill_color='#fafafa',\n",
    "            toolbar_location='below', toolbar_inner=True)\n",
    "s3.scatter(x, y0, marker='square', size=12, \n",
    "           color='#d95b43', alpha=0.8)\n",
    "for s in (s1, s2, s3):\n",
    "    s.toolbar.autohide = True\n",
    "show(row(s1, s2, s3))"
   ]
  },
  {
   "cell_type": "code",
   "execution_count": 68,
   "id": "2845ddcf-4382-4a52-9015-204a3e8d4a53",
   "metadata": {},
   "outputs": [
    {
     "data": {
      "text/html": [
       "\n",
       "  <div id=\"d2aca27c-864e-46e3-8668-99376a751fe9\" data-root-id=\"p1940\" style=\"display: contents;\"></div>\n"
      ]
     },
     "metadata": {},
     "output_type": "display_data"
    },
    {
     "data": {
      "application/javascript": [
       "(function(root) {\n",
       "  function embed_document(root) {\n",
       "  const docs_json = {\"ebe58fb6-7b00-4aa9-9136-a875e497bfc2\":{\"version\":\"3.6.2\",\"title\":\"Bokeh Application\",\"roots\":[{\"type\":\"object\",\"name\":\"Column\",\"id\":\"p1940\",\"attributes\":{\"children\":[{\"type\":\"object\",\"name\":\"Figure\",\"id\":\"p1810\",\"attributes\":{\"width\":250,\"height\":250,\"x_range\":{\"type\":\"object\",\"name\":\"DataRange1d\",\"id\":\"p1811\"},\"y_range\":{\"type\":\"object\",\"name\":\"DataRange1d\",\"id\":\"p1812\"},\"x_scale\":{\"type\":\"object\",\"name\":\"LinearScale\",\"id\":\"p1819\"},\"y_scale\":{\"type\":\"object\",\"name\":\"LinearScale\",\"id\":\"p1820\"},\"title\":{\"type\":\"object\",\"name\":\"Title\",\"id\":\"p1817\"},\"renderers\":[{\"type\":\"object\",\"name\":\"GlyphRenderer\",\"id\":\"p1850\",\"attributes\":{\"data_source\":{\"type\":\"object\",\"name\":\"ColumnDataSource\",\"id\":\"p1844\",\"attributes\":{\"selected\":{\"type\":\"object\",\"name\":\"Selection\",\"id\":\"p1845\",\"attributes\":{\"indices\":[],\"line_indices\":[]}},\"selection_policy\":{\"type\":\"object\",\"name\":\"UnionRenderers\",\"id\":\"p1846\"},\"data\":{\"type\":\"map\",\"entries\":[[\"x\",[0,1,2,3,4,5,6,7,8,9,10]],[\"y\",[0,1,2,3,4,5,6,7,8,9,10]]]}}},\"view\":{\"type\":\"object\",\"name\":\"CDSView\",\"id\":\"p1851\",\"attributes\":{\"filter\":{\"type\":\"object\",\"name\":\"AllIndices\",\"id\":\"p1852\"}}},\"glyph\":{\"type\":\"object\",\"name\":\"Scatter\",\"id\":\"p1847\",\"attributes\":{\"x\":{\"type\":\"field\",\"field\":\"x\"},\"y\":{\"type\":\"field\",\"field\":\"y\"},\"size\":{\"type\":\"value\",\"value\":12},\"line_color\":{\"type\":\"value\",\"value\":\"#53777a\"},\"line_alpha\":{\"type\":\"value\",\"value\":0.8},\"fill_color\":{\"type\":\"value\",\"value\":\"#53777a\"},\"fill_alpha\":{\"type\":\"value\",\"value\":0.8},\"hatch_color\":{\"type\":\"value\",\"value\":\"#53777a\"},\"hatch_alpha\":{\"type\":\"value\",\"value\":0.8}}},\"nonselection_glyph\":{\"type\":\"object\",\"name\":\"Scatter\",\"id\":\"p1848\",\"attributes\":{\"x\":{\"type\":\"field\",\"field\":\"x\"},\"y\":{\"type\":\"field\",\"field\":\"y\"},\"size\":{\"type\":\"value\",\"value\":12},\"line_color\":{\"type\":\"value\",\"value\":\"#53777a\"},\"line_alpha\":{\"type\":\"value\",\"value\":0.1},\"fill_color\":{\"type\":\"value\",\"value\":\"#53777a\"},\"fill_alpha\":{\"type\":\"value\",\"value\":0.1},\"hatch_color\":{\"type\":\"value\",\"value\":\"#53777a\"},\"hatch_alpha\":{\"type\":\"value\",\"value\":0.1}}},\"muted_glyph\":{\"type\":\"object\",\"name\":\"Scatter\",\"id\":\"p1849\",\"attributes\":{\"x\":{\"type\":\"field\",\"field\":\"x\"},\"y\":{\"type\":\"field\",\"field\":\"y\"},\"size\":{\"type\":\"value\",\"value\":12},\"line_color\":{\"type\":\"value\",\"value\":\"#53777a\"},\"line_alpha\":{\"type\":\"value\",\"value\":0.2},\"fill_color\":{\"type\":\"value\",\"value\":\"#53777a\"},\"fill_alpha\":{\"type\":\"value\",\"value\":0.2},\"hatch_color\":{\"type\":\"value\",\"value\":\"#53777a\"},\"hatch_alpha\":{\"type\":\"value\",\"value\":0.2}}}}}],\"toolbar\":{\"type\":\"object\",\"name\":\"Toolbar\",\"id\":\"p1818\",\"attributes\":{\"autohide\":true,\"tools\":[{\"type\":\"object\",\"name\":\"PanTool\",\"id\":\"p1831\"},{\"type\":\"object\",\"name\":\"WheelZoomTool\",\"id\":\"p1832\",\"attributes\":{\"renderers\":\"auto\"}},{\"type\":\"object\",\"name\":\"BoxZoomTool\",\"id\":\"p1833\",\"attributes\":{\"overlay\":{\"type\":\"object\",\"name\":\"BoxAnnotation\",\"id\":\"p1834\",\"attributes\":{\"syncable\":false,\"line_color\":\"black\",\"line_alpha\":1.0,\"line_width\":2,\"line_dash\":[4,4],\"fill_color\":\"lightgrey\",\"fill_alpha\":0.5,\"level\":\"overlay\",\"visible\":false,\"left\":{\"type\":\"number\",\"value\":\"nan\"},\"right\":{\"type\":\"number\",\"value\":\"nan\"},\"top\":{\"type\":\"number\",\"value\":\"nan\"},\"bottom\":{\"type\":\"number\",\"value\":\"nan\"},\"left_units\":\"canvas\",\"right_units\":\"canvas\",\"top_units\":\"canvas\",\"bottom_units\":\"canvas\",\"handles\":{\"type\":\"object\",\"name\":\"BoxInteractionHandles\",\"id\":\"p1840\",\"attributes\":{\"all\":{\"type\":\"object\",\"name\":\"AreaVisuals\",\"id\":\"p1839\",\"attributes\":{\"fill_color\":\"white\",\"hover_fill_color\":\"lightgray\"}}}}}}}},{\"type\":\"object\",\"name\":\"SaveTool\",\"id\":\"p1841\"},{\"type\":\"object\",\"name\":\"ResetTool\",\"id\":\"p1842\"},{\"type\":\"object\",\"name\":\"HelpTool\",\"id\":\"p1843\"}]}},\"toolbar_location\":\"below\",\"toolbar_inner\":true,\"left\":[{\"type\":\"object\",\"name\":\"LinearAxis\",\"id\":\"p1826\",\"attributes\":{\"ticker\":{\"type\":\"object\",\"name\":\"BasicTicker\",\"id\":\"p1827\",\"attributes\":{\"mantissas\":[1,2,5]}},\"formatter\":{\"type\":\"object\",\"name\":\"BasicTickFormatter\",\"id\":\"p1828\"},\"major_label_policy\":{\"type\":\"object\",\"name\":\"AllLabels\",\"id\":\"p1829\"}}}],\"below\":[{\"type\":\"object\",\"name\":\"LinearAxis\",\"id\":\"p1821\",\"attributes\":{\"ticker\":{\"type\":\"object\",\"name\":\"BasicTicker\",\"id\":\"p1822\",\"attributes\":{\"mantissas\":[1,2,5]}},\"formatter\":{\"type\":\"object\",\"name\":\"BasicTickFormatter\",\"id\":\"p1823\"},\"major_label_policy\":{\"type\":\"object\",\"name\":\"AllLabels\",\"id\":\"p1824\"}}}],\"center\":[{\"type\":\"object\",\"name\":\"Grid\",\"id\":\"p1825\",\"attributes\":{\"axis\":{\"id\":\"p1821\"}}},{\"type\":\"object\",\"name\":\"Grid\",\"id\":\"p1830\",\"attributes\":{\"dimension\":1,\"axis\":{\"id\":\"p1826\"}}}],\"background_fill_color\":\"#fafafa\"}},{\"type\":\"object\",\"name\":\"Figure\",\"id\":\"p1853\",\"attributes\":{\"width\":250,\"height\":250,\"x_range\":{\"type\":\"object\",\"name\":\"DataRange1d\",\"id\":\"p1854\"},\"y_range\":{\"type\":\"object\",\"name\":\"DataRange1d\",\"id\":\"p1855\"},\"x_scale\":{\"type\":\"object\",\"name\":\"LinearScale\",\"id\":\"p1862\"},\"y_scale\":{\"type\":\"object\",\"name\":\"LinearScale\",\"id\":\"p1863\"},\"title\":{\"type\":\"object\",\"name\":\"Title\",\"id\":\"p1860\"},\"renderers\":[{\"type\":\"object\",\"name\":\"GlyphRenderer\",\"id\":\"p1893\",\"attributes\":{\"data_source\":{\"type\":\"object\",\"name\":\"ColumnDataSource\",\"id\":\"p1887\",\"attributes\":{\"selected\":{\"type\":\"object\",\"name\":\"Selection\",\"id\":\"p1888\",\"attributes\":{\"indices\":[],\"line_indices\":[]}},\"selection_policy\":{\"type\":\"object\",\"name\":\"UnionRenderers\",\"id\":\"p1889\"},\"data\":{\"type\":\"map\",\"entries\":[[\"x\",[0,1,2,3,4,5,6,7,8,9,10]],[\"y\",[10,9,8,7,6,5,4,3,2,1,0]]]}}},\"view\":{\"type\":\"object\",\"name\":\"CDSView\",\"id\":\"p1894\",\"attributes\":{\"filter\":{\"type\":\"object\",\"name\":\"AllIndices\",\"id\":\"p1895\"}}},\"glyph\":{\"type\":\"object\",\"name\":\"Scatter\",\"id\":\"p1890\",\"attributes\":{\"x\":{\"type\":\"field\",\"field\":\"x\"},\"y\":{\"type\":\"field\",\"field\":\"y\"},\"size\":{\"type\":\"value\",\"value\":12},\"line_color\":{\"type\":\"value\",\"value\":\"#c02942\"},\"line_alpha\":{\"type\":\"value\",\"value\":0.8},\"fill_color\":{\"type\":\"value\",\"value\":\"#c02942\"},\"fill_alpha\":{\"type\":\"value\",\"value\":0.8},\"hatch_color\":{\"type\":\"value\",\"value\":\"#c02942\"},\"hatch_alpha\":{\"type\":\"value\",\"value\":0.8},\"marker\":{\"type\":\"value\",\"value\":\"triangle\"}}},\"nonselection_glyph\":{\"type\":\"object\",\"name\":\"Scatter\",\"id\":\"p1891\",\"attributes\":{\"x\":{\"type\":\"field\",\"field\":\"x\"},\"y\":{\"type\":\"field\",\"field\":\"y\"},\"size\":{\"type\":\"value\",\"value\":12},\"line_color\":{\"type\":\"value\",\"value\":\"#c02942\"},\"line_alpha\":{\"type\":\"value\",\"value\":0.1},\"fill_color\":{\"type\":\"value\",\"value\":\"#c02942\"},\"fill_alpha\":{\"type\":\"value\",\"value\":0.1},\"hatch_color\":{\"type\":\"value\",\"value\":\"#c02942\"},\"hatch_alpha\":{\"type\":\"value\",\"value\":0.1},\"marker\":{\"type\":\"value\",\"value\":\"triangle\"}}},\"muted_glyph\":{\"type\":\"object\",\"name\":\"Scatter\",\"id\":\"p1892\",\"attributes\":{\"x\":{\"type\":\"field\",\"field\":\"x\"},\"y\":{\"type\":\"field\",\"field\":\"y\"},\"size\":{\"type\":\"value\",\"value\":12},\"line_color\":{\"type\":\"value\",\"value\":\"#c02942\"},\"line_alpha\":{\"type\":\"value\",\"value\":0.2},\"fill_color\":{\"type\":\"value\",\"value\":\"#c02942\"},\"fill_alpha\":{\"type\":\"value\",\"value\":0.2},\"hatch_color\":{\"type\":\"value\",\"value\":\"#c02942\"},\"hatch_alpha\":{\"type\":\"value\",\"value\":0.2},\"marker\":{\"type\":\"value\",\"value\":\"triangle\"}}}}}],\"toolbar\":{\"type\":\"object\",\"name\":\"Toolbar\",\"id\":\"p1861\",\"attributes\":{\"autohide\":true,\"tools\":[{\"type\":\"object\",\"name\":\"PanTool\",\"id\":\"p1874\"},{\"type\":\"object\",\"name\":\"WheelZoomTool\",\"id\":\"p1875\",\"attributes\":{\"renderers\":\"auto\"}},{\"type\":\"object\",\"name\":\"BoxZoomTool\",\"id\":\"p1876\",\"attributes\":{\"overlay\":{\"type\":\"object\",\"name\":\"BoxAnnotation\",\"id\":\"p1877\",\"attributes\":{\"syncable\":false,\"line_color\":\"black\",\"line_alpha\":1.0,\"line_width\":2,\"line_dash\":[4,4],\"fill_color\":\"lightgrey\",\"fill_alpha\":0.5,\"level\":\"overlay\",\"visible\":false,\"left\":{\"type\":\"number\",\"value\":\"nan\"},\"right\":{\"type\":\"number\",\"value\":\"nan\"},\"top\":{\"type\":\"number\",\"value\":\"nan\"},\"bottom\":{\"type\":\"number\",\"value\":\"nan\"},\"left_units\":\"canvas\",\"right_units\":\"canvas\",\"top_units\":\"canvas\",\"bottom_units\":\"canvas\",\"handles\":{\"type\":\"object\",\"name\":\"BoxInteractionHandles\",\"id\":\"p1883\",\"attributes\":{\"all\":{\"type\":\"object\",\"name\":\"AreaVisuals\",\"id\":\"p1882\",\"attributes\":{\"fill_color\":\"white\",\"hover_fill_color\":\"lightgray\"}}}}}}}},{\"type\":\"object\",\"name\":\"SaveTool\",\"id\":\"p1884\"},{\"type\":\"object\",\"name\":\"ResetTool\",\"id\":\"p1885\"},{\"type\":\"object\",\"name\":\"HelpTool\",\"id\":\"p1886\"}]}},\"toolbar_location\":\"below\",\"toolbar_inner\":true,\"left\":[{\"type\":\"object\",\"name\":\"LinearAxis\",\"id\":\"p1869\",\"attributes\":{\"ticker\":{\"type\":\"object\",\"name\":\"BasicTicker\",\"id\":\"p1870\",\"attributes\":{\"mantissas\":[1,2,5]}},\"formatter\":{\"type\":\"object\",\"name\":\"BasicTickFormatter\",\"id\":\"p1871\"},\"major_label_policy\":{\"type\":\"object\",\"name\":\"AllLabels\",\"id\":\"p1872\"}}}],\"below\":[{\"type\":\"object\",\"name\":\"LinearAxis\",\"id\":\"p1864\",\"attributes\":{\"ticker\":{\"type\":\"object\",\"name\":\"BasicTicker\",\"id\":\"p1865\",\"attributes\":{\"mantissas\":[1,2,5]}},\"formatter\":{\"type\":\"object\",\"name\":\"BasicTickFormatter\",\"id\":\"p1866\"},\"major_label_policy\":{\"type\":\"object\",\"name\":\"AllLabels\",\"id\":\"p1867\"}}}],\"center\":[{\"type\":\"object\",\"name\":\"Grid\",\"id\":\"p1868\",\"attributes\":{\"axis\":{\"id\":\"p1864\"}}},{\"type\":\"object\",\"name\":\"Grid\",\"id\":\"p1873\",\"attributes\":{\"dimension\":1,\"axis\":{\"id\":\"p1869\"}}}],\"background_fill_color\":\"#fafafa\"}},{\"type\":\"object\",\"name\":\"Figure\",\"id\":\"p1896\",\"attributes\":{\"width\":250,\"height\":250,\"x_range\":{\"type\":\"object\",\"name\":\"DataRange1d\",\"id\":\"p1897\"},\"y_range\":{\"type\":\"object\",\"name\":\"DataRange1d\",\"id\":\"p1898\"},\"x_scale\":{\"type\":\"object\",\"name\":\"LinearScale\",\"id\":\"p1905\"},\"y_scale\":{\"type\":\"object\",\"name\":\"LinearScale\",\"id\":\"p1906\"},\"title\":{\"type\":\"object\",\"name\":\"Title\",\"id\":\"p1903\"},\"renderers\":[{\"type\":\"object\",\"name\":\"GlyphRenderer\",\"id\":\"p1936\",\"attributes\":{\"data_source\":{\"type\":\"object\",\"name\":\"ColumnDataSource\",\"id\":\"p1930\",\"attributes\":{\"selected\":{\"type\":\"object\",\"name\":\"Selection\",\"id\":\"p1931\",\"attributes\":{\"indices\":[],\"line_indices\":[]}},\"selection_policy\":{\"type\":\"object\",\"name\":\"UnionRenderers\",\"id\":\"p1932\"},\"data\":{\"type\":\"map\",\"entries\":[[\"x\",[0,1,2,3,4,5,6,7,8,9,10]],[\"y\",[0,1,2,3,4,5,6,7,8,9,10]]]}}},\"view\":{\"type\":\"object\",\"name\":\"CDSView\",\"id\":\"p1937\",\"attributes\":{\"filter\":{\"type\":\"object\",\"name\":\"AllIndices\",\"id\":\"p1938\"}}},\"glyph\":{\"type\":\"object\",\"name\":\"Scatter\",\"id\":\"p1933\",\"attributes\":{\"x\":{\"type\":\"field\",\"field\":\"x\"},\"y\":{\"type\":\"field\",\"field\":\"y\"},\"size\":{\"type\":\"value\",\"value\":12},\"line_color\":{\"type\":\"value\",\"value\":\"#d95b43\"},\"line_alpha\":{\"type\":\"value\",\"value\":0.8},\"fill_color\":{\"type\":\"value\",\"value\":\"#d95b43\"},\"fill_alpha\":{\"type\":\"value\",\"value\":0.8},\"hatch_color\":{\"type\":\"value\",\"value\":\"#d95b43\"},\"hatch_alpha\":{\"type\":\"value\",\"value\":0.8},\"marker\":{\"type\":\"value\",\"value\":\"square\"}}},\"nonselection_glyph\":{\"type\":\"object\",\"name\":\"Scatter\",\"id\":\"p1934\",\"attributes\":{\"x\":{\"type\":\"field\",\"field\":\"x\"},\"y\":{\"type\":\"field\",\"field\":\"y\"},\"size\":{\"type\":\"value\",\"value\":12},\"line_color\":{\"type\":\"value\",\"value\":\"#d95b43\"},\"line_alpha\":{\"type\":\"value\",\"value\":0.1},\"fill_color\":{\"type\":\"value\",\"value\":\"#d95b43\"},\"fill_alpha\":{\"type\":\"value\",\"value\":0.1},\"hatch_color\":{\"type\":\"value\",\"value\":\"#d95b43\"},\"hatch_alpha\":{\"type\":\"value\",\"value\":0.1},\"marker\":{\"type\":\"value\",\"value\":\"square\"}}},\"muted_glyph\":{\"type\":\"object\",\"name\":\"Scatter\",\"id\":\"p1935\",\"attributes\":{\"x\":{\"type\":\"field\",\"field\":\"x\"},\"y\":{\"type\":\"field\",\"field\":\"y\"},\"size\":{\"type\":\"value\",\"value\":12},\"line_color\":{\"type\":\"value\",\"value\":\"#d95b43\"},\"line_alpha\":{\"type\":\"value\",\"value\":0.2},\"fill_color\":{\"type\":\"value\",\"value\":\"#d95b43\"},\"fill_alpha\":{\"type\":\"value\",\"value\":0.2},\"hatch_color\":{\"type\":\"value\",\"value\":\"#d95b43\"},\"hatch_alpha\":{\"type\":\"value\",\"value\":0.2},\"marker\":{\"type\":\"value\",\"value\":\"square\"}}}}}],\"toolbar\":{\"type\":\"object\",\"name\":\"Toolbar\",\"id\":\"p1904\",\"attributes\":{\"autohide\":true,\"tools\":[{\"type\":\"object\",\"name\":\"PanTool\",\"id\":\"p1917\"},{\"type\":\"object\",\"name\":\"WheelZoomTool\",\"id\":\"p1918\",\"attributes\":{\"renderers\":\"auto\"}},{\"type\":\"object\",\"name\":\"BoxZoomTool\",\"id\":\"p1919\",\"attributes\":{\"overlay\":{\"type\":\"object\",\"name\":\"BoxAnnotation\",\"id\":\"p1920\",\"attributes\":{\"syncable\":false,\"line_color\":\"black\",\"line_alpha\":1.0,\"line_width\":2,\"line_dash\":[4,4],\"fill_color\":\"lightgrey\",\"fill_alpha\":0.5,\"level\":\"overlay\",\"visible\":false,\"left\":{\"type\":\"number\",\"value\":\"nan\"},\"right\":{\"type\":\"number\",\"value\":\"nan\"},\"top\":{\"type\":\"number\",\"value\":\"nan\"},\"bottom\":{\"type\":\"number\",\"value\":\"nan\"},\"left_units\":\"canvas\",\"right_units\":\"canvas\",\"top_units\":\"canvas\",\"bottom_units\":\"canvas\",\"handles\":{\"type\":\"object\",\"name\":\"BoxInteractionHandles\",\"id\":\"p1926\",\"attributes\":{\"all\":{\"type\":\"object\",\"name\":\"AreaVisuals\",\"id\":\"p1925\",\"attributes\":{\"fill_color\":\"white\",\"hover_fill_color\":\"lightgray\"}}}}}}}},{\"type\":\"object\",\"name\":\"SaveTool\",\"id\":\"p1927\"},{\"type\":\"object\",\"name\":\"ResetTool\",\"id\":\"p1928\"},{\"type\":\"object\",\"name\":\"HelpTool\",\"id\":\"p1929\"}]}},\"toolbar_location\":\"below\",\"toolbar_inner\":true,\"left\":[{\"type\":\"object\",\"name\":\"LinearAxis\",\"id\":\"p1912\",\"attributes\":{\"ticker\":{\"type\":\"object\",\"name\":\"BasicTicker\",\"id\":\"p1913\",\"attributes\":{\"mantissas\":[1,2,5]}},\"formatter\":{\"type\":\"object\",\"name\":\"BasicTickFormatter\",\"id\":\"p1914\"},\"major_label_policy\":{\"type\":\"object\",\"name\":\"AllLabels\",\"id\":\"p1915\"}}}],\"below\":[{\"type\":\"object\",\"name\":\"LinearAxis\",\"id\":\"p1907\",\"attributes\":{\"ticker\":{\"type\":\"object\",\"name\":\"BasicTicker\",\"id\":\"p1908\",\"attributes\":{\"mantissas\":[1,2,5]}},\"formatter\":{\"type\":\"object\",\"name\":\"BasicTickFormatter\",\"id\":\"p1909\"},\"major_label_policy\":{\"type\":\"object\",\"name\":\"AllLabels\",\"id\":\"p1910\"}}}],\"center\":[{\"type\":\"object\",\"name\":\"Grid\",\"id\":\"p1911\",\"attributes\":{\"axis\":{\"id\":\"p1907\"}}},{\"type\":\"object\",\"name\":\"Grid\",\"id\":\"p1916\",\"attributes\":{\"dimension\":1,\"axis\":{\"id\":\"p1912\"}}}],\"background_fill_color\":\"#fafafa\"}}]}}]}};\n",
       "  const render_items = [{\"docid\":\"ebe58fb6-7b00-4aa9-9136-a875e497bfc2\",\"roots\":{\"p1940\":\"d2aca27c-864e-46e3-8668-99376a751fe9\"},\"root_ids\":[\"p1940\"]}];\n",
       "  void root.Bokeh.embed.embed_items_notebook(docs_json, render_items);\n",
       "  }\n",
       "  if (root.Bokeh !== undefined) {\n",
       "    embed_document(root);\n",
       "  } else {\n",
       "    let attempts = 0;\n",
       "    const timer = setInterval(function(root) {\n",
       "      if (root.Bokeh !== undefined) {\n",
       "        clearInterval(timer);\n",
       "        embed_document(root);\n",
       "      } else {\n",
       "        attempts++;\n",
       "        if (attempts > 100) {\n",
       "          clearInterval(timer);\n",
       "          console.log(\"Bokeh: ERROR: Unable to run BokehJS code because BokehJS library is missing\");\n",
       "        }\n",
       "      }\n",
       "    }, 10, root)\n",
       "  }\n",
       "})(window);"
      ],
      "application/vnd.bokehjs_exec.v0+json": ""
     },
     "metadata": {
      "application/vnd.bokehjs_exec.v0+json": {
       "id": "p1940"
      }
     },
     "output_type": "display_data"
    },
    {
     "name": "stdout",
     "output_type": "stream",
     "text": [
      "Opening in existing browser session.\n"
     ]
    }
   ],
   "source": [
    "from bokeh.layouts import column\n",
    "show(column(s1, s2, s3))"
   ]
  },
  {
   "cell_type": "markdown",
   "id": "372f45ca-356b-4e52-aeec-9629c9edb8af",
   "metadata": {},
   "source": [
    "## Default sizing"
   ]
  },
  {
   "cell_type": "code",
   "execution_count": 69,
   "id": "f98b3332-3ff5-4c18-ab84-791e0aac7729",
   "metadata": {},
   "outputs": [
    {
     "data": {
      "text/html": [
       "\n",
       "  <div id=\"baf71991-7e51-4529-8fdf-30e255df4df1\" data-root-id=\"p1941\" style=\"display: contents;\"></div>\n"
      ]
     },
     "metadata": {},
     "output_type": "display_data"
    },
    {
     "data": {
      "application/javascript": [
       "(function(root) {\n",
       "  function embed_document(root) {\n",
       "  const docs_json = {\"5d231921-8a41-465c-829c-33a323767201\":{\"version\":\"3.6.2\",\"title\":\"Bokeh Application\",\"roots\":[{\"type\":\"object\",\"name\":\"Row\",\"id\":\"p1941\",\"attributes\":{\"sizing_mode\":\"scale_width\",\"children\":[{\"type\":\"object\",\"name\":\"Figure\",\"id\":\"p1810\",\"attributes\":{\"width\":250,\"height\":250,\"x_range\":{\"type\":\"object\",\"name\":\"DataRange1d\",\"id\":\"p1811\"},\"y_range\":{\"type\":\"object\",\"name\":\"DataRange1d\",\"id\":\"p1812\"},\"x_scale\":{\"type\":\"object\",\"name\":\"LinearScale\",\"id\":\"p1819\"},\"y_scale\":{\"type\":\"object\",\"name\":\"LinearScale\",\"id\":\"p1820\"},\"title\":{\"type\":\"object\",\"name\":\"Title\",\"id\":\"p1817\"},\"renderers\":[{\"type\":\"object\",\"name\":\"GlyphRenderer\",\"id\":\"p1850\",\"attributes\":{\"data_source\":{\"type\":\"object\",\"name\":\"ColumnDataSource\",\"id\":\"p1844\",\"attributes\":{\"selected\":{\"type\":\"object\",\"name\":\"Selection\",\"id\":\"p1845\",\"attributes\":{\"indices\":[],\"line_indices\":[]}},\"selection_policy\":{\"type\":\"object\",\"name\":\"UnionRenderers\",\"id\":\"p1846\"},\"data\":{\"type\":\"map\",\"entries\":[[\"x\",[0,1,2,3,4,5,6,7,8,9,10]],[\"y\",[0,1,2,3,4,5,6,7,8,9,10]]]}}},\"view\":{\"type\":\"object\",\"name\":\"CDSView\",\"id\":\"p1851\",\"attributes\":{\"filter\":{\"type\":\"object\",\"name\":\"AllIndices\",\"id\":\"p1852\"}}},\"glyph\":{\"type\":\"object\",\"name\":\"Scatter\",\"id\":\"p1847\",\"attributes\":{\"x\":{\"type\":\"field\",\"field\":\"x\"},\"y\":{\"type\":\"field\",\"field\":\"y\"},\"size\":{\"type\":\"value\",\"value\":12},\"line_color\":{\"type\":\"value\",\"value\":\"#53777a\"},\"line_alpha\":{\"type\":\"value\",\"value\":0.8},\"fill_color\":{\"type\":\"value\",\"value\":\"#53777a\"},\"fill_alpha\":{\"type\":\"value\",\"value\":0.8},\"hatch_color\":{\"type\":\"value\",\"value\":\"#53777a\"},\"hatch_alpha\":{\"type\":\"value\",\"value\":0.8}}},\"nonselection_glyph\":{\"type\":\"object\",\"name\":\"Scatter\",\"id\":\"p1848\",\"attributes\":{\"x\":{\"type\":\"field\",\"field\":\"x\"},\"y\":{\"type\":\"field\",\"field\":\"y\"},\"size\":{\"type\":\"value\",\"value\":12},\"line_color\":{\"type\":\"value\",\"value\":\"#53777a\"},\"line_alpha\":{\"type\":\"value\",\"value\":0.1},\"fill_color\":{\"type\":\"value\",\"value\":\"#53777a\"},\"fill_alpha\":{\"type\":\"value\",\"value\":0.1},\"hatch_color\":{\"type\":\"value\",\"value\":\"#53777a\"},\"hatch_alpha\":{\"type\":\"value\",\"value\":0.1}}},\"muted_glyph\":{\"type\":\"object\",\"name\":\"Scatter\",\"id\":\"p1849\",\"attributes\":{\"x\":{\"type\":\"field\",\"field\":\"x\"},\"y\":{\"type\":\"field\",\"field\":\"y\"},\"size\":{\"type\":\"value\",\"value\":12},\"line_color\":{\"type\":\"value\",\"value\":\"#53777a\"},\"line_alpha\":{\"type\":\"value\",\"value\":0.2},\"fill_color\":{\"type\":\"value\",\"value\":\"#53777a\"},\"fill_alpha\":{\"type\":\"value\",\"value\":0.2},\"hatch_color\":{\"type\":\"value\",\"value\":\"#53777a\"},\"hatch_alpha\":{\"type\":\"value\",\"value\":0.2}}}}}],\"toolbar\":{\"type\":\"object\",\"name\":\"Toolbar\",\"id\":\"p1818\",\"attributes\":{\"autohide\":true,\"tools\":[{\"type\":\"object\",\"name\":\"PanTool\",\"id\":\"p1831\"},{\"type\":\"object\",\"name\":\"WheelZoomTool\",\"id\":\"p1832\",\"attributes\":{\"renderers\":\"auto\"}},{\"type\":\"object\",\"name\":\"BoxZoomTool\",\"id\":\"p1833\",\"attributes\":{\"overlay\":{\"type\":\"object\",\"name\":\"BoxAnnotation\",\"id\":\"p1834\",\"attributes\":{\"syncable\":false,\"line_color\":\"black\",\"line_alpha\":1.0,\"line_width\":2,\"line_dash\":[4,4],\"fill_color\":\"lightgrey\",\"fill_alpha\":0.5,\"level\":\"overlay\",\"visible\":false,\"left\":{\"type\":\"number\",\"value\":\"nan\"},\"right\":{\"type\":\"number\",\"value\":\"nan\"},\"top\":{\"type\":\"number\",\"value\":\"nan\"},\"bottom\":{\"type\":\"number\",\"value\":\"nan\"},\"left_units\":\"canvas\",\"right_units\":\"canvas\",\"top_units\":\"canvas\",\"bottom_units\":\"canvas\",\"handles\":{\"type\":\"object\",\"name\":\"BoxInteractionHandles\",\"id\":\"p1840\",\"attributes\":{\"all\":{\"type\":\"object\",\"name\":\"AreaVisuals\",\"id\":\"p1839\",\"attributes\":{\"fill_color\":\"white\",\"hover_fill_color\":\"lightgray\"}}}}}}}},{\"type\":\"object\",\"name\":\"SaveTool\",\"id\":\"p1841\"},{\"type\":\"object\",\"name\":\"ResetTool\",\"id\":\"p1842\"},{\"type\":\"object\",\"name\":\"HelpTool\",\"id\":\"p1843\"}]}},\"toolbar_location\":\"below\",\"toolbar_inner\":true,\"left\":[{\"type\":\"object\",\"name\":\"LinearAxis\",\"id\":\"p1826\",\"attributes\":{\"ticker\":{\"type\":\"object\",\"name\":\"BasicTicker\",\"id\":\"p1827\",\"attributes\":{\"mantissas\":[1,2,5]}},\"formatter\":{\"type\":\"object\",\"name\":\"BasicTickFormatter\",\"id\":\"p1828\"},\"major_label_policy\":{\"type\":\"object\",\"name\":\"AllLabels\",\"id\":\"p1829\"}}}],\"below\":[{\"type\":\"object\",\"name\":\"LinearAxis\",\"id\":\"p1821\",\"attributes\":{\"ticker\":{\"type\":\"object\",\"name\":\"BasicTicker\",\"id\":\"p1822\",\"attributes\":{\"mantissas\":[1,2,5]}},\"formatter\":{\"type\":\"object\",\"name\":\"BasicTickFormatter\",\"id\":\"p1823\"},\"major_label_policy\":{\"type\":\"object\",\"name\":\"AllLabels\",\"id\":\"p1824\"}}}],\"center\":[{\"type\":\"object\",\"name\":\"Grid\",\"id\":\"p1825\",\"attributes\":{\"axis\":{\"id\":\"p1821\"}}},{\"type\":\"object\",\"name\":\"Grid\",\"id\":\"p1830\",\"attributes\":{\"dimension\":1,\"axis\":{\"id\":\"p1826\"}}}],\"background_fill_color\":\"#fafafa\"}},{\"type\":\"object\",\"name\":\"Figure\",\"id\":\"p1853\",\"attributes\":{\"width\":250,\"height\":250,\"x_range\":{\"type\":\"object\",\"name\":\"DataRange1d\",\"id\":\"p1854\"},\"y_range\":{\"type\":\"object\",\"name\":\"DataRange1d\",\"id\":\"p1855\"},\"x_scale\":{\"type\":\"object\",\"name\":\"LinearScale\",\"id\":\"p1862\"},\"y_scale\":{\"type\":\"object\",\"name\":\"LinearScale\",\"id\":\"p1863\"},\"title\":{\"type\":\"object\",\"name\":\"Title\",\"id\":\"p1860\"},\"renderers\":[{\"type\":\"object\",\"name\":\"GlyphRenderer\",\"id\":\"p1893\",\"attributes\":{\"data_source\":{\"type\":\"object\",\"name\":\"ColumnDataSource\",\"id\":\"p1887\",\"attributes\":{\"selected\":{\"type\":\"object\",\"name\":\"Selection\",\"id\":\"p1888\",\"attributes\":{\"indices\":[],\"line_indices\":[]}},\"selection_policy\":{\"type\":\"object\",\"name\":\"UnionRenderers\",\"id\":\"p1889\"},\"data\":{\"type\":\"map\",\"entries\":[[\"x\",[0,1,2,3,4,5,6,7,8,9,10]],[\"y\",[10,9,8,7,6,5,4,3,2,1,0]]]}}},\"view\":{\"type\":\"object\",\"name\":\"CDSView\",\"id\":\"p1894\",\"attributes\":{\"filter\":{\"type\":\"object\",\"name\":\"AllIndices\",\"id\":\"p1895\"}}},\"glyph\":{\"type\":\"object\",\"name\":\"Scatter\",\"id\":\"p1890\",\"attributes\":{\"x\":{\"type\":\"field\",\"field\":\"x\"},\"y\":{\"type\":\"field\",\"field\":\"y\"},\"size\":{\"type\":\"value\",\"value\":12},\"line_color\":{\"type\":\"value\",\"value\":\"#c02942\"},\"line_alpha\":{\"type\":\"value\",\"value\":0.8},\"fill_color\":{\"type\":\"value\",\"value\":\"#c02942\"},\"fill_alpha\":{\"type\":\"value\",\"value\":0.8},\"hatch_color\":{\"type\":\"value\",\"value\":\"#c02942\"},\"hatch_alpha\":{\"type\":\"value\",\"value\":0.8},\"marker\":{\"type\":\"value\",\"value\":\"triangle\"}}},\"nonselection_glyph\":{\"type\":\"object\",\"name\":\"Scatter\",\"id\":\"p1891\",\"attributes\":{\"x\":{\"type\":\"field\",\"field\":\"x\"},\"y\":{\"type\":\"field\",\"field\":\"y\"},\"size\":{\"type\":\"value\",\"value\":12},\"line_color\":{\"type\":\"value\",\"value\":\"#c02942\"},\"line_alpha\":{\"type\":\"value\",\"value\":0.1},\"fill_color\":{\"type\":\"value\",\"value\":\"#c02942\"},\"fill_alpha\":{\"type\":\"value\",\"value\":0.1},\"hatch_color\":{\"type\":\"value\",\"value\":\"#c02942\"},\"hatch_alpha\":{\"type\":\"value\",\"value\":0.1},\"marker\":{\"type\":\"value\",\"value\":\"triangle\"}}},\"muted_glyph\":{\"type\":\"object\",\"name\":\"Scatter\",\"id\":\"p1892\",\"attributes\":{\"x\":{\"type\":\"field\",\"field\":\"x\"},\"y\":{\"type\":\"field\",\"field\":\"y\"},\"size\":{\"type\":\"value\",\"value\":12},\"line_color\":{\"type\":\"value\",\"value\":\"#c02942\"},\"line_alpha\":{\"type\":\"value\",\"value\":0.2},\"fill_color\":{\"type\":\"value\",\"value\":\"#c02942\"},\"fill_alpha\":{\"type\":\"value\",\"value\":0.2},\"hatch_color\":{\"type\":\"value\",\"value\":\"#c02942\"},\"hatch_alpha\":{\"type\":\"value\",\"value\":0.2},\"marker\":{\"type\":\"value\",\"value\":\"triangle\"}}}}}],\"toolbar\":{\"type\":\"object\",\"name\":\"Toolbar\",\"id\":\"p1861\",\"attributes\":{\"autohide\":true,\"tools\":[{\"type\":\"object\",\"name\":\"PanTool\",\"id\":\"p1874\"},{\"type\":\"object\",\"name\":\"WheelZoomTool\",\"id\":\"p1875\",\"attributes\":{\"renderers\":\"auto\"}},{\"type\":\"object\",\"name\":\"BoxZoomTool\",\"id\":\"p1876\",\"attributes\":{\"overlay\":{\"type\":\"object\",\"name\":\"BoxAnnotation\",\"id\":\"p1877\",\"attributes\":{\"syncable\":false,\"line_color\":\"black\",\"line_alpha\":1.0,\"line_width\":2,\"line_dash\":[4,4],\"fill_color\":\"lightgrey\",\"fill_alpha\":0.5,\"level\":\"overlay\",\"visible\":false,\"left\":{\"type\":\"number\",\"value\":\"nan\"},\"right\":{\"type\":\"number\",\"value\":\"nan\"},\"top\":{\"type\":\"number\",\"value\":\"nan\"},\"bottom\":{\"type\":\"number\",\"value\":\"nan\"},\"left_units\":\"canvas\",\"right_units\":\"canvas\",\"top_units\":\"canvas\",\"bottom_units\":\"canvas\",\"handles\":{\"type\":\"object\",\"name\":\"BoxInteractionHandles\",\"id\":\"p1883\",\"attributes\":{\"all\":{\"type\":\"object\",\"name\":\"AreaVisuals\",\"id\":\"p1882\",\"attributes\":{\"fill_color\":\"white\",\"hover_fill_color\":\"lightgray\"}}}}}}}},{\"type\":\"object\",\"name\":\"SaveTool\",\"id\":\"p1884\"},{\"type\":\"object\",\"name\":\"ResetTool\",\"id\":\"p1885\"},{\"type\":\"object\",\"name\":\"HelpTool\",\"id\":\"p1886\"}]}},\"toolbar_location\":\"below\",\"toolbar_inner\":true,\"left\":[{\"type\":\"object\",\"name\":\"LinearAxis\",\"id\":\"p1869\",\"attributes\":{\"ticker\":{\"type\":\"object\",\"name\":\"BasicTicker\",\"id\":\"p1870\",\"attributes\":{\"mantissas\":[1,2,5]}},\"formatter\":{\"type\":\"object\",\"name\":\"BasicTickFormatter\",\"id\":\"p1871\"},\"major_label_policy\":{\"type\":\"object\",\"name\":\"AllLabels\",\"id\":\"p1872\"}}}],\"below\":[{\"type\":\"object\",\"name\":\"LinearAxis\",\"id\":\"p1864\",\"attributes\":{\"ticker\":{\"type\":\"object\",\"name\":\"BasicTicker\",\"id\":\"p1865\",\"attributes\":{\"mantissas\":[1,2,5]}},\"formatter\":{\"type\":\"object\",\"name\":\"BasicTickFormatter\",\"id\":\"p1866\"},\"major_label_policy\":{\"type\":\"object\",\"name\":\"AllLabels\",\"id\":\"p1867\"}}}],\"center\":[{\"type\":\"object\",\"name\":\"Grid\",\"id\":\"p1868\",\"attributes\":{\"axis\":{\"id\":\"p1864\"}}},{\"type\":\"object\",\"name\":\"Grid\",\"id\":\"p1873\",\"attributes\":{\"dimension\":1,\"axis\":{\"id\":\"p1869\"}}}],\"background_fill_color\":\"#fafafa\"}},{\"type\":\"object\",\"name\":\"Figure\",\"id\":\"p1896\",\"attributes\":{\"width\":250,\"height\":250,\"x_range\":{\"type\":\"object\",\"name\":\"DataRange1d\",\"id\":\"p1897\"},\"y_range\":{\"type\":\"object\",\"name\":\"DataRange1d\",\"id\":\"p1898\"},\"x_scale\":{\"type\":\"object\",\"name\":\"LinearScale\",\"id\":\"p1905\"},\"y_scale\":{\"type\":\"object\",\"name\":\"LinearScale\",\"id\":\"p1906\"},\"title\":{\"type\":\"object\",\"name\":\"Title\",\"id\":\"p1903\"},\"renderers\":[{\"type\":\"object\",\"name\":\"GlyphRenderer\",\"id\":\"p1936\",\"attributes\":{\"data_source\":{\"type\":\"object\",\"name\":\"ColumnDataSource\",\"id\":\"p1930\",\"attributes\":{\"selected\":{\"type\":\"object\",\"name\":\"Selection\",\"id\":\"p1931\",\"attributes\":{\"indices\":[],\"line_indices\":[]}},\"selection_policy\":{\"type\":\"object\",\"name\":\"UnionRenderers\",\"id\":\"p1932\"},\"data\":{\"type\":\"map\",\"entries\":[[\"x\",[0,1,2,3,4,5,6,7,8,9,10]],[\"y\",[0,1,2,3,4,5,6,7,8,9,10]]]}}},\"view\":{\"type\":\"object\",\"name\":\"CDSView\",\"id\":\"p1937\",\"attributes\":{\"filter\":{\"type\":\"object\",\"name\":\"AllIndices\",\"id\":\"p1938\"}}},\"glyph\":{\"type\":\"object\",\"name\":\"Scatter\",\"id\":\"p1933\",\"attributes\":{\"x\":{\"type\":\"field\",\"field\":\"x\"},\"y\":{\"type\":\"field\",\"field\":\"y\"},\"size\":{\"type\":\"value\",\"value\":12},\"line_color\":{\"type\":\"value\",\"value\":\"#d95b43\"},\"line_alpha\":{\"type\":\"value\",\"value\":0.8},\"fill_color\":{\"type\":\"value\",\"value\":\"#d95b43\"},\"fill_alpha\":{\"type\":\"value\",\"value\":0.8},\"hatch_color\":{\"type\":\"value\",\"value\":\"#d95b43\"},\"hatch_alpha\":{\"type\":\"value\",\"value\":0.8},\"marker\":{\"type\":\"value\",\"value\":\"square\"}}},\"nonselection_glyph\":{\"type\":\"object\",\"name\":\"Scatter\",\"id\":\"p1934\",\"attributes\":{\"x\":{\"type\":\"field\",\"field\":\"x\"},\"y\":{\"type\":\"field\",\"field\":\"y\"},\"size\":{\"type\":\"value\",\"value\":12},\"line_color\":{\"type\":\"value\",\"value\":\"#d95b43\"},\"line_alpha\":{\"type\":\"value\",\"value\":0.1},\"fill_color\":{\"type\":\"value\",\"value\":\"#d95b43\"},\"fill_alpha\":{\"type\":\"value\",\"value\":0.1},\"hatch_color\":{\"type\":\"value\",\"value\":\"#d95b43\"},\"hatch_alpha\":{\"type\":\"value\",\"value\":0.1},\"marker\":{\"type\":\"value\",\"value\":\"square\"}}},\"muted_glyph\":{\"type\":\"object\",\"name\":\"Scatter\",\"id\":\"p1935\",\"attributes\":{\"x\":{\"type\":\"field\",\"field\":\"x\"},\"y\":{\"type\":\"field\",\"field\":\"y\"},\"size\":{\"type\":\"value\",\"value\":12},\"line_color\":{\"type\":\"value\",\"value\":\"#d95b43\"},\"line_alpha\":{\"type\":\"value\",\"value\":0.2},\"fill_color\":{\"type\":\"value\",\"value\":\"#d95b43\"},\"fill_alpha\":{\"type\":\"value\",\"value\":0.2},\"hatch_color\":{\"type\":\"value\",\"value\":\"#d95b43\"},\"hatch_alpha\":{\"type\":\"value\",\"value\":0.2},\"marker\":{\"type\":\"value\",\"value\":\"square\"}}}}}],\"toolbar\":{\"type\":\"object\",\"name\":\"Toolbar\",\"id\":\"p1904\",\"attributes\":{\"autohide\":true,\"tools\":[{\"type\":\"object\",\"name\":\"PanTool\",\"id\":\"p1917\"},{\"type\":\"object\",\"name\":\"WheelZoomTool\",\"id\":\"p1918\",\"attributes\":{\"renderers\":\"auto\"}},{\"type\":\"object\",\"name\":\"BoxZoomTool\",\"id\":\"p1919\",\"attributes\":{\"overlay\":{\"type\":\"object\",\"name\":\"BoxAnnotation\",\"id\":\"p1920\",\"attributes\":{\"syncable\":false,\"line_color\":\"black\",\"line_alpha\":1.0,\"line_width\":2,\"line_dash\":[4,4],\"fill_color\":\"lightgrey\",\"fill_alpha\":0.5,\"level\":\"overlay\",\"visible\":false,\"left\":{\"type\":\"number\",\"value\":\"nan\"},\"right\":{\"type\":\"number\",\"value\":\"nan\"},\"top\":{\"type\":\"number\",\"value\":\"nan\"},\"bottom\":{\"type\":\"number\",\"value\":\"nan\"},\"left_units\":\"canvas\",\"right_units\":\"canvas\",\"top_units\":\"canvas\",\"bottom_units\":\"canvas\",\"handles\":{\"type\":\"object\",\"name\":\"BoxInteractionHandles\",\"id\":\"p1926\",\"attributes\":{\"all\":{\"type\":\"object\",\"name\":\"AreaVisuals\",\"id\":\"p1925\",\"attributes\":{\"fill_color\":\"white\",\"hover_fill_color\":\"lightgray\"}}}}}}}},{\"type\":\"object\",\"name\":\"SaveTool\",\"id\":\"p1927\"},{\"type\":\"object\",\"name\":\"ResetTool\",\"id\":\"p1928\"},{\"type\":\"object\",\"name\":\"HelpTool\",\"id\":\"p1929\"}]}},\"toolbar_location\":\"below\",\"toolbar_inner\":true,\"left\":[{\"type\":\"object\",\"name\":\"LinearAxis\",\"id\":\"p1912\",\"attributes\":{\"ticker\":{\"type\":\"object\",\"name\":\"BasicTicker\",\"id\":\"p1913\",\"attributes\":{\"mantissas\":[1,2,5]}},\"formatter\":{\"type\":\"object\",\"name\":\"BasicTickFormatter\",\"id\":\"p1914\"},\"major_label_policy\":{\"type\":\"object\",\"name\":\"AllLabels\",\"id\":\"p1915\"}}}],\"below\":[{\"type\":\"object\",\"name\":\"LinearAxis\",\"id\":\"p1907\",\"attributes\":{\"ticker\":{\"type\":\"object\",\"name\":\"BasicTicker\",\"id\":\"p1908\",\"attributes\":{\"mantissas\":[1,2,5]}},\"formatter\":{\"type\":\"object\",\"name\":\"BasicTickFormatter\",\"id\":\"p1909\"},\"major_label_policy\":{\"type\":\"object\",\"name\":\"AllLabels\",\"id\":\"p1910\"}}}],\"center\":[{\"type\":\"object\",\"name\":\"Grid\",\"id\":\"p1911\",\"attributes\":{\"axis\":{\"id\":\"p1907\"}}},{\"type\":\"object\",\"name\":\"Grid\",\"id\":\"p1916\",\"attributes\":{\"dimension\":1,\"axis\":{\"id\":\"p1912\"}}}],\"background_fill_color\":\"#fafafa\"}}]}}]}};\n",
       "  const render_items = [{\"docid\":\"5d231921-8a41-465c-829c-33a323767201\",\"roots\":{\"p1941\":\"baf71991-7e51-4529-8fdf-30e255df4df1\"},\"root_ids\":[\"p1941\"]}];\n",
       "  void root.Bokeh.embed.embed_items_notebook(docs_json, render_items);\n",
       "  }\n",
       "  if (root.Bokeh !== undefined) {\n",
       "    embed_document(root);\n",
       "  } else {\n",
       "    let attempts = 0;\n",
       "    const timer = setInterval(function(root) {\n",
       "      if (root.Bokeh !== undefined) {\n",
       "        clearInterval(timer);\n",
       "        embed_document(root);\n",
       "      } else {\n",
       "        attempts++;\n",
       "        if (attempts > 100) {\n",
       "          clearInterval(timer);\n",
       "          console.log(\"Bokeh: ERROR: Unable to run BokehJS code because BokehJS library is missing\");\n",
       "        }\n",
       "      }\n",
       "    }, 10, root)\n",
       "  }\n",
       "})(window);"
      ],
      "application/vnd.bokehjs_exec.v0+json": ""
     },
     "metadata": {
      "application/vnd.bokehjs_exec.v0+json": {
       "id": "p1941"
      }
     },
     "output_type": "display_data"
    },
    {
     "name": "stdout",
     "output_type": "stream",
     "text": [
      "Opening in existing browser session.\n"
     ]
    }
   ],
   "source": [
    "show(row(children=[s1, s2, s3], sizing_mode='scale_width'))"
   ]
  },
  {
   "cell_type": "markdown",
   "id": "b3e1af66-4f89-43f4-866c-df389ba2aee0",
   "metadata": {},
   "source": [
    "# Save/Export"
   ]
  },
  {
   "cell_type": "markdown",
   "id": "7d2805ba-d195-4618-b983-fd9bc4fd7665",
   "metadata": {},
   "source": [
    "## To HTML"
   ]
  },
  {
   "cell_type": "code",
   "execution_count": 70,
   "id": "bda59492-8da3-4276-abf3-731d14b6c5b3",
   "metadata": {},
   "outputs": [],
   "source": [
    "from bokeh.plotting import output_file, save"
   ]
  },
  {
   "cell_type": "code",
   "execution_count": 71,
   "id": "75d18474-510c-4698-92ae-678b8e074451",
   "metadata": {},
   "outputs": [],
   "source": [
    "output_file(filename='../html/bokeh_test.html', \n",
    "           title='Bokeh HTML')"
   ]
  },
  {
   "cell_type": "code",
   "execution_count": 72,
   "id": "5d8b129b-f20d-4790-a399-a9cb43020e36",
   "metadata": {},
   "outputs": [
    {
     "data": {
      "text/plain": [
       "'/home/biscotty/Learning/GeoDSPython2/html/bokeh_test.html'"
      ]
     },
     "execution_count": 72,
     "metadata": {},
     "output_type": "execute_result"
    }
   ],
   "source": [
    "save(p)"
   ]
  },
  {
   "cell_type": "code",
   "execution_count": 73,
   "id": "91430961-d414-49c5-9add-b536c6ba62dc",
   "metadata": {},
   "outputs": [
    {
     "data": {
      "text/html": [
       "\n",
       "  <div id=\"fe125f32-9ba9-465d-93a8-3e45c70685a2\" data-root-id=\"p1767\" style=\"display: contents;\"></div>\n"
      ]
     },
     "metadata": {},
     "output_type": "display_data"
    },
    {
     "data": {
      "application/javascript": [
       "(function(root) {\n",
       "  function embed_document(root) {\n",
       "  const docs_json = {\"80c6f135-c5b1-43d3-aea6-db32ec65a6a8\":{\"version\":\"3.6.2\",\"title\":\"Bokeh Application\",\"roots\":[{\"type\":\"object\",\"name\":\"Figure\",\"id\":\"p1767\",\"attributes\":{\"width\":500,\"height\":250,\"x_range\":{\"type\":\"object\",\"name\":\"DataRange1d\",\"id\":\"p1768\"},\"y_range\":{\"type\":\"object\",\"name\":\"DataRange1d\",\"id\":\"p1769\"},\"x_scale\":{\"type\":\"object\",\"name\":\"LinearScale\",\"id\":\"p1776\"},\"y_scale\":{\"type\":\"object\",\"name\":\"LinearScale\",\"id\":\"p1777\"},\"title\":{\"type\":\"object\",\"name\":\"Title\",\"id\":\"p1774\"},\"renderers\":[{\"type\":\"object\",\"name\":\"GlyphRenderer\",\"id\":\"p1807\",\"attributes\":{\"data_source\":{\"type\":\"object\",\"name\":\"ColumnDataSource\",\"id\":\"p1801\",\"attributes\":{\"selected\":{\"type\":\"object\",\"name\":\"Selection\",\"id\":\"p1802\",\"attributes\":{\"indices\":[],\"line_indices\":[]}},\"selection_policy\":{\"type\":\"object\",\"name\":\"UnionRenderers\",\"id\":\"p1803\"},\"data\":{\"type\":\"map\",\"entries\":[[\"x\",[-32,-31,-30,-29,-28,-27,-26,-25,-24,-23,-22,-21,-20,-19,-18,-17,-16,-15,-14,-13,-12,-11,-10,-9,-8,-7,-6,-5,-4,-3,-2,-1,0,1,2,3,4,5,6,7,8,9,10,11,12,13,14,15,16,17,18,19,20,21,22,23,24,25,26,27,28,29,30,31,32]],[\"y\",[1024,961,900,841,784,729,676,625,576,529,484,441,400,361,324,289,256,225,196,169,144,121,100,81,64,49,36,25,16,9,4,1,0,1,4,9,16,25,36,49,64,81,100,121,144,169,196,225,256,289,324,361,400,441,484,529,576,625,676,729,784,841,900,961,1024]]]}}},\"view\":{\"type\":\"object\",\"name\":\"CDSView\",\"id\":\"p1808\",\"attributes\":{\"filter\":{\"type\":\"object\",\"name\":\"AllIndices\",\"id\":\"p1809\"}}},\"glyph\":{\"type\":\"object\",\"name\":\"Scatter\",\"id\":\"p1804\",\"attributes\":{\"x\":{\"type\":\"field\",\"field\":\"x\"},\"y\":{\"type\":\"field\",\"field\":\"y\"},\"size\":{\"type\":\"value\",\"value\":10},\"line_color\":{\"type\":\"field\",\"field\":\"y\",\"transform\":{\"type\":\"object\",\"name\":\"LinearColorMapper\",\"id\":\"p1766\",\"attributes\":{\"palette\":[\"#30123b\",\"#311542\",\"#32184a\",\"#341b51\",\"#351e58\",\"#36215f\",\"#372365\",\"#38266c\",\"#392972\",\"#3a2c79\",\"#3b2f7f\",\"#3c3285\",\"#3c358b\",\"#3d3791\",\"#3e3a96\",\"#3f3d9c\",\"#4040a1\",\"#4043a6\",\"#4145ab\",\"#4148b0\",\"#424bb5\",\"#434eba\",\"#4350be\",\"#4353c2\",\"#4456c7\",\"#4458cb\",\"#455bce\",\"#455ed2\",\"#4560d6\",\"#4563d9\",\"#4666dd\",\"#4668e0\",\"#466be3\",\"#466de6\",\"#4670e8\",\"#4673eb\",\"#4675ed\",\"#4678f0\",\"#467af2\",\"#467df4\",\"#467ff6\",\"#4682f8\",\"#4584f9\",\"#4587fb\",\"#4589fc\",\"#448cfd\",\"#438efd\",\"#4291fe\",\"#4193fe\",\"#4096fe\",\"#3f98fe\",\"#3e9bfe\",\"#3c9dfd\",\"#3ba0fc\",\"#39a2fc\",\"#38a5fb\",\"#36a8f9\",\"#34aaf8\",\"#33acf6\",\"#31aff5\",\"#2fb1f3\",\"#2db4f1\",\"#2bb6ef\",\"#2ab9ed\",\"#28bbeb\",\"#26bde9\",\"#25c0e6\",\"#23c2e4\",\"#21c4e1\",\"#20c6df\",\"#1ec9dc\",\"#1dcbda\",\"#1ccdd7\",\"#1bcfd4\",\"#1ad1d2\",\"#19d3cf\",\"#18d5cc\",\"#18d7ca\",\"#17d9c7\",\"#17dac4\",\"#17dcc2\",\"#17debf\",\"#18e0bd\",\"#18e1ba\",\"#19e3b8\",\"#1ae4b6\",\"#1be5b4\",\"#1de7b1\",\"#1ee8af\",\"#20e9ac\",\"#22eba9\",\"#24eca6\",\"#27eda3\",\"#29eea0\",\"#2cef9d\",\"#2ff09a\",\"#32f197\",\"#35f394\",\"#38f491\",\"#3bf48d\",\"#3ff58a\",\"#42f687\",\"#46f783\",\"#4af880\",\"#4df97c\",\"#51f979\",\"#55fa76\",\"#59fb72\",\"#5dfb6f\",\"#61fc6c\",\"#65fc68\",\"#69fd65\",\"#6dfd62\",\"#71fd5f\",\"#74fe5c\",\"#78fe59\",\"#7cfe56\",\"#80fe53\",\"#84fe50\",\"#87fe4d\",\"#8bfe4b\",\"#8efe48\",\"#92fe46\",\"#95fe44\",\"#98fe42\",\"#9bfd40\",\"#9efd3e\",\"#a1fc3d\",\"#a4fc3b\",\"#a6fb3a\",\"#a9fb39\",\"#acfa37\",\"#aef937\",\"#b1f836\",\"#b3f835\",\"#b6f735\",\"#b9f534\",\"#bbf434\",\"#bef334\",\"#c0f233\",\"#c3f133\",\"#c5ef33\",\"#c8ee33\",\"#caed33\",\"#cdeb34\",\"#cfea34\",\"#d1e834\",\"#d4e735\",\"#d6e535\",\"#d8e335\",\"#dae236\",\"#dde036\",\"#dfde36\",\"#e1dc37\",\"#e3da37\",\"#e5d838\",\"#e7d738\",\"#e8d538\",\"#ead339\",\"#ecd139\",\"#edcf39\",\"#efcd39\",\"#f0cb3a\",\"#f2c83a\",\"#f3c63a\",\"#f4c43a\",\"#f6c23a\",\"#f7c039\",\"#f8be39\",\"#f9bc39\",\"#f9ba38\",\"#fab737\",\"#fbb537\",\"#fbb336\",\"#fcb035\",\"#fcae34\",\"#fdab33\",\"#fda932\",\"#fda631\",\"#fda330\",\"#fea12f\",\"#fe9e2e\",\"#fe9b2d\",\"#fe982c\",\"#fd952b\",\"#fd9229\",\"#fd8f28\",\"#fd8c27\",\"#fc8926\",\"#fc8624\",\"#fb8323\",\"#fb8022\",\"#fa7d20\",\"#fa7a1f\",\"#f9771e\",\"#f8741c\",\"#f7711b\",\"#f76e1a\",\"#f66b18\",\"#f56817\",\"#f46516\",\"#f36315\",\"#f26014\",\"#f15d13\",\"#ef5a11\",\"#ee5810\",\"#ed550f\",\"#ec520e\",\"#ea500d\",\"#e94d0d\",\"#e84b0c\",\"#e6490b\",\"#e5460a\",\"#e3440a\",\"#e24209\",\"#e04008\",\"#de3e08\",\"#dd3c07\",\"#db3a07\",\"#d93806\",\"#d73606\",\"#d63405\",\"#d43205\",\"#d23005\",\"#d02f04\",\"#ce2d04\",\"#cb2b03\",\"#c92903\",\"#c72803\",\"#c52602\",\"#c32402\",\"#c02302\",\"#be2102\",\"#bb1f01\",\"#b91e01\",\"#b61c01\",\"#b41b01\",\"#b11901\",\"#ae1801\",\"#ac1601\",\"#a91501\",\"#a61401\",\"#a31201\",\"#a01101\",\"#9d1001\",\"#9a0e01\",\"#970d01\",\"#940c01\",\"#910b01\",\"#8e0a01\",\"#8b0901\",\"#870801\",\"#840701\",\"#810602\",\"#7d0502\",\"#7a0402\"],\"low\":0,\"high\":1024}}},\"fill_color\":{\"type\":\"field\",\"field\":\"y\",\"transform\":{\"id\":\"p1766\"}},\"hatch_color\":{\"type\":\"field\",\"field\":\"y\",\"transform\":{\"id\":\"p1766\"}}}},\"nonselection_glyph\":{\"type\":\"object\",\"name\":\"Scatter\",\"id\":\"p1805\",\"attributes\":{\"x\":{\"type\":\"field\",\"field\":\"x\"},\"y\":{\"type\":\"field\",\"field\":\"y\"},\"size\":{\"type\":\"value\",\"value\":10},\"line_color\":{\"type\":\"field\",\"field\":\"y\",\"transform\":{\"id\":\"p1766\"}},\"line_alpha\":{\"type\":\"value\",\"value\":0.1},\"fill_color\":{\"type\":\"field\",\"field\":\"y\",\"transform\":{\"id\":\"p1766\"}},\"fill_alpha\":{\"type\":\"value\",\"value\":0.1},\"hatch_color\":{\"type\":\"field\",\"field\":\"y\",\"transform\":{\"id\":\"p1766\"}},\"hatch_alpha\":{\"type\":\"value\",\"value\":0.1}}},\"muted_glyph\":{\"type\":\"object\",\"name\":\"Scatter\",\"id\":\"p1806\",\"attributes\":{\"x\":{\"type\":\"field\",\"field\":\"x\"},\"y\":{\"type\":\"field\",\"field\":\"y\"},\"size\":{\"type\":\"value\",\"value\":10},\"line_color\":{\"type\":\"field\",\"field\":\"y\",\"transform\":{\"id\":\"p1766\"}},\"line_alpha\":{\"type\":\"value\",\"value\":0.2},\"fill_color\":{\"type\":\"field\",\"field\":\"y\",\"transform\":{\"id\":\"p1766\"}},\"fill_alpha\":{\"type\":\"value\",\"value\":0.2},\"hatch_color\":{\"type\":\"field\",\"field\":\"y\",\"transform\":{\"id\":\"p1766\"}},\"hatch_alpha\":{\"type\":\"value\",\"value\":0.2}}}}}],\"toolbar\":{\"type\":\"object\",\"name\":\"Toolbar\",\"id\":\"p1775\",\"attributes\":{\"tools\":[{\"type\":\"object\",\"name\":\"PanTool\",\"id\":\"p1788\"},{\"type\":\"object\",\"name\":\"WheelZoomTool\",\"id\":\"p1789\",\"attributes\":{\"renderers\":\"auto\"}},{\"type\":\"object\",\"name\":\"BoxZoomTool\",\"id\":\"p1790\",\"attributes\":{\"overlay\":{\"type\":\"object\",\"name\":\"BoxAnnotation\",\"id\":\"p1791\",\"attributes\":{\"syncable\":false,\"line_color\":\"black\",\"line_alpha\":1.0,\"line_width\":2,\"line_dash\":[4,4],\"fill_color\":\"lightgrey\",\"fill_alpha\":0.5,\"level\":\"overlay\",\"visible\":false,\"left\":{\"type\":\"number\",\"value\":\"nan\"},\"right\":{\"type\":\"number\",\"value\":\"nan\"},\"top\":{\"type\":\"number\",\"value\":\"nan\"},\"bottom\":{\"type\":\"number\",\"value\":\"nan\"},\"left_units\":\"canvas\",\"right_units\":\"canvas\",\"top_units\":\"canvas\",\"bottom_units\":\"canvas\",\"handles\":{\"type\":\"object\",\"name\":\"BoxInteractionHandles\",\"id\":\"p1797\",\"attributes\":{\"all\":{\"type\":\"object\",\"name\":\"AreaVisuals\",\"id\":\"p1796\",\"attributes\":{\"fill_color\":\"white\",\"hover_fill_color\":\"lightgray\"}}}}}}}},{\"type\":\"object\",\"name\":\"SaveTool\",\"id\":\"p1798\"},{\"type\":\"object\",\"name\":\"ResetTool\",\"id\":\"p1799\"},{\"type\":\"object\",\"name\":\"HelpTool\",\"id\":\"p1800\"}]}},\"left\":[{\"type\":\"object\",\"name\":\"LinearAxis\",\"id\":\"p1783\",\"attributes\":{\"ticker\":{\"type\":\"object\",\"name\":\"BasicTicker\",\"id\":\"p1784\",\"attributes\":{\"mantissas\":[1,2,5]}},\"formatter\":{\"type\":\"object\",\"name\":\"BasicTickFormatter\",\"id\":\"p1785\"},\"major_label_policy\":{\"type\":\"object\",\"name\":\"AllLabels\",\"id\":\"p1786\"}}}],\"below\":[{\"type\":\"object\",\"name\":\"LinearAxis\",\"id\":\"p1778\",\"attributes\":{\"ticker\":{\"type\":\"object\",\"name\":\"BasicTicker\",\"id\":\"p1779\",\"attributes\":{\"mantissas\":[1,2,5]}},\"formatter\":{\"type\":\"object\",\"name\":\"BasicTickFormatter\",\"id\":\"p1780\"},\"major_label_policy\":{\"type\":\"object\",\"name\":\"AllLabels\",\"id\":\"p1781\"}}}],\"center\":[{\"type\":\"object\",\"name\":\"Grid\",\"id\":\"p1782\",\"attributes\":{\"axis\":{\"id\":\"p1778\"}}},{\"type\":\"object\",\"name\":\"Grid\",\"id\":\"p1787\",\"attributes\":{\"dimension\":1,\"axis\":{\"id\":\"p1783\"}}}]}}]}};\n",
       "  const render_items = [{\"docid\":\"80c6f135-c5b1-43d3-aea6-db32ec65a6a8\",\"roots\":{\"p1767\":\"fe125f32-9ba9-465d-93a8-3e45c70685a2\"},\"root_ids\":[\"p1767\"]}];\n",
       "  void root.Bokeh.embed.embed_items_notebook(docs_json, render_items);\n",
       "  }\n",
       "  if (root.Bokeh !== undefined) {\n",
       "    embed_document(root);\n",
       "  } else {\n",
       "    let attempts = 0;\n",
       "    const timer = setInterval(function(root) {\n",
       "      if (root.Bokeh !== undefined) {\n",
       "        clearInterval(timer);\n",
       "        embed_document(root);\n",
       "      } else {\n",
       "        attempts++;\n",
       "        if (attempts > 100) {\n",
       "          clearInterval(timer);\n",
       "          console.log(\"Bokeh: ERROR: Unable to run BokehJS code because BokehJS library is missing\");\n",
       "        }\n",
       "      }\n",
       "    }, 10, root)\n",
       "  }\n",
       "})(window);"
      ],
      "application/vnd.bokehjs_exec.v0+json": ""
     },
     "metadata": {
      "application/vnd.bokehjs_exec.v0+json": {
       "id": "p1767"
      }
     },
     "output_type": "display_data"
    },
    {
     "name": "stdout",
     "output_type": "stream",
     "text": [
      "Opening in existing browser session.\n"
     ]
    }
   ],
   "source": [
    "show(p)"
   ]
  },
  {
   "cell_type": "markdown",
   "id": "4c66c209-88af-4bb8-b385-1dc722b01d82",
   "metadata": {},
   "source": [
    "## To PNG"
   ]
  },
  {
   "cell_type": "code",
   "execution_count": 74,
   "id": "bdee32fb-9904-4179-a5af-9d81c8e1b839",
   "metadata": {},
   "outputs": [],
   "source": [
    "from bokeh.io import export_png"
   ]
  },
  {
   "cell_type": "code",
   "execution_count": 24,
   "id": "b7524a59-20f5-4a87-b308-c2d3d984fb2f",
   "metadata": {},
   "outputs": [
    {
     "data": {
      "text/plain": [
       "'/home/biscotty/Learning/GeoDSPython2/images/Boheh_png.png'"
      ]
     },
     "execution_count": 24,
     "metadata": {},
     "output_type": "execute_result"
    }
   ],
   "source": [
    "export_png(p, filename='../images/Boheh_png.png')"
   ]
  },
  {
   "cell_type": "markdown",
   "id": "3a601dba-ea29-42be-b3a9-0495b7018377",
   "metadata": {},
   "source": [
    "# ColumnDataSource"
   ]
  },
  {
   "cell_type": "code",
   "execution_count": 25,
   "id": "3169c23c-98c0-4305-8629-17ff57b97c04",
   "metadata": {},
   "outputs": [],
   "source": [
    "from bokeh.models import ColumnDataSource"
   ]
  },
  {
   "cell_type": "code",
   "execution_count": 26,
   "id": "1148a7f2-0b7e-4283-a71d-eb58fbcbb418",
   "metadata": {},
   "outputs": [],
   "source": [
    "data = {'x_values': [1,2,3,4,5], \n",
    "       'y_values': [6,7,2,3,6]}"
   ]
  },
  {
   "cell_type": "code",
   "execution_count": 27,
   "id": "e10381b3-fea8-4262-bfa9-015169af0655",
   "metadata": {},
   "outputs": [],
   "source": [
    "source = ColumnDataSource(data=data)"
   ]
  },
  {
   "cell_type": "code",
   "execution_count": 28,
   "id": "0f484385-41f8-4c51-9147-58a2433cf1a4",
   "metadata": {},
   "outputs": [
    {
     "data": {
      "text/html": [
       "\n",
       "  <div id=\"e8731826-a188-453b-8a1c-6cfb39d220bc\" data-root-id=\"p1280\" style=\"display: contents;\"></div>\n"
      ]
     },
     "metadata": {},
     "output_type": "display_data"
    },
    {
     "data": {
      "application/javascript": [
       "(function(root) {\n",
       "  function embed_document(root) {\n",
       "  const docs_json = {\"df7e2147-bb37-47f0-baaf-a149d93e6be1\":{\"version\":\"3.6.2\",\"title\":\"Bokeh Application\",\"roots\":[{\"type\":\"object\",\"name\":\"Figure\",\"id\":\"p1280\",\"attributes\":{\"height\":250,\"x_range\":{\"type\":\"object\",\"name\":\"DataRange1d\",\"id\":\"p1281\"},\"y_range\":{\"type\":\"object\",\"name\":\"DataRange1d\",\"id\":\"p1282\"},\"x_scale\":{\"type\":\"object\",\"name\":\"LinearScale\",\"id\":\"p1289\"},\"y_scale\":{\"type\":\"object\",\"name\":\"LinearScale\",\"id\":\"p1290\"},\"title\":{\"type\":\"object\",\"name\":\"Title\",\"id\":\"p1287\"},\"renderers\":[{\"type\":\"object\",\"name\":\"GlyphRenderer\",\"id\":\"p1320\",\"attributes\":{\"data_source\":{\"type\":\"object\",\"name\":\"ColumnDataSource\",\"id\":\"p1277\",\"attributes\":{\"selected\":{\"type\":\"object\",\"name\":\"Selection\",\"id\":\"p1278\",\"attributes\":{\"indices\":[],\"line_indices\":[]}},\"selection_policy\":{\"type\":\"object\",\"name\":\"UnionRenderers\",\"id\":\"p1279\"},\"data\":{\"type\":\"map\",\"entries\":[[\"x_values\",[1,2,3,4,5]],[\"y_values\",[6,7,2,3,6]]]}}},\"view\":{\"type\":\"object\",\"name\":\"CDSView\",\"id\":\"p1321\",\"attributes\":{\"filter\":{\"type\":\"object\",\"name\":\"AllIndices\",\"id\":\"p1322\"}}},\"glyph\":{\"type\":\"object\",\"name\":\"Scatter\",\"id\":\"p1317\",\"attributes\":{\"x\":{\"type\":\"field\",\"field\":\"x_values\"},\"y\":{\"type\":\"field\",\"field\":\"y_values\"},\"size\":{\"type\":\"value\",\"value\":20},\"line_color\":{\"type\":\"value\",\"value\":\"#1f77b4\"},\"fill_color\":{\"type\":\"value\",\"value\":\"#1f77b4\"}}},\"nonselection_glyph\":{\"type\":\"object\",\"name\":\"Scatter\",\"id\":\"p1318\",\"attributes\":{\"x\":{\"type\":\"field\",\"field\":\"x_values\"},\"y\":{\"type\":\"field\",\"field\":\"y_values\"},\"size\":{\"type\":\"value\",\"value\":20},\"line_color\":{\"type\":\"value\",\"value\":\"#1f77b4\"},\"line_alpha\":{\"type\":\"value\",\"value\":0.1},\"fill_color\":{\"type\":\"value\",\"value\":\"#1f77b4\"},\"fill_alpha\":{\"type\":\"value\",\"value\":0.1},\"hatch_alpha\":{\"type\":\"value\",\"value\":0.1}}},\"muted_glyph\":{\"type\":\"object\",\"name\":\"Scatter\",\"id\":\"p1319\",\"attributes\":{\"x\":{\"type\":\"field\",\"field\":\"x_values\"},\"y\":{\"type\":\"field\",\"field\":\"y_values\"},\"size\":{\"type\":\"value\",\"value\":20},\"line_color\":{\"type\":\"value\",\"value\":\"#1f77b4\"},\"line_alpha\":{\"type\":\"value\",\"value\":0.2},\"fill_color\":{\"type\":\"value\",\"value\":\"#1f77b4\"},\"fill_alpha\":{\"type\":\"value\",\"value\":0.2},\"hatch_alpha\":{\"type\":\"value\",\"value\":0.2}}}}}],\"toolbar\":{\"type\":\"object\",\"name\":\"Toolbar\",\"id\":\"p1288\",\"attributes\":{\"tools\":[{\"type\":\"object\",\"name\":\"PanTool\",\"id\":\"p1301\"},{\"type\":\"object\",\"name\":\"WheelZoomTool\",\"id\":\"p1302\",\"attributes\":{\"renderers\":\"auto\"}},{\"type\":\"object\",\"name\":\"BoxZoomTool\",\"id\":\"p1303\",\"attributes\":{\"overlay\":{\"type\":\"object\",\"name\":\"BoxAnnotation\",\"id\":\"p1304\",\"attributes\":{\"syncable\":false,\"line_color\":\"black\",\"line_alpha\":1.0,\"line_width\":2,\"line_dash\":[4,4],\"fill_color\":\"lightgrey\",\"fill_alpha\":0.5,\"level\":\"overlay\",\"visible\":false,\"left\":{\"type\":\"number\",\"value\":\"nan\"},\"right\":{\"type\":\"number\",\"value\":\"nan\"},\"top\":{\"type\":\"number\",\"value\":\"nan\"},\"bottom\":{\"type\":\"number\",\"value\":\"nan\"},\"left_units\":\"canvas\",\"right_units\":\"canvas\",\"top_units\":\"canvas\",\"bottom_units\":\"canvas\",\"handles\":{\"type\":\"object\",\"name\":\"BoxInteractionHandles\",\"id\":\"p1310\",\"attributes\":{\"all\":{\"type\":\"object\",\"name\":\"AreaVisuals\",\"id\":\"p1309\",\"attributes\":{\"fill_color\":\"white\",\"hover_fill_color\":\"lightgray\"}}}}}}}},{\"type\":\"object\",\"name\":\"SaveTool\",\"id\":\"p1311\"},{\"type\":\"object\",\"name\":\"ResetTool\",\"id\":\"p1312\"},{\"type\":\"object\",\"name\":\"HelpTool\",\"id\":\"p1313\"}]}},\"left\":[{\"type\":\"object\",\"name\":\"LinearAxis\",\"id\":\"p1296\",\"attributes\":{\"ticker\":{\"type\":\"object\",\"name\":\"BasicTicker\",\"id\":\"p1297\",\"attributes\":{\"mantissas\":[1,2,5]}},\"formatter\":{\"type\":\"object\",\"name\":\"BasicTickFormatter\",\"id\":\"p1298\"},\"major_label_policy\":{\"type\":\"object\",\"name\":\"AllLabels\",\"id\":\"p1299\"}}}],\"below\":[{\"type\":\"object\",\"name\":\"LinearAxis\",\"id\":\"p1291\",\"attributes\":{\"ticker\":{\"type\":\"object\",\"name\":\"BasicTicker\",\"id\":\"p1292\",\"attributes\":{\"mantissas\":[1,2,5]}},\"formatter\":{\"type\":\"object\",\"name\":\"BasicTickFormatter\",\"id\":\"p1293\"},\"major_label_policy\":{\"type\":\"object\",\"name\":\"AllLabels\",\"id\":\"p1294\"}}}],\"center\":[{\"type\":\"object\",\"name\":\"Grid\",\"id\":\"p1295\",\"attributes\":{\"axis\":{\"id\":\"p1291\"}}},{\"type\":\"object\",\"name\":\"Grid\",\"id\":\"p1300\",\"attributes\":{\"dimension\":1,\"axis\":{\"id\":\"p1296\"}}}]}}]}};\n",
       "  const render_items = [{\"docid\":\"df7e2147-bb37-47f0-baaf-a149d93e6be1\",\"roots\":{\"p1280\":\"e8731826-a188-453b-8a1c-6cfb39d220bc\"},\"root_ids\":[\"p1280\"]}];\n",
       "  void root.Bokeh.embed.embed_items_notebook(docs_json, render_items);\n",
       "  }\n",
       "  if (root.Bokeh !== undefined) {\n",
       "    embed_document(root);\n",
       "  } else {\n",
       "    let attempts = 0;\n",
       "    const timer = setInterval(function(root) {\n",
       "      if (root.Bokeh !== undefined) {\n",
       "        clearInterval(timer);\n",
       "        embed_document(root);\n",
       "      } else {\n",
       "        attempts++;\n",
       "        if (attempts > 100) {\n",
       "          clearInterval(timer);\n",
       "          console.log(\"Bokeh: ERROR: Unable to run BokehJS code because BokehJS library is missing\");\n",
       "        }\n",
       "      }\n",
       "    }, 10, root)\n",
       "  }\n",
       "})(window);"
      ],
      "application/vnd.bokehjs_exec.v0+json": ""
     },
     "metadata": {
      "application/vnd.bokehjs_exec.v0+json": {
       "id": "p1280"
      }
     },
     "output_type": "display_data"
    },
    {
     "name": "stdout",
     "output_type": "stream",
     "text": [
      "Opening in existing browser session.\n"
     ]
    }
   ],
   "source": [
    "p = figure(height=250)\n",
    "p.scatter(x='x_values', y='y_values', source=source, size=20)\n",
    "show(p)"
   ]
  },
  {
   "cell_type": "code",
   "execution_count": 29,
   "id": "d080210c-dad4-4c47-8b88-814f9ff352c6",
   "metadata": {},
   "outputs": [],
   "source": [
    "import pandas as pd"
   ]
  },
  {
   "cell_type": "code",
   "execution_count": 32,
   "id": "d0b04f35-77f8-4914-b2cb-8dbd51fba825",
   "metadata": {},
   "outputs": [],
   "source": [
    "df = pd.DataFrame(data)"
   ]
  },
  {
   "cell_type": "code",
   "execution_count": 33,
   "id": "17e6dd42-0a60-4fe6-8cd7-e4b49e1dd1ea",
   "metadata": {},
   "outputs": [
    {
     "data": {
      "text/plain": [
       "Index(['x_values', 'y_values'], dtype='object')"
      ]
     },
     "execution_count": 33,
     "metadata": {},
     "output_type": "execute_result"
    }
   ],
   "source": [
    "df.columns"
   ]
  },
  {
   "cell_type": "code",
   "execution_count": 34,
   "id": "9eaa62e1-d955-4a33-a57c-78f117dec7c2",
   "metadata": {},
   "outputs": [
    {
     "data": {
      "text/html": [
       "\n",
       "  <div id=\"d15f41ac-5534-42d7-ac36-9f5516388560\" data-root-id=\"p1326\" style=\"display: contents;\"></div>\n"
      ]
     },
     "metadata": {},
     "output_type": "display_data"
    },
    {
     "data": {
      "application/javascript": [
       "(function(root) {\n",
       "  function embed_document(root) {\n",
       "  const docs_json = {\"fc5d929e-6d00-43c5-a3a7-58fff2b95822\":{\"version\":\"3.6.2\",\"title\":\"Bokeh Application\",\"roots\":[{\"type\":\"object\",\"name\":\"Figure\",\"id\":\"p1326\",\"attributes\":{\"height\":250,\"x_range\":{\"type\":\"object\",\"name\":\"DataRange1d\",\"id\":\"p1327\"},\"y_range\":{\"type\":\"object\",\"name\":\"DataRange1d\",\"id\":\"p1328\"},\"x_scale\":{\"type\":\"object\",\"name\":\"LinearScale\",\"id\":\"p1335\"},\"y_scale\":{\"type\":\"object\",\"name\":\"LinearScale\",\"id\":\"p1336\"},\"title\":{\"type\":\"object\",\"name\":\"Title\",\"id\":\"p1333\"},\"renderers\":[{\"type\":\"object\",\"name\":\"GlyphRenderer\",\"id\":\"p1366\",\"attributes\":{\"data_source\":{\"type\":\"object\",\"name\":\"ColumnDataSource\",\"id\":\"p1323\",\"attributes\":{\"selected\":{\"type\":\"object\",\"name\":\"Selection\",\"id\":\"p1324\",\"attributes\":{\"indices\":[],\"line_indices\":[]}},\"selection_policy\":{\"type\":\"object\",\"name\":\"UnionRenderers\",\"id\":\"p1325\"},\"data\":{\"type\":\"map\",\"entries\":[[\"index\",{\"type\":\"ndarray\",\"array\":{\"type\":\"bytes\",\"data\":\"AAAAAAEAAAACAAAAAwAAAAQAAAA=\"},\"shape\":[5],\"dtype\":\"int32\",\"order\":\"little\"}],[\"x_values\",{\"type\":\"ndarray\",\"array\":{\"type\":\"bytes\",\"data\":\"AQAAAAIAAAADAAAABAAAAAUAAAA=\"},\"shape\":[5],\"dtype\":\"int32\",\"order\":\"little\"}],[\"y_values\",{\"type\":\"ndarray\",\"array\":{\"type\":\"bytes\",\"data\":\"BgAAAAcAAAACAAAAAwAAAAYAAAA=\"},\"shape\":[5],\"dtype\":\"int32\",\"order\":\"little\"}]]}}},\"view\":{\"type\":\"object\",\"name\":\"CDSView\",\"id\":\"p1367\",\"attributes\":{\"filter\":{\"type\":\"object\",\"name\":\"AllIndices\",\"id\":\"p1368\"}}},\"glyph\":{\"type\":\"object\",\"name\":\"Scatter\",\"id\":\"p1363\",\"attributes\":{\"x\":{\"type\":\"field\",\"field\":\"x_values\"},\"y\":{\"type\":\"field\",\"field\":\"y_values\"},\"size\":{\"type\":\"value\",\"value\":20},\"line_color\":{\"type\":\"value\",\"value\":\"#1f77b4\"},\"fill_color\":{\"type\":\"value\",\"value\":\"#1f77b4\"}}},\"nonselection_glyph\":{\"type\":\"object\",\"name\":\"Scatter\",\"id\":\"p1364\",\"attributes\":{\"x\":{\"type\":\"field\",\"field\":\"x_values\"},\"y\":{\"type\":\"field\",\"field\":\"y_values\"},\"size\":{\"type\":\"value\",\"value\":20},\"line_color\":{\"type\":\"value\",\"value\":\"#1f77b4\"},\"line_alpha\":{\"type\":\"value\",\"value\":0.1},\"fill_color\":{\"type\":\"value\",\"value\":\"#1f77b4\"},\"fill_alpha\":{\"type\":\"value\",\"value\":0.1},\"hatch_alpha\":{\"type\":\"value\",\"value\":0.1}}},\"muted_glyph\":{\"type\":\"object\",\"name\":\"Scatter\",\"id\":\"p1365\",\"attributes\":{\"x\":{\"type\":\"field\",\"field\":\"x_values\"},\"y\":{\"type\":\"field\",\"field\":\"y_values\"},\"size\":{\"type\":\"value\",\"value\":20},\"line_color\":{\"type\":\"value\",\"value\":\"#1f77b4\"},\"line_alpha\":{\"type\":\"value\",\"value\":0.2},\"fill_color\":{\"type\":\"value\",\"value\":\"#1f77b4\"},\"fill_alpha\":{\"type\":\"value\",\"value\":0.2},\"hatch_alpha\":{\"type\":\"value\",\"value\":0.2}}}}}],\"toolbar\":{\"type\":\"object\",\"name\":\"Toolbar\",\"id\":\"p1334\",\"attributes\":{\"tools\":[{\"type\":\"object\",\"name\":\"PanTool\",\"id\":\"p1347\"},{\"type\":\"object\",\"name\":\"WheelZoomTool\",\"id\":\"p1348\",\"attributes\":{\"renderers\":\"auto\"}},{\"type\":\"object\",\"name\":\"BoxZoomTool\",\"id\":\"p1349\",\"attributes\":{\"overlay\":{\"type\":\"object\",\"name\":\"BoxAnnotation\",\"id\":\"p1350\",\"attributes\":{\"syncable\":false,\"line_color\":\"black\",\"line_alpha\":1.0,\"line_width\":2,\"line_dash\":[4,4],\"fill_color\":\"lightgrey\",\"fill_alpha\":0.5,\"level\":\"overlay\",\"visible\":false,\"left\":{\"type\":\"number\",\"value\":\"nan\"},\"right\":{\"type\":\"number\",\"value\":\"nan\"},\"top\":{\"type\":\"number\",\"value\":\"nan\"},\"bottom\":{\"type\":\"number\",\"value\":\"nan\"},\"left_units\":\"canvas\",\"right_units\":\"canvas\",\"top_units\":\"canvas\",\"bottom_units\":\"canvas\",\"handles\":{\"type\":\"object\",\"name\":\"BoxInteractionHandles\",\"id\":\"p1356\",\"attributes\":{\"all\":{\"type\":\"object\",\"name\":\"AreaVisuals\",\"id\":\"p1355\",\"attributes\":{\"fill_color\":\"white\",\"hover_fill_color\":\"lightgray\"}}}}}}}},{\"type\":\"object\",\"name\":\"SaveTool\",\"id\":\"p1357\"},{\"type\":\"object\",\"name\":\"ResetTool\",\"id\":\"p1358\"},{\"type\":\"object\",\"name\":\"HelpTool\",\"id\":\"p1359\"}]}},\"left\":[{\"type\":\"object\",\"name\":\"LinearAxis\",\"id\":\"p1342\",\"attributes\":{\"ticker\":{\"type\":\"object\",\"name\":\"BasicTicker\",\"id\":\"p1343\",\"attributes\":{\"mantissas\":[1,2,5]}},\"formatter\":{\"type\":\"object\",\"name\":\"BasicTickFormatter\",\"id\":\"p1344\"},\"major_label_policy\":{\"type\":\"object\",\"name\":\"AllLabels\",\"id\":\"p1345\"}}}],\"below\":[{\"type\":\"object\",\"name\":\"LinearAxis\",\"id\":\"p1337\",\"attributes\":{\"ticker\":{\"type\":\"object\",\"name\":\"BasicTicker\",\"id\":\"p1338\",\"attributes\":{\"mantissas\":[1,2,5]}},\"formatter\":{\"type\":\"object\",\"name\":\"BasicTickFormatter\",\"id\":\"p1339\"},\"major_label_policy\":{\"type\":\"object\",\"name\":\"AllLabels\",\"id\":\"p1340\"}}}],\"center\":[{\"type\":\"object\",\"name\":\"Grid\",\"id\":\"p1341\",\"attributes\":{\"axis\":{\"id\":\"p1337\"}}},{\"type\":\"object\",\"name\":\"Grid\",\"id\":\"p1346\",\"attributes\":{\"dimension\":1,\"axis\":{\"id\":\"p1342\"}}}]}}]}};\n",
       "  const render_items = [{\"docid\":\"fc5d929e-6d00-43c5-a3a7-58fff2b95822\",\"roots\":{\"p1326\":\"d15f41ac-5534-42d7-ac36-9f5516388560\"},\"root_ids\":[\"p1326\"]}];\n",
       "  void root.Bokeh.embed.embed_items_notebook(docs_json, render_items);\n",
       "  }\n",
       "  if (root.Bokeh !== undefined) {\n",
       "    embed_document(root);\n",
       "  } else {\n",
       "    let attempts = 0;\n",
       "    const timer = setInterval(function(root) {\n",
       "      if (root.Bokeh !== undefined) {\n",
       "        clearInterval(timer);\n",
       "        embed_document(root);\n",
       "      } else {\n",
       "        attempts++;\n",
       "        if (attempts > 100) {\n",
       "          clearInterval(timer);\n",
       "          console.log(\"Bokeh: ERROR: Unable to run BokehJS code because BokehJS library is missing\");\n",
       "        }\n",
       "      }\n",
       "    }, 10, root)\n",
       "  }\n",
       "})(window);"
      ],
      "application/vnd.bokehjs_exec.v0+json": ""
     },
     "metadata": {
      "application/vnd.bokehjs_exec.v0+json": {
       "id": "p1326"
      }
     },
     "output_type": "display_data"
    },
    {
     "name": "stdout",
     "output_type": "stream",
     "text": [
      "Opening in existing browser session.\n"
     ]
    }
   ],
   "source": [
    "source = ColumnDataSource(df)\n",
    "p = figure(height=250)\n",
    "p.scatter(x='x_values', y='y_values', source=source, size=20)\n",
    "show(p)"
   ]
  },
  {
   "cell_type": "markdown",
   "id": "573008d0-503f-4d1e-8195-1677e9965215",
   "metadata": {},
   "source": [
    "# Filtering data\n",
    "\n",
    "`CDSView`"
   ]
  },
  {
   "cell_type": "code",
   "execution_count": 35,
   "id": "6f6d0c55-473a-4c90-8731-21ec35ea5ada",
   "metadata": {},
   "outputs": [],
   "source": [
    "from bokeh.layouts import gridplot\n",
    "from bokeh.models import CDSView, ColumnarDataSource, IndexFilter"
   ]
  },
  {
   "cell_type": "code",
   "execution_count": 40,
   "id": "c7cf830f-eeb4-445e-bb40-ecf031d03045",
   "metadata": {},
   "outputs": [],
   "source": [
    "source = ColumnDataSource(data=dict(x=[1, 2, 3, 4, 5], y=[1, 2, 3, 4, 5]))\n",
    "view = CDSView(filter=IndexFilter([0,2,4]))\n",
    "tools = ['box_select', 'hover', 'reset']"
   ]
  },
  {
   "cell_type": "code",
   "execution_count": 41,
   "id": "92578406-79ef-4aaf-9e9c-ddbcfd9f4ee3",
   "metadata": {},
   "outputs": [
    {
     "data": {
      "text/html": [
       "\n",
       "  <div id=\"d76cb945-a8c9-4897-b9aa-43ac87e6bde4\" data-root-id=\"p1607\" style=\"display: contents;\"></div>\n"
      ]
     },
     "metadata": {},
     "output_type": "display_data"
    },
    {
     "data": {
      "application/javascript": [
       "(function(root) {\n",
       "  function embed_document(root) {\n",
       "  const docs_json = {\"cf08f882-0583-4ba4-954b-49b524d7eb3a\":{\"version\":\"3.6.2\",\"title\":\"Bokeh Application\",\"roots\":[{\"type\":\"object\",\"name\":\"GridPlot\",\"id\":\"p1607\",\"attributes\":{\"rows\":null,\"cols\":null,\"toolbar\":{\"type\":\"object\",\"name\":\"Toolbar\",\"id\":\"p1606\",\"attributes\":{\"tools\":[{\"type\":\"object\",\"name\":\"ToolProxy\",\"id\":\"p1603\",\"attributes\":{\"tools\":[{\"type\":\"object\",\"name\":\"BoxSelectTool\",\"id\":\"p1542\",\"attributes\":{\"renderers\":\"auto\",\"overlay\":{\"type\":\"object\",\"name\":\"BoxAnnotation\",\"id\":\"p1543\",\"attributes\":{\"syncable\":false,\"line_color\":\"black\",\"line_alpha\":1.0,\"line_width\":2,\"line_dash\":[4,4],\"fill_color\":\"lightgrey\",\"fill_alpha\":0.5,\"level\":\"overlay\",\"visible\":false,\"left\":{\"type\":\"number\",\"value\":\"nan\"},\"right\":{\"type\":\"number\",\"value\":\"nan\"},\"top\":{\"type\":\"number\",\"value\":\"nan\"},\"bottom\":{\"type\":\"number\",\"value\":\"nan\"},\"editable\":true,\"handles\":{\"type\":\"object\",\"name\":\"BoxInteractionHandles\",\"id\":\"p1549\",\"attributes\":{\"all\":{\"type\":\"object\",\"name\":\"AreaVisuals\",\"id\":\"p1548\",\"attributes\":{\"fill_color\":\"white\",\"hover_fill_color\":\"lightgray\"}}}}}}}},{\"type\":\"object\",\"name\":\"BoxSelectTool\",\"id\":\"p1583\",\"attributes\":{\"renderers\":\"auto\",\"overlay\":{\"type\":\"object\",\"name\":\"BoxAnnotation\",\"id\":\"p1584\",\"attributes\":{\"syncable\":false,\"line_color\":\"black\",\"line_alpha\":1.0,\"line_width\":2,\"line_dash\":[4,4],\"fill_color\":\"lightgrey\",\"fill_alpha\":0.5,\"level\":\"overlay\",\"visible\":false,\"left\":{\"type\":\"number\",\"value\":\"nan\"},\"right\":{\"type\":\"number\",\"value\":\"nan\"},\"top\":{\"type\":\"number\",\"value\":\"nan\"},\"bottom\":{\"type\":\"number\",\"value\":\"nan\"},\"editable\":true,\"handles\":{\"type\":\"object\",\"name\":\"BoxInteractionHandles\",\"id\":\"p1590\",\"attributes\":{\"all\":{\"type\":\"object\",\"name\":\"AreaVisuals\",\"id\":\"p1589\",\"attributes\":{\"fill_color\":\"white\",\"hover_fill_color\":\"lightgray\"}}}}}}}}]}},{\"type\":\"object\",\"name\":\"ToolProxy\",\"id\":\"p1604\",\"attributes\":{\"tools\":[{\"type\":\"object\",\"name\":\"HoverTool\",\"id\":\"p1550\",\"attributes\":{\"renderers\":\"auto\"}},{\"type\":\"object\",\"name\":\"HoverTool\",\"id\":\"p1591\",\"attributes\":{\"renderers\":\"auto\"}}]}},{\"type\":\"object\",\"name\":\"ToolProxy\",\"id\":\"p1605\",\"attributes\":{\"tools\":[{\"type\":\"object\",\"name\":\"ResetTool\",\"id\":\"p1551\"},{\"type\":\"object\",\"name\":\"ResetTool\",\"id\":\"p1592\"}]}}]}},\"children\":[[{\"type\":\"object\",\"name\":\"Figure\",\"id\":\"p1521\",\"attributes\":{\"width\":300,\"height\":300,\"x_range\":{\"type\":\"object\",\"name\":\"DataRange1d\",\"id\":\"p1522\"},\"y_range\":{\"type\":\"object\",\"name\":\"DataRange1d\",\"id\":\"p1523\"},\"x_scale\":{\"type\":\"object\",\"name\":\"LinearScale\",\"id\":\"p1530\"},\"y_scale\":{\"type\":\"object\",\"name\":\"LinearScale\",\"id\":\"p1531\"},\"title\":{\"type\":\"object\",\"name\":\"Title\",\"id\":\"p1528\"},\"renderers\":[{\"type\":\"object\",\"name\":\"GlyphRenderer\",\"id\":\"p1559\",\"attributes\":{\"data_source\":{\"type\":\"object\",\"name\":\"ColumnDataSource\",\"id\":\"p1515\",\"attributes\":{\"selected\":{\"type\":\"object\",\"name\":\"Selection\",\"id\":\"p1516\",\"attributes\":{\"indices\":[],\"line_indices\":[]}},\"selection_policy\":{\"type\":\"object\",\"name\":\"UnionRenderers\",\"id\":\"p1517\"},\"data\":{\"type\":\"map\",\"entries\":[[\"x\",[1,2,3,4,5]],[\"y\",[1,2,3,4,5]]]}}},\"view\":{\"type\":\"object\",\"name\":\"CDSView\",\"id\":\"p1560\",\"attributes\":{\"filter\":{\"type\":\"object\",\"name\":\"AllIndices\",\"id\":\"p1561\"}}},\"glyph\":{\"type\":\"object\",\"name\":\"Scatter\",\"id\":\"p1555\",\"attributes\":{\"x\":{\"type\":\"field\",\"field\":\"x\"},\"y\":{\"type\":\"field\",\"field\":\"y\"},\"size\":{\"type\":\"value\",\"value\":10},\"line_color\":{\"type\":\"value\",\"value\":\"#1f77b4\"},\"fill_color\":{\"type\":\"value\",\"value\":\"#1f77b4\"}}},\"nonselection_glyph\":{\"type\":\"object\",\"name\":\"Scatter\",\"id\":\"p1556\",\"attributes\":{\"x\":{\"type\":\"field\",\"field\":\"x\"},\"y\":{\"type\":\"field\",\"field\":\"y\"},\"size\":{\"type\":\"value\",\"value\":10},\"line_color\":{\"type\":\"value\",\"value\":\"#1f77b4\"},\"line_alpha\":{\"type\":\"value\",\"value\":0.1},\"fill_color\":{\"type\":\"value\",\"value\":\"#1f77b4\"},\"fill_alpha\":{\"type\":\"value\",\"value\":0.1},\"hatch_alpha\":{\"type\":\"value\",\"value\":0.1}}},\"hover_glyph\":{\"type\":\"object\",\"name\":\"Scatter\",\"id\":\"p1557\",\"attributes\":{\"x\":{\"type\":\"field\",\"field\":\"x\"},\"y\":{\"type\":\"field\",\"field\":\"y\"},\"size\":{\"type\":\"value\",\"value\":10},\"line_color\":{\"type\":\"value\",\"value\":\"red\"},\"fill_color\":{\"type\":\"value\",\"value\":\"red\"},\"hatch_color\":{\"type\":\"value\",\"value\":\"red\"}}},\"muted_glyph\":{\"type\":\"object\",\"name\":\"Scatter\",\"id\":\"p1558\",\"attributes\":{\"x\":{\"type\":\"field\",\"field\":\"x\"},\"y\":{\"type\":\"field\",\"field\":\"y\"},\"size\":{\"type\":\"value\",\"value\":10},\"line_color\":{\"type\":\"value\",\"value\":\"#1f77b4\"},\"line_alpha\":{\"type\":\"value\",\"value\":0.2},\"fill_color\":{\"type\":\"value\",\"value\":\"#1f77b4\"},\"fill_alpha\":{\"type\":\"value\",\"value\":0.2},\"hatch_alpha\":{\"type\":\"value\",\"value\":0.2}}}}}],\"toolbar\":{\"type\":\"object\",\"name\":\"Toolbar\",\"id\":\"p1529\",\"attributes\":{\"tools\":[{\"id\":\"p1542\"},{\"id\":\"p1550\"},{\"id\":\"p1551\"}]}},\"toolbar_location\":null,\"left\":[{\"type\":\"object\",\"name\":\"LinearAxis\",\"id\":\"p1537\",\"attributes\":{\"ticker\":{\"type\":\"object\",\"name\":\"BasicTicker\",\"id\":\"p1538\",\"attributes\":{\"mantissas\":[1,2,5]}},\"formatter\":{\"type\":\"object\",\"name\":\"BasicTickFormatter\",\"id\":\"p1539\"},\"major_label_policy\":{\"type\":\"object\",\"name\":\"AllLabels\",\"id\":\"p1540\"}}}],\"below\":[{\"type\":\"object\",\"name\":\"LinearAxis\",\"id\":\"p1532\",\"attributes\":{\"ticker\":{\"type\":\"object\",\"name\":\"BasicTicker\",\"id\":\"p1533\",\"attributes\":{\"mantissas\":[1,2,5]}},\"formatter\":{\"type\":\"object\",\"name\":\"BasicTickFormatter\",\"id\":\"p1534\"},\"major_label_policy\":{\"type\":\"object\",\"name\":\"AllLabels\",\"id\":\"p1535\"}}}],\"center\":[{\"type\":\"object\",\"name\":\"Grid\",\"id\":\"p1536\",\"attributes\":{\"axis\":{\"id\":\"p1532\"}}},{\"type\":\"object\",\"name\":\"Grid\",\"id\":\"p1541\",\"attributes\":{\"dimension\":1,\"axis\":{\"id\":\"p1537\"}}}]}},0,0],[{\"type\":\"object\",\"name\":\"Figure\",\"id\":\"p1562\",\"attributes\":{\"width\":300,\"height\":300,\"x_range\":{\"type\":\"object\",\"name\":\"DataRange1d\",\"id\":\"p1563\"},\"y_range\":{\"type\":\"object\",\"name\":\"DataRange1d\",\"id\":\"p1564\"},\"x_scale\":{\"type\":\"object\",\"name\":\"LinearScale\",\"id\":\"p1571\"},\"y_scale\":{\"type\":\"object\",\"name\":\"LinearScale\",\"id\":\"p1572\"},\"title\":{\"type\":\"object\",\"name\":\"Title\",\"id\":\"p1569\"},\"renderers\":[{\"type\":\"object\",\"name\":\"GlyphRenderer\",\"id\":\"p1600\",\"attributes\":{\"data_source\":{\"id\":\"p1515\"},\"view\":{\"type\":\"object\",\"name\":\"CDSView\",\"id\":\"p1519\",\"attributes\":{\"filter\":{\"type\":\"object\",\"name\":\"IndexFilter\",\"id\":\"p1518\",\"attributes\":{\"indices\":[0,2,4]}}}},\"glyph\":{\"type\":\"object\",\"name\":\"Scatter\",\"id\":\"p1596\",\"attributes\":{\"x\":{\"type\":\"field\",\"field\":\"x\"},\"y\":{\"type\":\"field\",\"field\":\"y\"},\"size\":{\"type\":\"value\",\"value\":10},\"line_color\":{\"type\":\"value\",\"value\":\"#1f77b4\"},\"fill_color\":{\"type\":\"value\",\"value\":\"#1f77b4\"}}},\"nonselection_glyph\":{\"type\":\"object\",\"name\":\"Scatter\",\"id\":\"p1597\",\"attributes\":{\"x\":{\"type\":\"field\",\"field\":\"x\"},\"y\":{\"type\":\"field\",\"field\":\"y\"},\"size\":{\"type\":\"value\",\"value\":10},\"line_color\":{\"type\":\"value\",\"value\":\"#1f77b4\"},\"line_alpha\":{\"type\":\"value\",\"value\":0.1},\"fill_color\":{\"type\":\"value\",\"value\":\"#1f77b4\"},\"fill_alpha\":{\"type\":\"value\",\"value\":0.1},\"hatch_alpha\":{\"type\":\"value\",\"value\":0.1}}},\"hover_glyph\":{\"type\":\"object\",\"name\":\"Scatter\",\"id\":\"p1598\",\"attributes\":{\"x\":{\"type\":\"field\",\"field\":\"x\"},\"y\":{\"type\":\"field\",\"field\":\"y\"},\"size\":{\"type\":\"value\",\"value\":10},\"line_color\":{\"type\":\"value\",\"value\":\"red\"},\"fill_color\":{\"type\":\"value\",\"value\":\"red\"},\"hatch_color\":{\"type\":\"value\",\"value\":\"red\"}}},\"muted_glyph\":{\"type\":\"object\",\"name\":\"Scatter\",\"id\":\"p1599\",\"attributes\":{\"x\":{\"type\":\"field\",\"field\":\"x\"},\"y\":{\"type\":\"field\",\"field\":\"y\"},\"size\":{\"type\":\"value\",\"value\":10},\"line_color\":{\"type\":\"value\",\"value\":\"#1f77b4\"},\"line_alpha\":{\"type\":\"value\",\"value\":0.2},\"fill_color\":{\"type\":\"value\",\"value\":\"#1f77b4\"},\"fill_alpha\":{\"type\":\"value\",\"value\":0.2},\"hatch_alpha\":{\"type\":\"value\",\"value\":0.2}}}}}],\"toolbar\":{\"type\":\"object\",\"name\":\"Toolbar\",\"id\":\"p1570\",\"attributes\":{\"tools\":[{\"id\":\"p1583\"},{\"id\":\"p1591\"},{\"id\":\"p1592\"}]}},\"toolbar_location\":null,\"left\":[{\"type\":\"object\",\"name\":\"LinearAxis\",\"id\":\"p1578\",\"attributes\":{\"ticker\":{\"type\":\"object\",\"name\":\"BasicTicker\",\"id\":\"p1579\",\"attributes\":{\"mantissas\":[1,2,5]}},\"formatter\":{\"type\":\"object\",\"name\":\"BasicTickFormatter\",\"id\":\"p1580\"},\"major_label_policy\":{\"type\":\"object\",\"name\":\"AllLabels\",\"id\":\"p1581\"}}}],\"below\":[{\"type\":\"object\",\"name\":\"LinearAxis\",\"id\":\"p1573\",\"attributes\":{\"ticker\":{\"type\":\"object\",\"name\":\"BasicTicker\",\"id\":\"p1574\",\"attributes\":{\"mantissas\":[1,2,5]}},\"formatter\":{\"type\":\"object\",\"name\":\"BasicTickFormatter\",\"id\":\"p1575\"},\"major_label_policy\":{\"type\":\"object\",\"name\":\"AllLabels\",\"id\":\"p1576\"}}}],\"center\":[{\"type\":\"object\",\"name\":\"Grid\",\"id\":\"p1577\",\"attributes\":{\"axis\":{\"id\":\"p1573\"}}},{\"type\":\"object\",\"name\":\"Grid\",\"id\":\"p1582\",\"attributes\":{\"dimension\":1,\"axis\":{\"id\":\"p1578\"}}}]}},0,1]]}}]}};\n",
       "  const render_items = [{\"docid\":\"cf08f882-0583-4ba4-954b-49b524d7eb3a\",\"roots\":{\"p1607\":\"d76cb945-a8c9-4897-b9aa-43ac87e6bde4\"},\"root_ids\":[\"p1607\"]}];\n",
       "  void root.Bokeh.embed.embed_items_notebook(docs_json, render_items);\n",
       "  }\n",
       "  if (root.Bokeh !== undefined) {\n",
       "    embed_document(root);\n",
       "  } else {\n",
       "    let attempts = 0;\n",
       "    const timer = setInterval(function(root) {\n",
       "      if (root.Bokeh !== undefined) {\n",
       "        clearInterval(timer);\n",
       "        embed_document(root);\n",
       "      } else {\n",
       "        attempts++;\n",
       "        if (attempts > 100) {\n",
       "          clearInterval(timer);\n",
       "          console.log(\"Bokeh: ERROR: Unable to run BokehJS code because BokehJS library is missing\");\n",
       "        }\n",
       "      }\n",
       "    }, 10, root)\n",
       "  }\n",
       "})(window);"
      ],
      "application/vnd.bokehjs_exec.v0+json": ""
     },
     "metadata": {
      "application/vnd.bokehjs_exec.v0+json": {
       "id": "p1607"
      }
     },
     "output_type": "display_data"
    },
    {
     "name": "stdout",
     "output_type": "stream",
     "text": [
      "Opening in existing browser session.\n"
     ]
    }
   ],
   "source": [
    "p = figure(height=300, width=300, tools=tools)\n",
    "p.scatter(x='x', y='y', size=10, hover_color='red', \n",
    "          source=source)\n",
    "p_filtered = figure(height=300, width=300, tools=tools)\n",
    "p_filtered.scatter(x='x', y='y', size=10, hover_color='red', \n",
    "                   source=source, view=view)\n",
    "show(gridplot([[p, p_filtered]]))"
   ]
  },
  {
   "cell_type": "markdown",
   "id": "6a7f497d-9f51-4a46-a3b9-6d54085ba8ec",
   "metadata": {},
   "source": [
    "# Widgets"
   ]
  },
  {
   "cell_type": "code",
   "execution_count": 42,
   "id": "9f50409e-1434-4aa7-81f8-30cf931a1073",
   "metadata": {},
   "outputs": [],
   "source": [
    "from bokeh.models import Div, RangeSlider, Spinner"
   ]
  },
  {
   "cell_type": "code",
   "execution_count": 43,
   "id": "6c5c8a7b-ff4c-4fcd-b786-e5d867066d84",
   "metadata": {},
   "outputs": [],
   "source": [
    "x = [1, 2, 3, 4, 5, 6, 7, 8, 9, 10]\n",
    "y = [4, 5, 5, 7, 2, 6, 4, 9, 1, 3]\n",
    "\n",
    "p = figure(x_range=(1,9), width=500, height=250)\n",
    "points = p.scatter(x=x, y=y, size=30, fill_color=\"#21a7df\")"
   ]
  },
  {
   "cell_type": "code",
   "execution_count": 44,
   "id": "a8977890-b6ec-47d4-94ee-014b3a4536f8",
   "metadata": {},
   "outputs": [],
   "source": [
    "div = Div(\n",
    "    text='''\n",
    "        <p>Set circle size:</p>\n",
    "    ''', \n",
    "    width=200, height=30\n",
    ")"
   ]
  },
  {
   "cell_type": "code",
   "execution_count": 45,
   "id": "eed1ff19-dbf1-4865-8d62-6aeddbfc5563",
   "metadata": {},
   "outputs": [],
   "source": [
    "spinner = Spinner(\n",
    "    title='Circle size', \n",
    "    low=0, high=60, step=5, \n",
    "    value=points.glyph.size,\n",
    "    width=200\n",
    ")"
   ]
  },
  {
   "cell_type": "code",
   "execution_count": 46,
   "id": "84b7aa08-91b8-438e-a30b-a9c5a10c578c",
   "metadata": {},
   "outputs": [],
   "source": [
    "spinner.js_link('value', points.glyph, 'size')"
   ]
  },
  {
   "cell_type": "code",
   "execution_count": 47,
   "id": "87c04551-d4fe-4fb4-bc5f-4d871b706a3f",
   "metadata": {},
   "outputs": [],
   "source": [
    "range_slider = RangeSlider(\n",
    "    title='Adjust x-axis range', \n",
    "    start=0, end=10, step=1, \n",
    "    value=(p.x_range.start, p.x_range.end)\n",
    ")\n",
    "range_slider.js_link('value', p.x_range, 'start', attr_selector=0)\n",
    "range_slider.js_link('value', p.x_range, 'end', attr_selector=1)"
   ]
  },
  {
   "cell_type": "code",
   "execution_count": 49,
   "id": "fc5f69df-8c17-48b6-9fa7-099e09205869",
   "metadata": {},
   "outputs": [],
   "source": [
    "from bokeh.layouts import layout"
   ]
  },
  {
   "cell_type": "code",
   "execution_count": 50,
   "id": "bdb03dd6-8d35-4bc7-9744-54ce056493c7",
   "metadata": {},
   "outputs": [],
   "source": [
    "layout = layout([\n",
    "    [div, spinner], \n",
    "    [range_slider], \n",
    "    [p]\n",
    "])"
   ]
  },
  {
   "cell_type": "code",
   "execution_count": 51,
   "id": "a0fda571-9362-4bc5-8f7d-56867de4ac6c",
   "metadata": {},
   "outputs": [
    {
     "data": {
      "text/html": [
       "\n",
       "  <div id=\"b1dbc213-2195-4005-b862-8fb12e5fbf6d\" data-root-id=\"p1662\" style=\"display: contents;\"></div>\n"
      ]
     },
     "metadata": {},
     "output_type": "display_data"
    },
    {
     "data": {
      "application/javascript": [
       "(function(root) {\n",
       "  function embed_document(root) {\n",
       "  const docs_json = {\"081f5bd2-45d5-46ec-a9a7-b766f32ef899\":{\"version\":\"3.6.2\",\"title\":\"Bokeh Application\",\"roots\":[{\"type\":\"object\",\"name\":\"Column\",\"id\":\"p1662\",\"attributes\":{\"children\":[{\"type\":\"object\",\"name\":\"Row\",\"id\":\"p1659\",\"attributes\":{\"children\":[{\"type\":\"object\",\"name\":\"Div\",\"id\":\"p1653\",\"attributes\":{\"width\":200,\"height\":30,\"text\":\"\\n        <p>Set circle size:</p>\\n    \"}},{\"type\":\"object\",\"name\":\"Spinner\",\"id\":\"p1654\",\"attributes\":{\"js_property_callbacks\":{\"type\":\"map\",\"entries\":[[\"change:value\",[{\"type\":\"object\",\"name\":\"CustomJS\",\"id\":\"p1655\",\"attributes\":{\"args\":{\"type\":\"map\",\"entries\":[[\"other\",{\"type\":\"object\",\"name\":\"Scatter\",\"id\":\"p1647\",\"attributes\":{\"x\":{\"type\":\"field\",\"field\":\"x\"},\"y\":{\"type\":\"field\",\"field\":\"y\"},\"size\":{\"type\":\"value\",\"value\":30},\"line_color\":{\"type\":\"value\",\"value\":\"#1f77b4\"},\"fill_color\":{\"type\":\"value\",\"value\":\"#21a7df\"}}}]]},\"code\":\"other.size = this.value\"}}]]]},\"width\":200,\"title\":\"Circle size\",\"value\":30,\"low\":0,\"high\":60,\"step\":5}}]}},{\"type\":\"object\",\"name\":\"Row\",\"id\":\"p1660\",\"attributes\":{\"children\":[{\"type\":\"object\",\"name\":\"RangeSlider\",\"id\":\"p1656\",\"attributes\":{\"js_property_callbacks\":{\"type\":\"map\",\"entries\":[[\"change:value\",[{\"type\":\"object\",\"name\":\"CustomJS\",\"id\":\"p1657\",\"attributes\":{\"args\":{\"type\":\"map\",\"entries\":[[\"other\",{\"type\":\"object\",\"name\":\"Range1d\",\"id\":\"p1618\",\"attributes\":{\"start\":1,\"end\":9}}]]},\"code\":\"other.start = this.value[0]\"}},{\"type\":\"object\",\"name\":\"CustomJS\",\"id\":\"p1658\",\"attributes\":{\"args\":{\"type\":\"map\",\"entries\":[[\"other\",{\"id\":\"p1618\"}]]},\"code\":\"other.end = this.value[1]\"}}]]]},\"title\":\"Adjust x-axis range\",\"value\":[1,9],\"start\":0,\"end\":10}}]}},{\"type\":\"object\",\"name\":\"Row\",\"id\":\"p1661\",\"attributes\":{\"children\":[{\"type\":\"object\",\"name\":\"Figure\",\"id\":\"p1609\",\"attributes\":{\"width\":500,\"height\":250,\"x_range\":{\"id\":\"p1618\"},\"y_range\":{\"type\":\"object\",\"name\":\"DataRange1d\",\"id\":\"p1611\"},\"x_scale\":{\"type\":\"object\",\"name\":\"LinearScale\",\"id\":\"p1619\"},\"y_scale\":{\"type\":\"object\",\"name\":\"LinearScale\",\"id\":\"p1620\"},\"title\":{\"type\":\"object\",\"name\":\"Title\",\"id\":\"p1616\"},\"renderers\":[{\"type\":\"object\",\"name\":\"GlyphRenderer\",\"id\":\"p1650\",\"attributes\":{\"data_source\":{\"type\":\"object\",\"name\":\"ColumnDataSource\",\"id\":\"p1644\",\"attributes\":{\"selected\":{\"type\":\"object\",\"name\":\"Selection\",\"id\":\"p1645\",\"attributes\":{\"indices\":[],\"line_indices\":[]}},\"selection_policy\":{\"type\":\"object\",\"name\":\"UnionRenderers\",\"id\":\"p1646\"},\"data\":{\"type\":\"map\",\"entries\":[[\"x\",[1,2,3,4,5,6,7,8,9,10]],[\"y\",[4,5,5,7,2,6,4,9,1,3]]]}}},\"view\":{\"type\":\"object\",\"name\":\"CDSView\",\"id\":\"p1651\",\"attributes\":{\"filter\":{\"type\":\"object\",\"name\":\"AllIndices\",\"id\":\"p1652\"}}},\"glyph\":{\"id\":\"p1647\"},\"nonselection_glyph\":{\"type\":\"object\",\"name\":\"Scatter\",\"id\":\"p1648\",\"attributes\":{\"x\":{\"type\":\"field\",\"field\":\"x\"},\"y\":{\"type\":\"field\",\"field\":\"y\"},\"size\":{\"type\":\"value\",\"value\":30},\"line_color\":{\"type\":\"value\",\"value\":\"#1f77b4\"},\"line_alpha\":{\"type\":\"value\",\"value\":0.1},\"fill_color\":{\"type\":\"value\",\"value\":\"#21a7df\"},\"fill_alpha\":{\"type\":\"value\",\"value\":0.1},\"hatch_alpha\":{\"type\":\"value\",\"value\":0.1}}},\"muted_glyph\":{\"type\":\"object\",\"name\":\"Scatter\",\"id\":\"p1649\",\"attributes\":{\"x\":{\"type\":\"field\",\"field\":\"x\"},\"y\":{\"type\":\"field\",\"field\":\"y\"},\"size\":{\"type\":\"value\",\"value\":30},\"line_color\":{\"type\":\"value\",\"value\":\"#1f77b4\"},\"line_alpha\":{\"type\":\"value\",\"value\":0.2},\"fill_color\":{\"type\":\"value\",\"value\":\"#21a7df\"},\"fill_alpha\":{\"type\":\"value\",\"value\":0.2},\"hatch_alpha\":{\"type\":\"value\",\"value\":0.2}}}}}],\"toolbar\":{\"type\":\"object\",\"name\":\"Toolbar\",\"id\":\"p1617\",\"attributes\":{\"tools\":[{\"type\":\"object\",\"name\":\"PanTool\",\"id\":\"p1631\"},{\"type\":\"object\",\"name\":\"WheelZoomTool\",\"id\":\"p1632\",\"attributes\":{\"renderers\":\"auto\"}},{\"type\":\"object\",\"name\":\"BoxZoomTool\",\"id\":\"p1633\",\"attributes\":{\"overlay\":{\"type\":\"object\",\"name\":\"BoxAnnotation\",\"id\":\"p1634\",\"attributes\":{\"syncable\":false,\"line_color\":\"black\",\"line_alpha\":1.0,\"line_width\":2,\"line_dash\":[4,4],\"fill_color\":\"lightgrey\",\"fill_alpha\":0.5,\"level\":\"overlay\",\"visible\":false,\"left\":{\"type\":\"number\",\"value\":\"nan\"},\"right\":{\"type\":\"number\",\"value\":\"nan\"},\"top\":{\"type\":\"number\",\"value\":\"nan\"},\"bottom\":{\"type\":\"number\",\"value\":\"nan\"},\"left_units\":\"canvas\",\"right_units\":\"canvas\",\"top_units\":\"canvas\",\"bottom_units\":\"canvas\",\"handles\":{\"type\":\"object\",\"name\":\"BoxInteractionHandles\",\"id\":\"p1640\",\"attributes\":{\"all\":{\"type\":\"object\",\"name\":\"AreaVisuals\",\"id\":\"p1639\",\"attributes\":{\"fill_color\":\"white\",\"hover_fill_color\":\"lightgray\"}}}}}}}},{\"type\":\"object\",\"name\":\"SaveTool\",\"id\":\"p1641\"},{\"type\":\"object\",\"name\":\"ResetTool\",\"id\":\"p1642\"},{\"type\":\"object\",\"name\":\"HelpTool\",\"id\":\"p1643\"}]}},\"left\":[{\"type\":\"object\",\"name\":\"LinearAxis\",\"id\":\"p1626\",\"attributes\":{\"ticker\":{\"type\":\"object\",\"name\":\"BasicTicker\",\"id\":\"p1627\",\"attributes\":{\"mantissas\":[1,2,5]}},\"formatter\":{\"type\":\"object\",\"name\":\"BasicTickFormatter\",\"id\":\"p1628\"},\"major_label_policy\":{\"type\":\"object\",\"name\":\"AllLabels\",\"id\":\"p1629\"}}}],\"below\":[{\"type\":\"object\",\"name\":\"LinearAxis\",\"id\":\"p1621\",\"attributes\":{\"ticker\":{\"type\":\"object\",\"name\":\"BasicTicker\",\"id\":\"p1622\",\"attributes\":{\"mantissas\":[1,2,5]}},\"formatter\":{\"type\":\"object\",\"name\":\"BasicTickFormatter\",\"id\":\"p1623\"},\"major_label_policy\":{\"type\":\"object\",\"name\":\"AllLabels\",\"id\":\"p1624\"}}}],\"center\":[{\"type\":\"object\",\"name\":\"Grid\",\"id\":\"p1625\",\"attributes\":{\"axis\":{\"id\":\"p1621\"}}},{\"type\":\"object\",\"name\":\"Grid\",\"id\":\"p1630\",\"attributes\":{\"dimension\":1,\"axis\":{\"id\":\"p1626\"}}}]}}]}}]}}]}};\n",
       "  const render_items = [{\"docid\":\"081f5bd2-45d5-46ec-a9a7-b766f32ef899\",\"roots\":{\"p1662\":\"b1dbc213-2195-4005-b862-8fb12e5fbf6d\"},\"root_ids\":[\"p1662\"]}];\n",
       "  void root.Bokeh.embed.embed_items_notebook(docs_json, render_items);\n",
       "  }\n",
       "  if (root.Bokeh !== undefined) {\n",
       "    embed_document(root);\n",
       "  } else {\n",
       "    let attempts = 0;\n",
       "    const timer = setInterval(function(root) {\n",
       "      if (root.Bokeh !== undefined) {\n",
       "        clearInterval(timer);\n",
       "        embed_document(root);\n",
       "      } else {\n",
       "        attempts++;\n",
       "        if (attempts > 100) {\n",
       "          clearInterval(timer);\n",
       "          console.log(\"Bokeh: ERROR: Unable to run BokehJS code because BokehJS library is missing\");\n",
       "        }\n",
       "      }\n",
       "    }, 10, root)\n",
       "  }\n",
       "})(window);"
      ],
      "application/vnd.bokehjs_exec.v0+json": ""
     },
     "metadata": {
      "application/vnd.bokehjs_exec.v0+json": {
       "id": "p1662"
      }
     },
     "output_type": "display_data"
    },
    {
     "name": "stdout",
     "output_type": "stream",
     "text": [
      "Opening in existing browser session.\n"
     ]
    }
   ],
   "source": [
    "show(layout)"
   ]
  },
  {
   "cell_type": "code",
   "execution_count": null,
   "id": "36d66f15-eeed-4157-8679-a5196e3a53e6",
   "metadata": {},
   "outputs": [],
   "source": []
  }
 ],
 "metadata": {
  "kernelspec": {
   "display_name": "Python 3 (ipykernel)",
   "language": "python",
   "name": "python3"
  },
  "language_info": {
   "codemirror_mode": {
    "name": "ipython",
    "version": 3
   },
   "file_extension": ".py",
   "mimetype": "text/x-python",
   "name": "python",
   "nbconvert_exporter": "python",
   "pygments_lexer": "ipython3",
   "version": "3.12.7"
  }
 },
 "nbformat": 4,
 "nbformat_minor": 5
}
