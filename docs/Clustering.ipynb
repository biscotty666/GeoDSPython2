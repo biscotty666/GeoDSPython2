{
 "cells": [
  {
   "cell_type": "code",
   "execution_count": 2,
   "id": "a63d0ff6-99e6-43f8-bec3-135116ab3c1e",
   "metadata": {},
   "outputs": [],
   "source": [
    "from esda.moran import Moran\n",
    "from libpysal.weights import Queen, KNN\n",
    "import seaborn as sns\n",
    "import pandas as pd\n",
    "import geopandas as gpd\n",
    "import numpy as np\n",
    "import matplotlib.pyplot as plt"
   ]
  },
  {
   "cell_type": "code",
   "execution_count": 3,
   "id": "9c9fd058-a298-43cf-a272-d385686fa12b",
   "metadata": {},
   "outputs": [],
   "source": [
    "db = gpd.read_file('../data/sandiego_tracts.gpkg')"
   ]
  },
  {
   "cell_type": "code",
   "execution_count": 4,
   "id": "085d4d1f-05d5-4ae1-b4c8-3cf61f648691",
   "metadata": {},
   "outputs": [],
   "source": [
    "cluster_variables = [\n",
    "    \"median_house_value\",  # Median house value\n",
    "    \"pct_white\",  # % tract population that is white\n",
    "    \"pct_rented\",  # % households that are rented\n",
    "    \"pct_hh_female\",  # % female-led households\n",
    "    \"pct_bachelor\",  # % tract population with a Bachelors degree\n",
    "    \"median_no_rooms\",  # Median n. of rooms in the tract's households\n",
    "    \"income_gini\",  # Gini index measuring tract wealth inequality\n",
    "    \"median_age\",  # Median age of tract population\n",
    "    \"tt_work\",  # Travel time to work\n",
    "]"
   ]
  },
  {
   "cell_type": "code",
   "execution_count": null,
   "id": "6783ef32-9737-4ed0-a1fb-6555bfc09920",
   "metadata": {},
   "outputs": [],
   "source": []
  }
 ],
 "metadata": {
  "kernelspec": {
   "display_name": "Python 3 (ipykernel)",
   "language": "python",
   "name": "python3"
  },
  "language_info": {
   "codemirror_mode": {
    "name": "ipython",
    "version": 3
   },
   "file_extension": ".py",
   "mimetype": "text/x-python",
   "name": "python",
   "nbconvert_exporter": "python",
   "pygments_lexer": "ipython3",
   "version": "3.12.7"
  }
 },
 "nbformat": 4,
 "nbformat_minor": 5
}
